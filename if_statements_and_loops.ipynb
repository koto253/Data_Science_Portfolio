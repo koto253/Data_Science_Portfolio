{
 "cells": [
  {
   "cell_type": "markdown",
   "id": "d8fa7f0c",
   "metadata": {},
   "source": [
    "# If statement"
   ]
  },
  {
   "cell_type": "code",
   "execution_count": 17,
   "id": "91dea0a8",
   "metadata": {},
   "outputs": [],
   "source": [
    "def sign(color):\n",
    "    if color == 'red':  # if statement\n",
    "        print('you are a republican')\n",
    "    elif color == 'blue':  # elif statemet\n",
    "        print('you are a democrat')\n",
    "    else:                  # else statement\n",
    "        print('you are independent or something else')"
   ]
  },
  {
   "cell_type": "code",
   "execution_count": 10,
   "id": "84663fd1",
   "metadata": {},
   "outputs": [
    {
     "name": "stdout",
     "output_type": "stream",
     "text": [
      "red\n",
      "you are a republican\n"
     ]
    }
   ],
   "source": [
    "sign(input())"
   ]
  },
  {
   "cell_type": "markdown",
   "id": "b0aa2abf",
   "metadata": {},
   "source": [
    "# Loop"
   ]
  },
  {
   "cell_type": "code",
   "execution_count": 14,
   "id": "5a3b8a68",
   "metadata": {},
   "outputs": [
    {
     "name": "stdout",
     "output_type": "stream",
     "text": [
      "I love Python\n",
      "I love Python\n",
      "I love Python\n",
      "I love Python\n",
      "I love Python\n"
     ]
    }
   ],
   "source": [
    "# for loop\n",
    "for i in range(1, 10, 2):\n",
    "    print('I love Python')"
   ]
  },
  {
   "cell_type": "code",
   "execution_count": 16,
   "id": "7ad0d403",
   "metadata": {},
   "outputs": [
    {
     "name": "stdout",
     "output_type": "stream",
     "text": [
      "0\n",
      "1\n",
      "2\n",
      "3\n",
      "4\n",
      "5\n",
      "6\n",
      "7\n",
      "8\n",
      "9\n"
     ]
    }
   ],
   "source": [
    "# while loop\n",
    "x = 0\n",
    "while x < 10:\n",
    "    print(x)\n",
    "    x = x + 1"
   ]
  },
  {
   "cell_type": "code",
   "execution_count": null,
   "id": "01ad1f9c",
   "metadata": {},
   "outputs": [],
   "source": []
  },
  {
   "cell_type": "code",
   "execution_count": null,
   "id": "fc6165cd",
   "metadata": {},
   "outputs": [],
   "source": []
  },
  {
   "cell_type": "code",
   "execution_count": null,
   "id": "f9e72494",
   "metadata": {},
   "outputs": [],
   "source": []
  }
 ],
 "metadata": {
  "kernelspec": {
   "display_name": "Python 3 (ipykernel)",
   "language": "python",
   "name": "python3"
  },
  "language_info": {
   "codemirror_mode": {
    "name": "ipython",
    "version": 3
   },
   "file_extension": ".py",
   "mimetype": "text/x-python",
   "name": "python",
   "nbconvert_exporter": "python",
   "pygments_lexer": "ipython3",
   "version": "3.11.5"
  }
 },
 "nbformat": 4,
 "nbformat_minor": 5
}
