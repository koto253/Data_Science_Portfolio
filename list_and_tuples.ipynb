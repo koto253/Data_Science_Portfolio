{
 "cells": [
  {
   "cell_type": "markdown",
   "id": "83aedd6b",
   "metadata": {},
   "source": [
    "# Data Structures"
   ]
  },
  {
   "cell_type": "code",
   "execution_count": 68,
   "id": "a601260d",
   "metadata": {},
   "outputs": [],
   "source": [
    "# list\n",
    "list_1 = [1, 3, 99, 63, 5, 84, 43, 58, 18, 22, 32, 51]\n",
    "cities = ['Paris', 'Berlin', 'columbus', 'Dubin', 'Powell']\n",
    "\n",
    "list_2 = [list_1, cities]\n",
    "list_3 = []"
   ]
  },
  {
   "cell_type": "code",
   "execution_count": 69,
   "id": "4b60b140",
   "metadata": {},
   "outputs": [
    {
     "name": "stdout",
     "output_type": "stream",
     "text": [
      "(2, 6, 1)\n",
      "5\n"
     ]
    }
   ],
   "source": [
    "# tuple\n",
    "tuple_1 = (1, 2, 6, 1, 7) # tuple is not mutable\n",
    "\n",
    "print(tuple_1[1: 4])\n",
    "print(len(tuple_1))"
   ]
  },
  {
   "cell_type": "code",
   "execution_count": 70,
   "id": "26ba7e6e",
   "metadata": {},
   "outputs": [],
   "source": [
    "# string\n",
    "name = 'Xma3l'"
   ]
  },
  {
   "cell_type": "code",
   "execution_count": 71,
   "id": "5696ddfe",
   "metadata": {},
   "outputs": [],
   "source": [
    "# list_3.extend(list_1)\n",
    "list_3.extend(cities)"
   ]
  },
  {
   "cell_type": "code",
   "execution_count": 72,
   "id": "77fb5c4a",
   "metadata": {},
   "outputs": [
    {
     "data": {
      "text/plain": [
       "['Paris', 'Berlin', 'columbus', 'Dubin', 'Powell']"
      ]
     },
     "execution_count": 72,
     "metadata": {},
     "output_type": "execute_result"
    }
   ],
   "source": [
    "list_3"
   ]
  },
  {
   "cell_type": "code",
   "execution_count": null,
   "id": "64f50786",
   "metadata": {},
   "outputs": [],
   "source": []
  },
  {
   "cell_type": "code",
   "execution_count": 73,
   "id": "261fb10d",
   "metadata": {},
   "outputs": [
    {
     "name": "stdout",
     "output_type": "stream",
     "text": [
      "Xma3l\n"
     ]
    }
   ],
   "source": [
    "a = name[1:3]\n",
    "b = name[0]\n",
    "c = name[-2:]\n",
    "\n",
    "fullname = b + a + c\n",
    "print(fullname)"
   ]
  },
  {
   "cell_type": "code",
   "execution_count": 74,
   "id": "fd82d608",
   "metadata": {},
   "outputs": [],
   "source": [
    "cities.append('Londres')\n"
   ]
  },
  {
   "cell_type": "code",
   "execution_count": 75,
   "id": "5b3dd6a4",
   "metadata": {},
   "outputs": [],
   "source": [
    "cities.insert(2, 'Bronx')"
   ]
  },
  {
   "cell_type": "code",
   "execution_count": 76,
   "id": "6bc273db",
   "metadata": {},
   "outputs": [],
   "source": [
    "city = ['Agadir', 'Matoto']\n",
    "cities.extend(city)"
   ]
  },
  {
   "cell_type": "code",
   "execution_count": 77,
   "id": "a2bffa9d",
   "metadata": {},
   "outputs": [
    {
     "data": {
      "text/plain": [
       "['Paris',\n",
       " 'Berlin',\n",
       " 'Bronx',\n",
       " 'columbus',\n",
       " 'Dubin',\n",
       " 'Powell',\n",
       " 'Londres',\n",
       " 'Agadir',\n",
       " 'Matoto']"
      ]
     },
     "execution_count": 77,
     "metadata": {},
     "output_type": "execute_result"
    }
   ],
   "source": [
    "cities"
   ]
  },
  {
   "cell_type": "code",
   "execution_count": 78,
   "id": "a537a591",
   "metadata": {},
   "outputs": [],
   "source": [
    "cities.append(city) # will a new list inside that list "
   ]
  },
  {
   "cell_type": "code",
   "execution_count": 79,
   "id": "c1bb310e",
   "metadata": {},
   "outputs": [
    {
     "data": {
      "text/plain": [
       "['Paris',\n",
       " 'Berlin',\n",
       " 'Bronx',\n",
       " 'columbus',\n",
       " 'Dubin',\n",
       " 'Powell',\n",
       " 'Londres',\n",
       " 'Agadir',\n",
       " 'Matoto',\n",
       " ['Agadir', 'Matoto']]"
      ]
     },
     "execution_count": 79,
     "metadata": {},
     "output_type": "execute_result"
    }
   ],
   "source": [
    "cities"
   ]
  },
  {
   "cell_type": "code",
   "execution_count": 80,
   "id": "11d81c66",
   "metadata": {},
   "outputs": [
    {
     "data": {
      "text/plain": [
       "['Agadir', 'Matoto']"
      ]
     },
     "execution_count": 80,
     "metadata": {},
     "output_type": "execute_result"
    }
   ],
   "source": [
    "cities.pop() "
   ]
  },
  {
   "cell_type": "code",
   "execution_count": 81,
   "id": "2cfc4629",
   "metadata": {},
   "outputs": [
    {
     "data": {
      "text/plain": [
       "'Matoto'"
      ]
     },
     "execution_count": 81,
     "metadata": {},
     "output_type": "execute_result"
    }
   ],
   "source": [
    "cities.pop()"
   ]
  },
  {
   "cell_type": "code",
   "execution_count": 82,
   "id": "be6926e7",
   "metadata": {},
   "outputs": [
    {
     "data": {
      "text/plain": [
       "['Paris',\n",
       " 'Berlin',\n",
       " 'Bronx',\n",
       " 'columbus',\n",
       " 'Dubin',\n",
       " 'Powell',\n",
       " 'Londres',\n",
       " 'Agadir']"
      ]
     },
     "execution_count": 82,
     "metadata": {},
     "output_type": "execute_result"
    }
   ],
   "source": [
    "cities"
   ]
  },
  {
   "cell_type": "code",
   "execution_count": 83,
   "id": "981395a0",
   "metadata": {},
   "outputs": [
    {
     "data": {
      "text/plain": [
       "8"
      ]
     },
     "execution_count": 83,
     "metadata": {},
     "output_type": "execute_result"
    }
   ],
   "source": [
    "len(cities)"
   ]
  },
  {
   "cell_type": "code",
   "execution_count": 84,
   "id": "4d5e2249",
   "metadata": {},
   "outputs": [],
   "source": [
    "cities.sort(reverse=True)"
   ]
  },
  {
   "cell_type": "code",
   "execution_count": 85,
   "id": "9249ed6f",
   "metadata": {},
   "outputs": [
    {
     "data": {
      "text/plain": [
       "['columbus',\n",
       " 'Powell',\n",
       " 'Paris',\n",
       " 'Londres',\n",
       " 'Dubin',\n",
       " 'Bronx',\n",
       " 'Berlin',\n",
       " 'Agadir']"
      ]
     },
     "execution_count": 85,
     "metadata": {},
     "output_type": "execute_result"
    }
   ],
   "source": [
    "cities"
   ]
  },
  {
   "cell_type": "code",
   "execution_count": 86,
   "id": "757fd226",
   "metadata": {},
   "outputs": [
    {
     "data": {
      "text/plain": [
       "['Columbus',\n",
       " 'Powell',\n",
       " 'Paris',\n",
       " 'Londres',\n",
       " 'Dubin',\n",
       " 'Bronx',\n",
       " 'Berlin',\n",
       " 'Agadir']"
      ]
     },
     "execution_count": 86,
     "metadata": {},
     "output_type": "execute_result"
    }
   ],
   "source": [
    "cities[0] = 'Columbus'\n",
    "cities"
   ]
  },
  {
   "cell_type": "code",
   "execution_count": 87,
   "id": "8712fb9d",
   "metadata": {},
   "outputs": [
    {
     "data": {
      "text/plain": [
       "['Powell',\n",
       " 'Paris',\n",
       " 'Londres',\n",
       " 'Dubin',\n",
       " 'Columbus',\n",
       " 'Bronx',\n",
       " 'Berlin',\n",
       " 'Agadir']"
      ]
     },
     "execution_count": 87,
     "metadata": {},
     "output_type": "execute_result"
    }
   ],
   "source": [
    "cities.sort(reverse=True)\n",
    "cities"
   ]
  },
  {
   "cell_type": "code",
   "execution_count": 88,
   "id": "6521f0c3",
   "metadata": {},
   "outputs": [
    {
     "name": "stdout",
     "output_type": "stream",
     "text": [
      "False\n"
     ]
    }
   ],
   "source": [
    "if 'Matoto' in cities:\n",
    "    print(True)\n",
    "else:\n",
    "    print(False)"
   ]
  },
  {
   "cell_type": "code",
   "execution_count": 89,
   "id": "7a90e876",
   "metadata": {},
   "outputs": [
    {
     "name": "stdout",
     "output_type": "stream",
     "text": [
      "Powell\n",
      "Paris\n",
      "Londres\n",
      "Dubin\n",
      "Columbus\n",
      "Bronx\n",
      "Berlin\n",
      "Agadir\n"
     ]
    }
   ],
   "source": [
    "for ville in (cities):\n",
    "    print(ville)"
   ]
  },
  {
   "cell_type": "code",
   "execution_count": 90,
   "id": "c941e076",
   "metadata": {},
   "outputs": [
    {
     "name": "stdout",
     "output_type": "stream",
     "text": [
      "1 Powell\n",
      "2 Paris\n",
      "3 Londres\n",
      "4 Dubin\n",
      "5 Columbus\n",
      "6 Bronx\n",
      "7 Berlin\n",
      "8 Agadir\n"
     ]
    }
   ],
   "source": [
    "for i, ville in enumerate(cities):\n",
    "    print(i + 1, ville)\n",
    "    "
   ]
  },
  {
   "cell_type": "code",
   "execution_count": 91,
   "id": "bc7ff514",
   "metadata": {},
   "outputs": [
    {
     "name": "stdout",
     "output_type": "stream",
     "text": [
      "1 Powell\n",
      "3 Paris\n",
      "99 Londres\n",
      "63 Dubin\n",
      "5 Columbus\n",
      "84 Bronx\n",
      "43 Berlin\n",
      "58 Agadir\n"
     ]
    }
   ],
   "source": [
    "for x, y in zip(list_1, cities):\n",
    "    print(x, y)"
   ]
  },
  {
   "cell_type": "code",
   "execution_count": null,
   "id": "e6e9d6b3",
   "metadata": {},
   "outputs": [],
   "source": []
  },
  {
   "cell_type": "code",
   "execution_count": null,
   "id": "061951a2",
   "metadata": {},
   "outputs": [],
   "source": []
  },
  {
   "cell_type": "code",
   "execution_count": null,
   "id": "63c15dc0",
   "metadata": {},
   "outputs": [],
   "source": []
  },
  {
   "cell_type": "code",
   "execution_count": null,
   "id": "ca4910b1",
   "metadata": {},
   "outputs": [],
   "source": []
  }
 ],
 "metadata": {
  "kernelspec": {
   "display_name": "Python 3 (ipykernel)",
   "language": "python",
   "name": "python3"
  },
  "language_info": {
   "codemirror_mode": {
    "name": "ipython",
    "version": 3
   },
   "file_extension": ".py",
   "mimetype": "text/x-python",
   "name": "python",
   "nbconvert_exporter": "python",
   "pygments_lexer": "ipython3",
   "version": "3.11.5"
  }
 },
 "nbformat": 4,
 "nbformat_minor": 5
}
