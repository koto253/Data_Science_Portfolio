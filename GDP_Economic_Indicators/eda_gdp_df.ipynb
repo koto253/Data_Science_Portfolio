{
 "cells": [
  {
   "cell_type": "code",
   "execution_count": 1,
   "metadata": {},
   "outputs": [],
   "source": [
    "import pandas as pd\n",
    "import numpy as np\n",
    "import matplotlib.pyplot as plt\n",
    "import seaborn as sns"
   ]
  },
  {
   "cell_type": "code",
   "execution_count": 2,
   "metadata": {},
   "outputs": [
    {
     "data": {
      "text/html": [
       "<div>\n",
       "<style scoped>\n",
       "    .dataframe tbody tr th:only-of-type {\n",
       "        vertical-align: middle;\n",
       "    }\n",
       "\n",
       "    .dataframe tbody tr th {\n",
       "        vertical-align: top;\n",
       "    }\n",
       "\n",
       "    .dataframe thead th {\n",
       "        text-align: right;\n",
       "    }\n",
       "</style>\n",
       "<table border=\"1\" class=\"dataframe\">\n",
       "  <thead>\n",
       "    <tr style=\"text-align: right;\">\n",
       "      <th></th>\n",
       "      <th>Country_Name</th>\n",
       "      <th>Year</th>\n",
       "      <th>Exports</th>\n",
       "      <th>GDP</th>\n",
       "      <th>GNI</th>\n",
       "      <th>Imports</th>\n",
       "      <th>Labor_Force</th>\n",
       "      <th>Population</th>\n",
       "    </tr>\n",
       "  </thead>\n",
       "  <tbody>\n",
       "    <tr>\n",
       "      <th>0</th>\n",
       "      <td>Afghanistan</td>\n",
       "      <td>2009</td>\n",
       "      <td>0.0</td>\n",
       "      <td>1.241615e+10</td>\n",
       "      <td>1.237834e+10</td>\n",
       "      <td>0.0</td>\n",
       "      <td>6504675</td>\n",
       "      <td>27385307</td>\n",
       "    </tr>\n",
       "    <tr>\n",
       "      <th>1</th>\n",
       "      <td>Afghanistan</td>\n",
       "      <td>2010</td>\n",
       "      <td>0.0</td>\n",
       "      <td>1.585667e+10</td>\n",
       "      <td>1.588578e+10</td>\n",
       "      <td>0.0</td>\n",
       "      <td>6738587</td>\n",
       "      <td>28189672</td>\n",
       "    </tr>\n",
       "    <tr>\n",
       "      <th>2</th>\n",
       "      <td>Afghanistan</td>\n",
       "      <td>2011</td>\n",
       "      <td>0.0</td>\n",
       "      <td>1.780510e+10</td>\n",
       "      <td>1.778151e+10</td>\n",
       "      <td>0.0</td>\n",
       "      <td>7095658</td>\n",
       "      <td>29249157</td>\n",
       "    </tr>\n",
       "    <tr>\n",
       "      <th>3</th>\n",
       "      <td>Afghanistan</td>\n",
       "      <td>2012</td>\n",
       "      <td>0.0</td>\n",
       "      <td>1.990733e+10</td>\n",
       "      <td>1.996126e+10</td>\n",
       "      <td>0.0</td>\n",
       "      <td>7520865</td>\n",
       "      <td>30466479</td>\n",
       "    </tr>\n",
       "    <tr>\n",
       "      <th>4</th>\n",
       "      <td>Afghanistan</td>\n",
       "      <td>2013</td>\n",
       "      <td>0.0</td>\n",
       "      <td>2.014642e+10</td>\n",
       "      <td>2.020935e+10</td>\n",
       "      <td>0.0</td>\n",
       "      <td>7881567</td>\n",
       "      <td>31541209</td>\n",
       "    </tr>\n",
       "  </tbody>\n",
       "</table>\n",
       "</div>"
      ],
      "text/plain": [
       "  Country_Name  Year  Exports           GDP           GNI  Imports  \\\n",
       "0  Afghanistan  2009      0.0  1.241615e+10  1.237834e+10      0.0   \n",
       "1  Afghanistan  2010      0.0  1.585667e+10  1.588578e+10      0.0   \n",
       "2  Afghanistan  2011      0.0  1.780510e+10  1.778151e+10      0.0   \n",
       "3  Afghanistan  2012      0.0  1.990733e+10  1.996126e+10      0.0   \n",
       "4  Afghanistan  2013      0.0  2.014642e+10  2.020935e+10      0.0   \n",
       "\n",
       "   Labor_Force  Population  \n",
       "0      6504675    27385307  \n",
       "1      6738587    28189672  \n",
       "2      7095658    29249157  \n",
       "3      7520865    30466479  \n",
       "4      7881567    31541209  "
      ]
     },
     "execution_count": 2,
     "metadata": {},
     "output_type": "execute_result"
    }
   ],
   "source": [
    "gdp_df = pd.read_csv('cleaned_gdp_df.csv')\n",
    "gdp_df.head()"
   ]
  },
  {
   "cell_type": "code",
   "execution_count": null,
   "metadata": {},
   "outputs": [],
   "source": []
  }
 ],
 "metadata": {
  "kernelspec": {
   "display_name": "Python 3",
   "language": "python",
   "name": "python3"
  },
  "language_info": {
   "codemirror_mode": {
    "name": "ipython",
    "version": 3
   },
   "file_extension": ".py",
   "mimetype": "text/x-python",
   "name": "python",
   "nbconvert_exporter": "python",
   "pygments_lexer": "ipython3",
   "version": "3.12.1"
  }
 },
 "nbformat": 4,
 "nbformat_minor": 2
}
