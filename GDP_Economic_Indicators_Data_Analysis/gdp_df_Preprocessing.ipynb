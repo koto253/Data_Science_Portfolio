{
 "cells": [
  {
   "cell_type": "markdown",
   "metadata": {},
   "source": [
    "## Importing Libraries"
   ]
  },
  {
   "cell_type": "code",
   "execution_count": 224,
   "metadata": {},
   "outputs": [],
   "source": [
    "import pandas as pd\n",
    "import numpy as np\n",
    "import matplotlib.pyplot as plt\n",
    "import seaborn as sns"
   ]
  },
  {
   "cell_type": "markdown",
   "metadata": {},
   "source": [
    "## Loading word development indicators dataset"
   ]
  },
  {
   "cell_type": "code",
   "execution_count": 225,
   "metadata": {},
   "outputs": [
    {
     "data": {
      "text/html": [
       "<div>\n",
       "<style scoped>\n",
       "    .dataframe tbody tr th:only-of-type {\n",
       "        vertical-align: middle;\n",
       "    }\n",
       "\n",
       "    .dataframe tbody tr th {\n",
       "        vertical-align: top;\n",
       "    }\n",
       "\n",
       "    .dataframe thead th {\n",
       "        text-align: right;\n",
       "    }\n",
       "</style>\n",
       "<table border=\"1\" class=\"dataframe\">\n",
       "  <thead>\n",
       "    <tr style=\"text-align: right;\">\n",
       "      <th></th>\n",
       "      <th>Country Name</th>\n",
       "      <th>Series Name</th>\n",
       "      <th>2009 [YR2009]</th>\n",
       "      <th>2010 [YR2010]</th>\n",
       "      <th>2011 [YR2011]</th>\n",
       "      <th>2012 [YR2012]</th>\n",
       "      <th>2013 [YR2013]</th>\n",
       "      <th>2014 [YR2014]</th>\n",
       "      <th>2015 [YR2015]</th>\n",
       "      <th>2016 [YR2016]</th>\n",
       "      <th>2017 [YR2017]</th>\n",
       "      <th>2018 [YR2018]</th>\n",
       "      <th>2019 [YR2019]</th>\n",
       "      <th>2020 [YR2020]</th>\n",
       "      <th>2021 [YR2021]</th>\n",
       "      <th>2022 [YR2022]</th>\n",
       "      <th>2023 [YR2023]</th>\n",
       "    </tr>\n",
       "  </thead>\n",
       "  <tbody>\n",
       "    <tr>\n",
       "      <th>0</th>\n",
       "      <td>Afghanistan</td>\n",
       "      <td>GDP (current US$)</td>\n",
       "      <td>12416152732.0567</td>\n",
       "      <td>15856668555.8336</td>\n",
       "      <td>17805098206.3141</td>\n",
       "      <td>19907329777.5872</td>\n",
       "      <td>20146416757.5987</td>\n",
       "      <td>20497128555.6972</td>\n",
       "      <td>19134221644.7325</td>\n",
       "      <td>18116572395.0772</td>\n",
       "      <td>18753456497.8159</td>\n",
       "      <td>18053222687.4126</td>\n",
       "      <td>18799444490.1128</td>\n",
       "      <td>19955929052.1496</td>\n",
       "      <td>14266499429.8746</td>\n",
       "      <td>14502158192.0904</td>\n",
       "      <td>..</td>\n",
       "    </tr>\n",
       "    <tr>\n",
       "      <th>1</th>\n",
       "      <td>Afghanistan</td>\n",
       "      <td>GNI (current US$)</td>\n",
       "      <td>12378340930.5187</td>\n",
       "      <td>15885775064.3022</td>\n",
       "      <td>17781511431.23</td>\n",
       "      <td>19961261595.0253</td>\n",
       "      <td>20209353657.8054</td>\n",
       "      <td>20559672324.9094</td>\n",
       "      <td>19249499438.7455</td>\n",
       "      <td>18350475875.2999</td>\n",
       "      <td>18961769787.4548</td>\n",
       "      <td>18294513957.5523</td>\n",
       "      <td>19080662010.7479</td>\n",
       "      <td>20105156769.1907</td>\n",
       "      <td>14352632363.74</td>\n",
       "      <td>14545219074.5763</td>\n",
       "      <td>..</td>\n",
       "    </tr>\n",
       "    <tr>\n",
       "      <th>2</th>\n",
       "      <td>Afghanistan</td>\n",
       "      <td>Imports of goods and services (current US$)</td>\n",
       "      <td>..</td>\n",
       "      <td>..</td>\n",
       "      <td>..</td>\n",
       "      <td>..</td>\n",
       "      <td>..</td>\n",
       "      <td>..</td>\n",
       "      <td>..</td>\n",
       "      <td>..</td>\n",
       "      <td>..</td>\n",
       "      <td>..</td>\n",
       "      <td>..</td>\n",
       "      <td>7241822542.17594</td>\n",
       "      <td>5288529076.39681</td>\n",
       "      <td>7904463276.83616</td>\n",
       "      <td>..</td>\n",
       "    </tr>\n",
       "  </tbody>\n",
       "</table>\n",
       "</div>"
      ],
      "text/plain": [
       "  Country Name                                  Series Name     2009 [YR2009]  \\\n",
       "0  Afghanistan                            GDP (current US$)  12416152732.0567   \n",
       "1  Afghanistan                            GNI (current US$)  12378340930.5187   \n",
       "2  Afghanistan  Imports of goods and services (current US$)                ..   \n",
       "\n",
       "      2010 [YR2010]     2011 [YR2011]     2012 [YR2012]     2013 [YR2013]  \\\n",
       "0  15856668555.8336  17805098206.3141  19907329777.5872  20146416757.5987   \n",
       "1  15885775064.3022    17781511431.23  19961261595.0253  20209353657.8054   \n",
       "2                ..                ..                ..                ..   \n",
       "\n",
       "      2014 [YR2014]     2015 [YR2015]     2016 [YR2016]     2017 [YR2017]  \\\n",
       "0  20497128555.6972  19134221644.7325  18116572395.0772  18753456497.8159   \n",
       "1  20559672324.9094  19249499438.7455  18350475875.2999  18961769787.4548   \n",
       "2                ..                ..                ..                ..   \n",
       "\n",
       "      2018 [YR2018]     2019 [YR2019]     2020 [YR2020]     2021 [YR2021]  \\\n",
       "0  18053222687.4126  18799444490.1128  19955929052.1496  14266499429.8746   \n",
       "1  18294513957.5523  19080662010.7479  20105156769.1907    14352632363.74   \n",
       "2                ..                ..  7241822542.17594  5288529076.39681   \n",
       "\n",
       "      2022 [YR2022] 2023 [YR2023]  \n",
       "0  14502158192.0904            ..  \n",
       "1  14545219074.5763            ..  \n",
       "2  7904463276.83616            ..  "
      ]
     },
     "execution_count": 225,
     "metadata": {},
     "output_type": "execute_result"
    }
   ],
   "source": [
    "gdp_df = pd.read_csv('/workspaces/Portfolio_Project/Dataset/word_develop_ind.csv')\n",
    "gdp_df.head(3)"
   ]
  },
  {
   "cell_type": "markdown",
   "metadata": {},
   "source": [
    "## Transforming the gdp dataset and renaming columns"
   ]
  },
  {
   "cell_type": "code",
   "execution_count": 226,
   "metadata": {},
   "outputs": [
    {
     "data": {
      "text/plain": [
       "Index(['Country Name', 'Series Name', '2009 [YR2009]', '2010 [YR2010]',\n",
       "       '2011 [YR2011]', '2012 [YR2012]', '2013 [YR2013]', '2014 [YR2014]',\n",
       "       '2015 [YR2015]', '2016 [YR2016]', '2017 [YR2017]', '2018 [YR2018]',\n",
       "       '2019 [YR2019]', '2020 [YR2020]', '2021 [YR2021]', '2022 [YR2022]',\n",
       "       '2023 [YR2023]'],\n",
       "      dtype='object')"
      ]
     },
     "execution_count": 226,
     "metadata": {},
     "output_type": "execute_result"
    }
   ],
   "source": [
    "gdp_df.columns"
   ]
  },
  {
   "cell_type": "code",
   "execution_count": 227,
   "metadata": {},
   "outputs": [
    {
     "data": {
      "text/html": [
       "<div>\n",
       "<style scoped>\n",
       "    .dataframe tbody tr th:only-of-type {\n",
       "        vertical-align: middle;\n",
       "    }\n",
       "\n",
       "    .dataframe tbody tr th {\n",
       "        vertical-align: top;\n",
       "    }\n",
       "\n",
       "    .dataframe thead th {\n",
       "        text-align: right;\n",
       "    }\n",
       "</style>\n",
       "<table border=\"1\" class=\"dataframe\">\n",
       "  <thead>\n",
       "    <tr style=\"text-align: right;\">\n",
       "      <th></th>\n",
       "      <th>Country Name</th>\n",
       "      <th>Series Name</th>\n",
       "      <th>Year</th>\n",
       "      <th>Value</th>\n",
       "    </tr>\n",
       "  </thead>\n",
       "  <tbody>\n",
       "    <tr>\n",
       "      <th>0</th>\n",
       "      <td>Afghanistan</td>\n",
       "      <td>GDP (current US$)</td>\n",
       "      <td>2009 [YR2009]</td>\n",
       "      <td>12416152732.0567</td>\n",
       "    </tr>\n",
       "    <tr>\n",
       "      <th>1</th>\n",
       "      <td>Afghanistan</td>\n",
       "      <td>GNI (current US$)</td>\n",
       "      <td>2009 [YR2009]</td>\n",
       "      <td>12378340930.5187</td>\n",
       "    </tr>\n",
       "    <tr>\n",
       "      <th>2</th>\n",
       "      <td>Afghanistan</td>\n",
       "      <td>Imports of goods and services (current US$)</td>\n",
       "      <td>2009 [YR2009]</td>\n",
       "      <td>..</td>\n",
       "    </tr>\n",
       "  </tbody>\n",
       "</table>\n",
       "</div>"
      ],
      "text/plain": [
       "  Country Name                                  Series Name           Year  \\\n",
       "0  Afghanistan                            GDP (current US$)  2009 [YR2009]   \n",
       "1  Afghanistan                            GNI (current US$)  2009 [YR2009]   \n",
       "2  Afghanistan  Imports of goods and services (current US$)  2009 [YR2009]   \n",
       "\n",
       "              Value  \n",
       "0  12416152732.0567  \n",
       "1  12378340930.5187  \n",
       "2                ..  "
      ]
     },
     "execution_count": 227,
     "metadata": {},
     "output_type": "execute_result"
    }
   ],
   "source": [
    "df_melted = gdp_df.melt(id_vars=['Country Name', 'Series Name'], var_name='Year', value_name='Value')\n",
    "df_melted.head(3)"
   ]
  },
  {
   "cell_type": "code",
   "execution_count": 228,
   "metadata": {},
   "outputs": [
    {
     "data": {
      "text/plain": [
       "pandas.core.frame.DataFrame"
      ]
     },
     "execution_count": 228,
     "metadata": {},
     "output_type": "execute_result"
    }
   ],
   "source": [
    "type(df_melted)"
   ]
  },
  {
   "cell_type": "code",
   "execution_count": 229,
   "metadata": {},
   "outputs": [
    {
     "data": {
      "text/html": [
       "<div>\n",
       "<style scoped>\n",
       "    .dataframe tbody tr th:only-of-type {\n",
       "        vertical-align: middle;\n",
       "    }\n",
       "\n",
       "    .dataframe tbody tr th {\n",
       "        vertical-align: top;\n",
       "    }\n",
       "\n",
       "    .dataframe thead th {\n",
       "        text-align: right;\n",
       "    }\n",
       "</style>\n",
       "<table border=\"1\" class=\"dataframe\">\n",
       "  <thead>\n",
       "    <tr style=\"text-align: right;\">\n",
       "      <th>Series Name</th>\n",
       "      <th>Country Name</th>\n",
       "      <th>Year</th>\n",
       "      <th>Exports of goods and services (current US$)</th>\n",
       "      <th>GDP (current US$)</th>\n",
       "      <th>GNI (current US$)</th>\n",
       "      <th>Imports of goods and services (current US$)</th>\n",
       "      <th>Industry (including construction), value added (annual % growth)</th>\n",
       "      <th>Inflation, consumer prices (annual %)</th>\n",
       "      <th>Labor force, total</th>\n",
       "      <th>Population, total</th>\n",
       "    </tr>\n",
       "  </thead>\n",
       "  <tbody>\n",
       "    <tr>\n",
       "      <th>0</th>\n",
       "      <td>Afghanistan</td>\n",
       "      <td>2009 [YR2009]</td>\n",
       "      <td>..</td>\n",
       "      <td>12416152732.0567</td>\n",
       "      <td>12378340930.5187</td>\n",
       "      <td>..</td>\n",
       "      <td>6.10714113128491</td>\n",
       "      <td>-6.81116108898993</td>\n",
       "      <td>6504675</td>\n",
       "      <td>27385307</td>\n",
       "    </tr>\n",
       "    <tr>\n",
       "      <th>1</th>\n",
       "      <td>Afghanistan</td>\n",
       "      <td>2010 [YR2010]</td>\n",
       "      <td>..</td>\n",
       "      <td>15856668555.8336</td>\n",
       "      <td>15885775064.3022</td>\n",
       "      <td>..</td>\n",
       "      <td>6.27060133814976</td>\n",
       "      <td>2.17853752389414</td>\n",
       "      <td>6738587</td>\n",
       "      <td>28189672</td>\n",
       "    </tr>\n",
       "    <tr>\n",
       "      <th>2</th>\n",
       "      <td>Afghanistan</td>\n",
       "      <td>2011 [YR2011]</td>\n",
       "      <td>..</td>\n",
       "      <td>17805098206.3141</td>\n",
       "      <td>17781511431.23</td>\n",
       "      <td>..</td>\n",
       "      <td>9.8076704185067</td>\n",
       "      <td>11.8041858089129</td>\n",
       "      <td>7095658</td>\n",
       "      <td>29249157</td>\n",
       "    </tr>\n",
       "  </tbody>\n",
       "</table>\n",
       "</div>"
      ],
      "text/plain": [
       "Series Name Country Name           Year  \\\n",
       "0            Afghanistan  2009 [YR2009]   \n",
       "1            Afghanistan  2010 [YR2010]   \n",
       "2            Afghanistan  2011 [YR2011]   \n",
       "\n",
       "Series Name Exports of goods and services (current US$) GDP (current US$)  \\\n",
       "0                                                    ..  12416152732.0567   \n",
       "1                                                    ..  15856668555.8336   \n",
       "2                                                    ..  17805098206.3141   \n",
       "\n",
       "Series Name GNI (current US$) Imports of goods and services (current US$)  \\\n",
       "0            12378340930.5187                                          ..   \n",
       "1            15885775064.3022                                          ..   \n",
       "2              17781511431.23                                          ..   \n",
       "\n",
       "Series Name Industry (including construction), value added (annual % growth)  \\\n",
       "0                                             6.10714113128491                 \n",
       "1                                             6.27060133814976                 \n",
       "2                                              9.8076704185067                 \n",
       "\n",
       "Series Name Inflation, consumer prices (annual %) Labor force, total  \\\n",
       "0                               -6.81116108898993            6504675   \n",
       "1                                2.17853752389414            6738587   \n",
       "2                                11.8041858089129            7095658   \n",
       "\n",
       "Series Name Population, total  \n",
       "0                    27385307  \n",
       "1                    28189672  \n",
       "2                    29249157  "
      ]
     },
     "execution_count": 229,
     "metadata": {},
     "output_type": "execute_result"
    }
   ],
   "source": [
    "pivot_df =  df_melted.pivot(index=['Country Name', 'Year'], columns= 'Series Name', values='Value').reset_index()\n",
    "pivot_df.head(3)"
   ]
  },
  {
   "cell_type": "code",
   "execution_count": 230,
   "metadata": {},
   "outputs": [
    {
     "data": {
      "text/plain": [
       "pandas.core.frame.DataFrame"
      ]
     },
     "execution_count": 230,
     "metadata": {},
     "output_type": "execute_result"
    }
   ],
   "source": [
    "type(pivot_df)"
   ]
  },
  {
   "cell_type": "code",
   "execution_count": 231,
   "metadata": {},
   "outputs": [
    {
     "data": {
      "text/plain": [
       "Index(['Country Name', 'Year', 'Exports of goods and services (current US$)',\n",
       "       'GDP (current US$)', 'GNI (current US$)',\n",
       "       'Imports of goods and services (current US$)',\n",
       "       'Industry (including construction), value added (annual % growth)',\n",
       "       'Inflation, consumer prices (annual %)', 'Labor force, total',\n",
       "       'Population, total'],\n",
       "      dtype='object', name='Series Name')"
      ]
     },
     "execution_count": 231,
     "metadata": {},
     "output_type": "execute_result"
    }
   ],
   "source": [
    "pivot_df.columns"
   ]
  },
  {
   "cell_type": "code",
   "execution_count": 232,
   "metadata": {},
   "outputs": [],
   "source": [
    "updated_df = pivot_df[['Country Name', 'Year', \n",
    "              'Exports of goods and services (current US$)',\n",
    "              'GDP (current US$)', 'GNI (current US$)',\n",
    "              'Imports of goods and services (current US$)',\n",
    "              'Labor force, total',\n",
    "              'Population, total']]"
   ]
  },
  {
   "cell_type": "code",
   "execution_count": 233,
   "metadata": {},
   "outputs": [
    {
     "name": "stderr",
     "output_type": "stream",
     "text": [
      "/tmp/ipykernel_3226/3307502370.py:1: SettingWithCopyWarning: \n",
      "A value is trying to be set on a copy of a slice from a DataFrame\n",
      "\n",
      "See the caveats in the documentation: https://pandas.pydata.org/pandas-docs/stable/user_guide/indexing.html#returning-a-view-versus-a-copy\n",
      "  updated_df.rename(columns={ 'Labor force, total': 'Labor_Force',\n"
     ]
    },
    {
     "data": {
      "text/html": [
       "<div>\n",
       "<style scoped>\n",
       "    .dataframe tbody tr th:only-of-type {\n",
       "        vertical-align: middle;\n",
       "    }\n",
       "\n",
       "    .dataframe tbody tr th {\n",
       "        vertical-align: top;\n",
       "    }\n",
       "\n",
       "    .dataframe thead th {\n",
       "        text-align: right;\n",
       "    }\n",
       "</style>\n",
       "<table border=\"1\" class=\"dataframe\">\n",
       "  <thead>\n",
       "    <tr style=\"text-align: right;\">\n",
       "      <th>Series Name</th>\n",
       "      <th>Country_Name</th>\n",
       "      <th>Year</th>\n",
       "      <th>Exports</th>\n",
       "      <th>GDP</th>\n",
       "      <th>GNI</th>\n",
       "      <th>Imports</th>\n",
       "      <th>Labor_Force</th>\n",
       "      <th>Population</th>\n",
       "    </tr>\n",
       "  </thead>\n",
       "  <tbody>\n",
       "    <tr>\n",
       "      <th>0</th>\n",
       "      <td>Afghanistan</td>\n",
       "      <td>2009 [YR2009]</td>\n",
       "      <td>..</td>\n",
       "      <td>12416152732.0567</td>\n",
       "      <td>12378340930.5187</td>\n",
       "      <td>..</td>\n",
       "      <td>6504675</td>\n",
       "      <td>27385307</td>\n",
       "    </tr>\n",
       "    <tr>\n",
       "      <th>1</th>\n",
       "      <td>Afghanistan</td>\n",
       "      <td>2010 [YR2010]</td>\n",
       "      <td>..</td>\n",
       "      <td>15856668555.8336</td>\n",
       "      <td>15885775064.3022</td>\n",
       "      <td>..</td>\n",
       "      <td>6738587</td>\n",
       "      <td>28189672</td>\n",
       "    </tr>\n",
       "    <tr>\n",
       "      <th>2</th>\n",
       "      <td>Afghanistan</td>\n",
       "      <td>2011 [YR2011]</td>\n",
       "      <td>..</td>\n",
       "      <td>17805098206.3141</td>\n",
       "      <td>17781511431.23</td>\n",
       "      <td>..</td>\n",
       "      <td>7095658</td>\n",
       "      <td>29249157</td>\n",
       "    </tr>\n",
       "  </tbody>\n",
       "</table>\n",
       "</div>"
      ],
      "text/plain": [
       "Series Name Country_Name           Year Exports               GDP  \\\n",
       "0            Afghanistan  2009 [YR2009]      ..  12416152732.0567   \n",
       "1            Afghanistan  2010 [YR2010]      ..  15856668555.8336   \n",
       "2            Afghanistan  2011 [YR2011]      ..  17805098206.3141   \n",
       "\n",
       "Series Name               GNI Imports Labor_Force Population  \n",
       "0            12378340930.5187      ..     6504675   27385307  \n",
       "1            15885775064.3022      ..     6738587   28189672  \n",
       "2              17781511431.23      ..     7095658   29249157  "
      ]
     },
     "execution_count": 233,
     "metadata": {},
     "output_type": "execute_result"
    }
   ],
   "source": [
    "updated_df.rename(columns={ 'Labor force, total': 'Labor_Force',\n",
    "                    'Country Name': 'Country_Name',\n",
    "                   'Exports of goods and services (current US$)' : 'Exports',\n",
    "                   'Imports of goods and services (current US$)' : 'Imports',\n",
    "                   'GDP (current US$)' : 'GDP', \n",
    "                    'Population, total': 'Population',\n",
    "                    'GNI (current US$)': 'GNI',\n",
    "                }, inplace=True)\n",
    "updated_df.head(3)"
   ]
  },
  {
   "cell_type": "code",
   "execution_count": 234,
   "metadata": {},
   "outputs": [
    {
     "data": {
      "text/plain": [
       "pandas.core.frame.DataFrame"
      ]
     },
     "execution_count": 234,
     "metadata": {},
     "output_type": "execute_result"
    }
   ],
   "source": [
    "type(updated_df)"
   ]
  },
  {
   "cell_type": "markdown",
   "metadata": {},
   "source": [
    "## Cleaning the gdp dataset"
   ]
  },
  {
   "cell_type": "code",
   "execution_count": 235,
   "metadata": {},
   "outputs": [
    {
     "data": {
      "text/html": [
       "<div>\n",
       "<style scoped>\n",
       "    .dataframe tbody tr th:only-of-type {\n",
       "        vertical-align: middle;\n",
       "    }\n",
       "\n",
       "    .dataframe tbody tr th {\n",
       "        vertical-align: top;\n",
       "    }\n",
       "\n",
       "    .dataframe thead th {\n",
       "        text-align: right;\n",
       "    }\n",
       "</style>\n",
       "<table border=\"1\" class=\"dataframe\">\n",
       "  <thead>\n",
       "    <tr style=\"text-align: right;\">\n",
       "      <th>Series Name</th>\n",
       "      <th>Country_Name</th>\n",
       "      <th>Year</th>\n",
       "      <th>Exports</th>\n",
       "      <th>GDP</th>\n",
       "      <th>GNI</th>\n",
       "      <th>Imports</th>\n",
       "      <th>Labor_Force</th>\n",
       "      <th>Population</th>\n",
       "    </tr>\n",
       "  </thead>\n",
       "  <tbody>\n",
       "    <tr>\n",
       "      <th>0</th>\n",
       "      <td>Afghanistan</td>\n",
       "      <td>2009 [YR2009]</td>\n",
       "      <td>..</td>\n",
       "      <td>12416152732.0567</td>\n",
       "      <td>12378340930.5187</td>\n",
       "      <td>..</td>\n",
       "      <td>6504675</td>\n",
       "      <td>27385307</td>\n",
       "    </tr>\n",
       "    <tr>\n",
       "      <th>1</th>\n",
       "      <td>Afghanistan</td>\n",
       "      <td>2010 [YR2010]</td>\n",
       "      <td>..</td>\n",
       "      <td>15856668555.8336</td>\n",
       "      <td>15885775064.3022</td>\n",
       "      <td>..</td>\n",
       "      <td>6738587</td>\n",
       "      <td>28189672</td>\n",
       "    </tr>\n",
       "    <tr>\n",
       "      <th>2</th>\n",
       "      <td>Afghanistan</td>\n",
       "      <td>2011 [YR2011]</td>\n",
       "      <td>..</td>\n",
       "      <td>17805098206.3141</td>\n",
       "      <td>17781511431.23</td>\n",
       "      <td>..</td>\n",
       "      <td>7095658</td>\n",
       "      <td>29249157</td>\n",
       "    </tr>\n",
       "  </tbody>\n",
       "</table>\n",
       "</div>"
      ],
      "text/plain": [
       "Series Name Country_Name           Year Exports               GDP  \\\n",
       "0            Afghanistan  2009 [YR2009]      ..  12416152732.0567   \n",
       "1            Afghanistan  2010 [YR2010]      ..  15856668555.8336   \n",
       "2            Afghanistan  2011 [YR2011]      ..  17805098206.3141   \n",
       "\n",
       "Series Name               GNI Imports Labor_Force Population  \n",
       "0            12378340930.5187      ..     6504675   27385307  \n",
       "1            15885775064.3022      ..     6738587   28189672  \n",
       "2              17781511431.23      ..     7095658   29249157  "
      ]
     },
     "execution_count": 235,
     "metadata": {},
     "output_type": "execute_result"
    }
   ],
   "source": [
    "cleaning_df = updated_df\n",
    "cleaning_df.head(3)"
   ]
  },
  {
   "cell_type": "code",
   "execution_count": 236,
   "metadata": {},
   "outputs": [
    {
     "name": "stderr",
     "output_type": "stream",
     "text": [
      "/tmp/ipykernel_3226/3102711508.py:1: SettingWithCopyWarning: \n",
      "A value is trying to be set on a copy of a slice from a DataFrame.\n",
      "Try using .loc[row_indexer,col_indexer] = value instead\n",
      "\n",
      "See the caveats in the documentation: https://pandas.pydata.org/pandas-docs/stable/user_guide/indexing.html#returning-a-view-versus-a-copy\n",
      "  cleaning_df['Year'] = cleaning_df['Year'].str.split(' ', expand=True)[0]\n"
     ]
    },
    {
     "data": {
      "text/html": [
       "<div>\n",
       "<style scoped>\n",
       "    .dataframe tbody tr th:only-of-type {\n",
       "        vertical-align: middle;\n",
       "    }\n",
       "\n",
       "    .dataframe tbody tr th {\n",
       "        vertical-align: top;\n",
       "    }\n",
       "\n",
       "    .dataframe thead th {\n",
       "        text-align: right;\n",
       "    }\n",
       "</style>\n",
       "<table border=\"1\" class=\"dataframe\">\n",
       "  <thead>\n",
       "    <tr style=\"text-align: right;\">\n",
       "      <th>Series Name</th>\n",
       "      <th>Country_Name</th>\n",
       "      <th>Year</th>\n",
       "      <th>Exports</th>\n",
       "      <th>GDP</th>\n",
       "      <th>GNI</th>\n",
       "      <th>Imports</th>\n",
       "      <th>Labor_Force</th>\n",
       "      <th>Population</th>\n",
       "    </tr>\n",
       "  </thead>\n",
       "  <tbody>\n",
       "    <tr>\n",
       "      <th>0</th>\n",
       "      <td>Afghanistan</td>\n",
       "      <td>2009</td>\n",
       "      <td>..</td>\n",
       "      <td>12416152732.0567</td>\n",
       "      <td>12378340930.5187</td>\n",
       "      <td>..</td>\n",
       "      <td>6504675</td>\n",
       "      <td>27385307</td>\n",
       "    </tr>\n",
       "    <tr>\n",
       "      <th>1</th>\n",
       "      <td>Afghanistan</td>\n",
       "      <td>2010</td>\n",
       "      <td>..</td>\n",
       "      <td>15856668555.8336</td>\n",
       "      <td>15885775064.3022</td>\n",
       "      <td>..</td>\n",
       "      <td>6738587</td>\n",
       "      <td>28189672</td>\n",
       "    </tr>\n",
       "  </tbody>\n",
       "</table>\n",
       "</div>"
      ],
      "text/plain": [
       "Series Name Country_Name  Year Exports               GDP               GNI  \\\n",
       "0            Afghanistan  2009      ..  12416152732.0567  12378340930.5187   \n",
       "1            Afghanistan  2010      ..  15856668555.8336  15885775064.3022   \n",
       "\n",
       "Series Name Imports Labor_Force Population  \n",
       "0                ..     6504675   27385307  \n",
       "1                ..     6738587   28189672  "
      ]
     },
     "execution_count": 236,
     "metadata": {},
     "output_type": "execute_result"
    }
   ],
   "source": [
    "cleaning_df['Year'] = cleaning_df['Year'].str.split(' ', expand=True)[0]\n",
    "cleaning_df.head(2)"
   ]
  },
  {
   "cell_type": "code",
   "execution_count": 237,
   "metadata": {},
   "outputs": [
    {
     "data": {
      "text/plain": [
       "(3255, 8)"
      ]
     },
     "execution_count": 237,
     "metadata": {},
     "output_type": "execute_result"
    }
   ],
   "source": [
    "cleaning_df.shape"
   ]
  },
  {
   "cell_type": "code",
   "execution_count": 238,
   "metadata": {},
   "outputs": [
    {
     "data": {
      "text/plain": [
       "np.int64(0)"
      ]
     },
     "execution_count": 238,
     "metadata": {},
     "output_type": "execute_result"
    }
   ],
   "source": [
    "cleaning_df.duplicated().sum()"
   ]
  },
  {
   "cell_type": "code",
   "execution_count": 239,
   "metadata": {},
   "outputs": [
    {
     "data": {
      "text/plain": [
       "Series Name\n",
       "Country_Name    0\n",
       "Year            0\n",
       "Exports         0\n",
       "GDP             0\n",
       "GNI             0\n",
       "Imports         0\n",
       "Labor_Force     0\n",
       "Population      0\n",
       "dtype: int64"
      ]
     },
     "execution_count": 239,
     "metadata": {},
     "output_type": "execute_result"
    }
   ],
   "source": [
    "cleaning_df.isna().sum()"
   ]
  },
  {
   "cell_type": "code",
   "execution_count": 240,
   "metadata": {},
   "outputs": [
    {
     "data": {
      "text/plain": [
       "Series Name\n",
       "Country_Name    object\n",
       "Year            object\n",
       "Exports         object\n",
       "GDP             object\n",
       "GNI             object\n",
       "Imports         object\n",
       "Labor_Force     object\n",
       "Population      object\n",
       "dtype: object"
      ]
     },
     "execution_count": 240,
     "metadata": {},
     "output_type": "execute_result"
    }
   ],
   "source": [
    "cleaning_df.dtypes"
   ]
  },
  {
   "cell_type": "code",
   "execution_count": 241,
   "metadata": {},
   "outputs": [],
   "source": [
    "# cleaning_df[['Exports', 'Imports', 'GDP', 'GNI']] = cleaning_df[['Exports', 'Imports', 'GDP', 'GNI']].astype('float')/\n"
   ]
  },
  {
   "cell_type": "markdown",
   "metadata": {},
   "source": [
    "### Steps to fix this issue"
   ]
  },
  {
   "cell_type": "code",
   "execution_count": 242,
   "metadata": {},
   "outputs": [
    {
     "name": "stderr",
     "output_type": "stream",
     "text": [
      "/tmp/ipykernel_3226/2189949232.py:1: SettingWithCopyWarning: \n",
      "A value is trying to be set on a copy of a slice from a DataFrame\n",
      "\n",
      "See the caveats in the documentation: https://pandas.pydata.org/pandas-docs/stable/user_guide/indexing.html#returning-a-view-versus-a-copy\n",
      "  cleaning_df.replace('..', np.nan, inplace=True)\n"
     ]
    },
    {
     "data": {
      "text/html": [
       "<div>\n",
       "<style scoped>\n",
       "    .dataframe tbody tr th:only-of-type {\n",
       "        vertical-align: middle;\n",
       "    }\n",
       "\n",
       "    .dataframe tbody tr th {\n",
       "        vertical-align: top;\n",
       "    }\n",
       "\n",
       "    .dataframe thead th {\n",
       "        text-align: right;\n",
       "    }\n",
       "</style>\n",
       "<table border=\"1\" class=\"dataframe\">\n",
       "  <thead>\n",
       "    <tr style=\"text-align: right;\">\n",
       "      <th>Series Name</th>\n",
       "      <th>Country_Name</th>\n",
       "      <th>Year</th>\n",
       "      <th>Exports</th>\n",
       "      <th>GDP</th>\n",
       "      <th>GNI</th>\n",
       "      <th>Imports</th>\n",
       "      <th>Labor_Force</th>\n",
       "      <th>Population</th>\n",
       "    </tr>\n",
       "  </thead>\n",
       "  <tbody>\n",
       "    <tr>\n",
       "      <th>0</th>\n",
       "      <td>Afghanistan</td>\n",
       "      <td>2009</td>\n",
       "      <td>NaN</td>\n",
       "      <td>12416152732.0567</td>\n",
       "      <td>12378340930.5187</td>\n",
       "      <td>NaN</td>\n",
       "      <td>6504675</td>\n",
       "      <td>27385307</td>\n",
       "    </tr>\n",
       "    <tr>\n",
       "      <th>1</th>\n",
       "      <td>Afghanistan</td>\n",
       "      <td>2010</td>\n",
       "      <td>NaN</td>\n",
       "      <td>15856668555.8336</td>\n",
       "      <td>15885775064.3022</td>\n",
       "      <td>NaN</td>\n",
       "      <td>6738587</td>\n",
       "      <td>28189672</td>\n",
       "    </tr>\n",
       "  </tbody>\n",
       "</table>\n",
       "</div>"
      ],
      "text/plain": [
       "Series Name Country_Name  Year Exports               GDP               GNI  \\\n",
       "0            Afghanistan  2009     NaN  12416152732.0567  12378340930.5187   \n",
       "1            Afghanistan  2010     NaN  15856668555.8336  15885775064.3022   \n",
       "\n",
       "Series Name Imports Labor_Force Population  \n",
       "0               NaN     6504675   27385307  \n",
       "1               NaN     6738587   28189672  "
      ]
     },
     "execution_count": 242,
     "metadata": {},
     "output_type": "execute_result"
    }
   ],
   "source": [
    "cleaning_df.replace('..', np.nan, inplace=True)\n",
    "cleaning_df.head(2)"
   ]
  },
  {
   "cell_type": "code",
   "execution_count": 243,
   "metadata": {},
   "outputs": [
    {
     "data": {
      "text/plain": [
       "Series Name\n",
       "Country_Name      0\n",
       "Year              0\n",
       "Exports         560\n",
       "GDP             133\n",
       "GNI             271\n",
       "Imports         560\n",
       "Labor_Force     453\n",
       "Population        0\n",
       "dtype: int64"
      ]
     },
     "execution_count": 243,
     "metadata": {},
     "output_type": "execute_result"
    }
   ],
   "source": [
    "cleaning_df.isna().sum()"
   ]
  },
  {
   "cell_type": "code",
   "execution_count": 244,
   "metadata": {},
   "outputs": [
    {
     "name": "stderr",
     "output_type": "stream",
     "text": [
      "/tmp/ipykernel_3226/3617113585.py:1: SettingWithCopyWarning: \n",
      "A value is trying to be set on a copy of a slice from a DataFrame\n",
      "\n",
      "See the caveats in the documentation: https://pandas.pydata.org/pandas-docs/stable/user_guide/indexing.html#returning-a-view-versus-a-copy\n",
      "  cleaning_df.fillna(0, inplace=True)\n"
     ]
    }
   ],
   "source": [
    "cleaning_df.drop(inplace=True)"
   ]
  },
  {
   "cell_type": "code",
   "execution_count": 245,
   "metadata": {},
   "outputs": [
    {
     "data": {
      "text/html": [
       "<div>\n",
       "<style scoped>\n",
       "    .dataframe tbody tr th:only-of-type {\n",
       "        vertical-align: middle;\n",
       "    }\n",
       "\n",
       "    .dataframe tbody tr th {\n",
       "        vertical-align: top;\n",
       "    }\n",
       "\n",
       "    .dataframe thead th {\n",
       "        text-align: right;\n",
       "    }\n",
       "</style>\n",
       "<table border=\"1\" class=\"dataframe\">\n",
       "  <thead>\n",
       "    <tr style=\"text-align: right;\">\n",
       "      <th>Series Name</th>\n",
       "      <th>Country_Name</th>\n",
       "      <th>Year</th>\n",
       "      <th>Exports</th>\n",
       "      <th>GDP</th>\n",
       "      <th>GNI</th>\n",
       "      <th>Imports</th>\n",
       "      <th>Labor_Force</th>\n",
       "      <th>Population</th>\n",
       "    </tr>\n",
       "  </thead>\n",
       "  <tbody>\n",
       "    <tr>\n",
       "      <th>0</th>\n",
       "      <td>Afghanistan</td>\n",
       "      <td>2009</td>\n",
       "      <td>0</td>\n",
       "      <td>12416152732.0567</td>\n",
       "      <td>12378340930.5187</td>\n",
       "      <td>0</td>\n",
       "      <td>6504675</td>\n",
       "      <td>27385307</td>\n",
       "    </tr>\n",
       "    <tr>\n",
       "      <th>1</th>\n",
       "      <td>Afghanistan</td>\n",
       "      <td>2010</td>\n",
       "      <td>0</td>\n",
       "      <td>15856668555.8336</td>\n",
       "      <td>15885775064.3022</td>\n",
       "      <td>0</td>\n",
       "      <td>6738587</td>\n",
       "      <td>28189672</td>\n",
       "    </tr>\n",
       "    <tr>\n",
       "      <th>2</th>\n",
       "      <td>Afghanistan</td>\n",
       "      <td>2011</td>\n",
       "      <td>0</td>\n",
       "      <td>17805098206.3141</td>\n",
       "      <td>17781511431.23</td>\n",
       "      <td>0</td>\n",
       "      <td>7095658</td>\n",
       "      <td>29249157</td>\n",
       "    </tr>\n",
       "  </tbody>\n",
       "</table>\n",
       "</div>"
      ],
      "text/plain": [
       "Series Name Country_Name  Year Exports               GDP               GNI  \\\n",
       "0            Afghanistan  2009       0  12416152732.0567  12378340930.5187   \n",
       "1            Afghanistan  2010       0  15856668555.8336  15885775064.3022   \n",
       "2            Afghanistan  2011       0  17805098206.3141    17781511431.23   \n",
       "\n",
       "Series Name Imports Labor_Force Population  \n",
       "0                 0     6504675   27385307  \n",
       "1                 0     6738587   28189672  \n",
       "2                 0     7095658   29249157  "
      ]
     },
     "execution_count": 245,
     "metadata": {},
     "output_type": "execute_result"
    }
   ],
   "source": [
    "cleaning_df.shape"
   ]
  },
  {
   "cell_type": "code",
   "execution_count": 246,
   "metadata": {},
   "outputs": [
    {
     "data": {
      "text/plain": [
       "Series Name\n",
       "Country_Name    0\n",
       "Year            0\n",
       "Exports         0\n",
       "GDP             0\n",
       "GNI             0\n",
       "Imports         0\n",
       "Labor_Force     0\n",
       "Population      0\n",
       "dtype: int64"
      ]
     },
     "execution_count": 246,
     "metadata": {},
     "output_type": "execute_result"
    }
   ],
   "source": [
    "cleaning_df.isnull().sum()"
   ]
  },
  {
   "cell_type": "code",
   "execution_count": 247,
   "metadata": {},
   "outputs": [
    {
     "name": "stderr",
     "output_type": "stream",
     "text": [
      "/tmp/ipykernel_3226/435970508.py:1: SettingWithCopyWarning: \n",
      "A value is trying to be set on a copy of a slice from a DataFrame.\n",
      "Try using .loc[row_indexer,col_indexer] = value instead\n",
      "\n",
      "See the caveats in the documentation: https://pandas.pydata.org/pandas-docs/stable/user_guide/indexing.html#returning-a-view-versus-a-copy\n",
      "  cleaning_df[['Exports', 'Imports', 'GDP', 'GNI']] = cleaning_df[['Exports', 'Imports', 'GDP', 'GNI']].astype('float')\n",
      "/tmp/ipykernel_3226/435970508.py:2: SettingWithCopyWarning: \n",
      "A value is trying to be set on a copy of a slice from a DataFrame.\n",
      "Try using .loc[row_indexer,col_indexer] = value instead\n",
      "\n",
      "See the caveats in the documentation: https://pandas.pydata.org/pandas-docs/stable/user_guide/indexing.html#returning-a-view-versus-a-copy\n",
      "  cleaning_df[['Year' ,'Labor_Force', 'Population']] = cleaning_df[['Year', 'Labor_Force', 'Population']].astype('int')\n"
     ]
    },
    {
     "data": {
      "text/plain": [
       "Series Name\n",
       "Country_Name     object\n",
       "Year              int64\n",
       "Exports         float64\n",
       "GDP             float64\n",
       "GNI             float64\n",
       "Imports         float64\n",
       "Labor_Force       int64\n",
       "Population        int64\n",
       "dtype: object"
      ]
     },
     "execution_count": 247,
     "metadata": {},
     "output_type": "execute_result"
    }
   ],
   "source": [
    "cleaning_df[['Exports', 'Imports', 'GDP', 'GNI']] = cleaning_df[['Exports', 'Imports', 'GDP', 'GNI']].astype('float')\n",
    "cleaning_df[['Year' ,'Labor_Force', 'Population']] = cleaning_df[['Year', 'Labor_Force', 'Population']].astype('int')\n",
    "cleaning_df.dtypes"
   ]
  },
  {
   "cell_type": "code",
   "execution_count": 248,
   "metadata": {},
   "outputs": [
    {
     "data": {
      "text/html": [
       "<div>\n",
       "<style scoped>\n",
       "    .dataframe tbody tr th:only-of-type {\n",
       "        vertical-align: middle;\n",
       "    }\n",
       "\n",
       "    .dataframe tbody tr th {\n",
       "        vertical-align: top;\n",
       "    }\n",
       "\n",
       "    .dataframe thead th {\n",
       "        text-align: right;\n",
       "    }\n",
       "</style>\n",
       "<table border=\"1\" class=\"dataframe\">\n",
       "  <thead>\n",
       "    <tr style=\"text-align: right;\">\n",
       "      <th>Series Name</th>\n",
       "      <th>Country_Name</th>\n",
       "      <th>Year</th>\n",
       "      <th>Exports</th>\n",
       "      <th>GDP</th>\n",
       "      <th>GNI</th>\n",
       "      <th>Imports</th>\n",
       "      <th>Labor_Force</th>\n",
       "      <th>Population</th>\n",
       "    </tr>\n",
       "  </thead>\n",
       "  <tbody>\n",
       "    <tr>\n",
       "      <th>count</th>\n",
       "      <td>3255</td>\n",
       "      <td>3255.000000</td>\n",
       "      <td>3.255000e+03</td>\n",
       "      <td>3.255000e+03</td>\n",
       "      <td>3.255000e+03</td>\n",
       "      <td>3.255000e+03</td>\n",
       "      <td>3.255000e+03</td>\n",
       "      <td>3.255000e+03</td>\n",
       "    </tr>\n",
       "    <tr>\n",
       "      <th>unique</th>\n",
       "      <td>217</td>\n",
       "      <td>NaN</td>\n",
       "      <td>NaN</td>\n",
       "      <td>NaN</td>\n",
       "      <td>NaN</td>\n",
       "      <td>NaN</td>\n",
       "      <td>NaN</td>\n",
       "      <td>NaN</td>\n",
       "    </tr>\n",
       "    <tr>\n",
       "      <th>top</th>\n",
       "      <td>Afghanistan</td>\n",
       "      <td>NaN</td>\n",
       "      <td>NaN</td>\n",
       "      <td>NaN</td>\n",
       "      <td>NaN</td>\n",
       "      <td>NaN</td>\n",
       "      <td>NaN</td>\n",
       "      <td>NaN</td>\n",
       "    </tr>\n",
       "    <tr>\n",
       "      <th>freq</th>\n",
       "      <td>15</td>\n",
       "      <td>NaN</td>\n",
       "      <td>NaN</td>\n",
       "      <td>NaN</td>\n",
       "      <td>NaN</td>\n",
       "      <td>NaN</td>\n",
       "      <td>NaN</td>\n",
       "      <td>NaN</td>\n",
       "    </tr>\n",
       "    <tr>\n",
       "      <th>mean</th>\n",
       "      <td>NaN</td>\n",
       "      <td>2016.000000</td>\n",
       "      <td>1.046771e+11</td>\n",
       "      <td>3.746660e+11</td>\n",
       "      <td>3.738683e+11</td>\n",
       "      <td>1.019405e+11</td>\n",
       "      <td>1.542034e+07</td>\n",
       "      <td>3.435024e+07</td>\n",
       "    </tr>\n",
       "    <tr>\n",
       "      <th>std</th>\n",
       "      <td>NaN</td>\n",
       "      <td>4.321158</td>\n",
       "      <td>3.021349e+11</td>\n",
       "      <td>1.684810e+12</td>\n",
       "      <td>1.696922e+12</td>\n",
       "      <td>3.054895e+11</td>\n",
       "      <td>6.503945e+07</td>\n",
       "      <td>1.349822e+08</td>\n",
       "    </tr>\n",
       "    <tr>\n",
       "      <th>min</th>\n",
       "      <td>NaN</td>\n",
       "      <td>2009.000000</td>\n",
       "      <td>0.000000e+00</td>\n",
       "      <td>0.000000e+00</td>\n",
       "      <td>0.000000e+00</td>\n",
       "      <td>0.000000e+00</td>\n",
       "      <td>0.000000e+00</td>\n",
       "      <td>1.023300e+04</td>\n",
       "    </tr>\n",
       "    <tr>\n",
       "      <th>25%</th>\n",
       "      <td>NaN</td>\n",
       "      <td>2012.000000</td>\n",
       "      <td>5.589884e+08</td>\n",
       "      <td>4.595703e+09</td>\n",
       "      <td>3.599766e+09</td>\n",
       "      <td>9.239019e+08</td>\n",
       "      <td>2.861100e+05</td>\n",
       "      <td>7.488465e+05</td>\n",
       "    </tr>\n",
       "    <tr>\n",
       "      <th>50%</th>\n",
       "      <td>NaN</td>\n",
       "      <td>2016.000000</td>\n",
       "      <td>6.624480e+09</td>\n",
       "      <td>2.183223e+10</td>\n",
       "      <td>2.100076e+10</td>\n",
       "      <td>8.243797e+09</td>\n",
       "      <td>2.673318e+06</td>\n",
       "      <td>6.192235e+06</td>\n",
       "    </tr>\n",
       "    <tr>\n",
       "      <th>75%</th>\n",
       "      <td>NaN</td>\n",
       "      <td>2020.000000</td>\n",
       "      <td>5.399239e+10</td>\n",
       "      <td>1.672905e+11</td>\n",
       "      <td>1.626034e+11</td>\n",
       "      <td>5.223824e+10</td>\n",
       "      <td>8.913684e+06</td>\n",
       "      <td>2.273210e+07</td>\n",
       "    </tr>\n",
       "    <tr>\n",
       "      <th>max</th>\n",
       "      <td>NaN</td>\n",
       "      <td>2023.000000</td>\n",
       "      <td>3.717888e+12</td>\n",
       "      <td>2.736094e+13</td>\n",
       "      <td>2.752510e+13</td>\n",
       "      <td>3.966165e+12</td>\n",
       "      <td>7.818083e+08</td>\n",
       "      <td>1.428628e+09</td>\n",
       "    </tr>\n",
       "  </tbody>\n",
       "</table>\n",
       "</div>"
      ],
      "text/plain": [
       "Series Name Country_Name         Year       Exports           GDP  \\\n",
       "count               3255  3255.000000  3.255000e+03  3.255000e+03   \n",
       "unique               217          NaN           NaN           NaN   \n",
       "top          Afghanistan          NaN           NaN           NaN   \n",
       "freq                  15          NaN           NaN           NaN   \n",
       "mean                 NaN  2016.000000  1.046771e+11  3.746660e+11   \n",
       "std                  NaN     4.321158  3.021349e+11  1.684810e+12   \n",
       "min                  NaN  2009.000000  0.000000e+00  0.000000e+00   \n",
       "25%                  NaN  2012.000000  5.589884e+08  4.595703e+09   \n",
       "50%                  NaN  2016.000000  6.624480e+09  2.183223e+10   \n",
       "75%                  NaN  2020.000000  5.399239e+10  1.672905e+11   \n",
       "max                  NaN  2023.000000  3.717888e+12  2.736094e+13   \n",
       "\n",
       "Series Name           GNI       Imports   Labor_Force    Population  \n",
       "count        3.255000e+03  3.255000e+03  3.255000e+03  3.255000e+03  \n",
       "unique                NaN           NaN           NaN           NaN  \n",
       "top                   NaN           NaN           NaN           NaN  \n",
       "freq                  NaN           NaN           NaN           NaN  \n",
       "mean         3.738683e+11  1.019405e+11  1.542034e+07  3.435024e+07  \n",
       "std          1.696922e+12  3.054895e+11  6.503945e+07  1.349822e+08  \n",
       "min          0.000000e+00  0.000000e+00  0.000000e+00  1.023300e+04  \n",
       "25%          3.599766e+09  9.239019e+08  2.861100e+05  7.488465e+05  \n",
       "50%          2.100076e+10  8.243797e+09  2.673318e+06  6.192235e+06  \n",
       "75%          1.626034e+11  5.223824e+10  8.913684e+06  2.273210e+07  \n",
       "max          2.752510e+13  3.966165e+12  7.818083e+08  1.428628e+09  "
      ]
     },
     "execution_count": 248,
     "metadata": {},
     "output_type": "execute_result"
    }
   ],
   "source": [
    "cleaning_df.describe(include='all')"
   ]
  },
  {
   "cell_type": "code",
   "execution_count": 249,
   "metadata": {},
   "outputs": [],
   "source": [
    "cleaned_df = cleaning_df"
   ]
  },
  {
   "cell_type": "markdown",
   "metadata": {},
   "source": [
    "### Creating subset dataset for USA & China"
   ]
  },
  {
   "cell_type": "code",
   "execution_count": 250,
   "metadata": {},
   "outputs": [
    {
     "data": {
      "text/html": [
       "<div>\n",
       "<style scoped>\n",
       "    .dataframe tbody tr th:only-of-type {\n",
       "        vertical-align: middle;\n",
       "    }\n",
       "\n",
       "    .dataframe tbody tr th {\n",
       "        vertical-align: top;\n",
       "    }\n",
       "\n",
       "    .dataframe thead th {\n",
       "        text-align: right;\n",
       "    }\n",
       "</style>\n",
       "<table border=\"1\" class=\"dataframe\">\n",
       "  <thead>\n",
       "    <tr style=\"text-align: right;\">\n",
       "      <th>Series Name</th>\n",
       "      <th>Country_Name</th>\n",
       "      <th>Year</th>\n",
       "      <th>Exports</th>\n",
       "      <th>GDP</th>\n",
       "      <th>GNI</th>\n",
       "      <th>Imports</th>\n",
       "      <th>Labor_Force</th>\n",
       "      <th>Population</th>\n",
       "    </tr>\n",
       "  </thead>\n",
       "  <tbody>\n",
       "    <tr>\n",
       "      <th>615</th>\n",
       "      <td>China</td>\n",
       "      <td>2009</td>\n",
       "      <td>1.262664e+12</td>\n",
       "      <td>5.101691e+12</td>\n",
       "      <td>5.093159e+12</td>\n",
       "      <td>1.042534e+12</td>\n",
       "      <td>775599063</td>\n",
       "      <td>1331260000</td>\n",
       "    </tr>\n",
       "    <tr>\n",
       "      <th>616</th>\n",
       "      <td>China</td>\n",
       "      <td>2010</td>\n",
       "      <td>1.654823e+12</td>\n",
       "      <td>6.087192e+12</td>\n",
       "      <td>6.061120e+12</td>\n",
       "      <td>1.432422e+12</td>\n",
       "      <td>774058132</td>\n",
       "      <td>1337705000</td>\n",
       "    </tr>\n",
       "    <tr>\n",
       "      <th>617</th>\n",
       "      <td>China</td>\n",
       "      <td>2011</td>\n",
       "      <td>2.006309e+12</td>\n",
       "      <td>7.551546e+12</td>\n",
       "      <td>7.481169e+12</td>\n",
       "      <td>1.825414e+12</td>\n",
       "      <td>778323480</td>\n",
       "      <td>1345035000</td>\n",
       "    </tr>\n",
       "    <tr>\n",
       "      <th>618</th>\n",
       "      <td>China</td>\n",
       "      <td>2012</td>\n",
       "      <td>2.175069e+12</td>\n",
       "      <td>8.532185e+12</td>\n",
       "      <td>8.512368e+12</td>\n",
       "      <td>1.943205e+12</td>\n",
       "      <td>778937997</td>\n",
       "      <td>1354190000</td>\n",
       "    </tr>\n",
       "    <tr>\n",
       "      <th>619</th>\n",
       "      <td>China</td>\n",
       "      <td>2013</td>\n",
       "      <td>2.354265e+12</td>\n",
       "      <td>9.570471e+12</td>\n",
       "      <td>9.492643e+12</td>\n",
       "      <td>2.119392e+12</td>\n",
       "      <td>779042510</td>\n",
       "      <td>1363240000</td>\n",
       "    </tr>\n",
       "  </tbody>\n",
       "</table>\n",
       "</div>"
      ],
      "text/plain": [
       "Series Name Country_Name  Year       Exports           GDP           GNI  \\\n",
       "615                China  2009  1.262664e+12  5.101691e+12  5.093159e+12   \n",
       "616                China  2010  1.654823e+12  6.087192e+12  6.061120e+12   \n",
       "617                China  2011  2.006309e+12  7.551546e+12  7.481169e+12   \n",
       "618                China  2012  2.175069e+12  8.532185e+12  8.512368e+12   \n",
       "619                China  2013  2.354265e+12  9.570471e+12  9.492643e+12   \n",
       "\n",
       "Series Name       Imports  Labor_Force  Population  \n",
       "615          1.042534e+12    775599063  1331260000  \n",
       "616          1.432422e+12    774058132  1337705000  \n",
       "617          1.825414e+12    778323480  1345035000  \n",
       "618          1.943205e+12    778937997  1354190000  \n",
       "619          2.119392e+12    779042510  1363240000  "
      ]
     },
     "execution_count": 250,
     "metadata": {},
     "output_type": "execute_result"
    }
   ],
   "source": [
    "china_gdp = cleaned_df[cleaned_df.Country_Name == 'China']\n",
    "china_gdp.head()"
   ]
  },
  {
   "cell_type": "code",
   "execution_count": 251,
   "metadata": {},
   "outputs": [
    {
     "data": {
      "text/html": [
       "<div>\n",
       "<style scoped>\n",
       "    .dataframe tbody tr th:only-of-type {\n",
       "        vertical-align: middle;\n",
       "    }\n",
       "\n",
       "    .dataframe tbody tr th {\n",
       "        vertical-align: top;\n",
       "    }\n",
       "\n",
       "    .dataframe thead th {\n",
       "        text-align: right;\n",
       "    }\n",
       "</style>\n",
       "<table border=\"1\" class=\"dataframe\">\n",
       "  <thead>\n",
       "    <tr style=\"text-align: right;\">\n",
       "      <th>Series Name</th>\n",
       "      <th>Country_Name</th>\n",
       "      <th>Year</th>\n",
       "      <th>Exports</th>\n",
       "      <th>GDP</th>\n",
       "      <th>GNI</th>\n",
       "      <th>Imports</th>\n",
       "      <th>Labor_Force</th>\n",
       "      <th>Population</th>\n",
       "    </tr>\n",
       "  </thead>\n",
       "  <tbody>\n",
       "    <tr>\n",
       "      <th>3090</th>\n",
       "      <td>United States</td>\n",
       "      <td>2009</td>\n",
       "      <td>1.582774e+12</td>\n",
       "      <td>1.447807e+13</td>\n",
       "      <td>1.443659e+13</td>\n",
       "      <td>2.001927e+12</td>\n",
       "      <td>157377606</td>\n",
       "      <td>306771529</td>\n",
       "    </tr>\n",
       "    <tr>\n",
       "      <th>3091</th>\n",
       "      <td>United States</td>\n",
       "      <td>2010</td>\n",
       "      <td>1.857247e+12</td>\n",
       "      <td>1.504897e+13</td>\n",
       "      <td>1.518516e+13</td>\n",
       "      <td>2.389555e+12</td>\n",
       "      <td>157357516</td>\n",
       "      <td>309327143</td>\n",
       "    </tr>\n",
       "    <tr>\n",
       "      <th>3092</th>\n",
       "      <td>United States</td>\n",
       "      <td>2011</td>\n",
       "      <td>2.115864e+12</td>\n",
       "      <td>1.559973e+13</td>\n",
       "      <td>1.586196e+13</td>\n",
       "      <td>2.695480e+12</td>\n",
       "      <td>157443452</td>\n",
       "      <td>311583481</td>\n",
       "    </tr>\n",
       "    <tr>\n",
       "      <th>3093</th>\n",
       "      <td>United States</td>\n",
       "      <td>2012</td>\n",
       "      <td>2.217700e+12</td>\n",
       "      <td>1.625397e+13</td>\n",
       "      <td>1.664030e+13</td>\n",
       "      <td>2.769317e+12</td>\n",
       "      <td>158452840</td>\n",
       "      <td>313877662</td>\n",
       "    </tr>\n",
       "    <tr>\n",
       "      <th>3094</th>\n",
       "      <td>United States</td>\n",
       "      <td>2013</td>\n",
       "      <td>2.287922e+12</td>\n",
       "      <td>1.688068e+13</td>\n",
       "      <td>1.714071e+13</td>\n",
       "      <td>2.766375e+12</td>\n",
       "      <td>158809862</td>\n",
       "      <td>316059947</td>\n",
       "    </tr>\n",
       "  </tbody>\n",
       "</table>\n",
       "</div>"
      ],
      "text/plain": [
       "Series Name   Country_Name  Year       Exports           GDP           GNI  \\\n",
       "3090         United States  2009  1.582774e+12  1.447807e+13  1.443659e+13   \n",
       "3091         United States  2010  1.857247e+12  1.504897e+13  1.518516e+13   \n",
       "3092         United States  2011  2.115864e+12  1.559973e+13  1.586196e+13   \n",
       "3093         United States  2012  2.217700e+12  1.625397e+13  1.664030e+13   \n",
       "3094         United States  2013  2.287922e+12  1.688068e+13  1.714071e+13   \n",
       "\n",
       "Series Name       Imports  Labor_Force  Population  \n",
       "3090         2.001927e+12    157377606   306771529  \n",
       "3091         2.389555e+12    157357516   309327143  \n",
       "3092         2.695480e+12    157443452   311583481  \n",
       "3093         2.769317e+12    158452840   313877662  \n",
       "3094         2.766375e+12    158809862   316059947  "
      ]
     },
     "execution_count": 251,
     "metadata": {},
     "output_type": "execute_result"
    }
   ],
   "source": [
    "usa_gdp = cleaned_df[cleaned_df.Country_Name == 'United States']\n",
    "usa_gdp.head()"
   ]
  },
  {
   "cell_type": "code",
   "execution_count": 252,
   "metadata": {},
   "outputs": [
    {
     "data": {
      "image/png": "[encoded data removed]",
      "text/plain": [
       "<Figure size 640x480 with 1 Axes>"
      ]
     },
     "metadata": {},
     "output_type": "display_data"
    }
   ],
   "source": [
    "sns.lineplot(data= usa_gdp, x='Year', y='GDP', linestyle='-', marker='o', label='USA GDP')\n",
    "sns.lineplot(data= china_gdp, x='Year', y='GDP', linestyle='--', marker='s', label='China GDP')\n",
    "\n",
    "plt.title('GPD Over Time: USA vs China') \n",
    "plt.legend()\n",
    "plt.grid(True)\n",
    "plt.show()"
   ]
  },
  {
   "cell_type": "code",
   "execution_count": 253,
   "metadata": {},
   "outputs": [
    {
     "data": {
      "image/png": "[encoded data removed]",
      "text/plain": [
       "<Figure size 640x480 with 1 Axes>"
      ]
     },
     "metadata": {},
     "output_type": "display_data"
    }
   ],
   "source": [
    "sns.lineplot(data= usa_gdp, x='Year', y='Exports', linestyle='-', marker='o', label='USA Exports')\n",
    "sns.lineplot(data= china_gdp, x='Year', y='Exports', linestyle='--', marker='s', label='China Exports')\n",
    "\n",
    "# Add plot details\n",
    "plt.title('Exports Over Time: USA vs China')\n",
    "plt.legend()\n",
    "plt.grid(True)\n",
    "plt.show()"
   ]
  },
  {
   "cell_type": "code",
   "execution_count": 254,
   "metadata": {},
   "outputs": [
    {
     "data": {
      "image/png": "[encoded data removed]",
      "text/plain": [
       "<Figure size 640x480 with 1 Axes>"
      ]
     },
     "metadata": {},
     "output_type": "display_data"
    }
   ],
   "source": [
    "sns.lineplot(data= usa_gdp, x='Year', y='Imports', linestyle='-', marker='o', label='USA Imports')\n",
    "sns.lineplot(data= china_gdp, x='Year', y='Imports', linestyle='--', marker='s', label='China Imports')\n",
    "\n",
    "# Add plot details\n",
    "plt.title('Exports Over Time: USA vs China')\n",
    "plt.legend()\n",
    "plt.grid(True)\n",
    "plt.show()"
   ]
  },
  {
   "cell_type": "code",
   "execution_count": 255,
   "metadata": {},
   "outputs": [
    {
     "data": {
      "image/png": "[encoded data removed]",
      "text/plain": [
       "<Figure size 640x480 with 1 Axes>"
      ]
     },
     "metadata": {},
     "output_type": "display_data"
    }
   ],
   "source": [
    "sns.lineplot(data= usa_gdp, x='Year', y='Labor_Force', linestyle='-', marker='o', label='USA Labor Force')\n",
    "sns.lineplot(data= china_gdp, x='Year', y='Labor_Force', linestyle='--', marker='s', label='China Labor Force')\n",
    "\n",
    "plt.title('GPD Over Time: USA vs China') \n",
    "plt.legend()\n",
    "plt.grid(True)\n",
    "plt.show()"
   ]
  },
  {
   "cell_type": "code",
   "execution_count": 256,
   "metadata": {},
   "outputs": [
    {
     "data": {
      "image/png": "[encoded data removed]",
      "text/plain": [
       "<Figure size 640x480 with 1 Axes>"
      ]
     },
     "metadata": {},
     "output_type": "display_data"
    }
   ],
   "source": [
    "sns.histplot(data= usa_gdp, x='GDP', label='USA', kde=True, stat=\"density\", alpha=0.5, color='blue')\n",
    "sns.histplot(data= china_gdp, x='GDP', label='China', kde=True, stat=\"density\", alpha=0.5, color='red')\n",
    "\n",
    "plt.title('GPD: USA vs China') \n",
    "plt.legend()\n",
    "plt.grid(False)\n",
    "plt.show()"
   ]
  },
  {
   "cell_type": "code",
   "execution_count": 257,
   "metadata": {},
   "outputs": [],
   "source": [
    "usa_and_chine_gdp = cleaned_df[(cleaned_df.Country_Name == 'United States') | (cleaned_df.Country_Name == 'China')]"
   ]
  },
  {
   "cell_type": "code",
   "execution_count": 258,
   "metadata": {},
   "outputs": [
    {
     "data": {
      "image/png": "[encoded data removed]",
      "text/plain": [
       "<Figure size 640x480 with 1 Axes>"
      ]
     },
     "metadata": {},
     "output_type": "display_data"
    }
   ],
   "source": [
    "sns.boxplot(data=usa_and_chine_gdp, x='Country_Name', y='GDP', palette='Set2', hue='Country_Name')\n",
    "plt.show()"
   ]
  },
  {
   "cell_type": "code",
   "execution_count": 259,
   "metadata": {},
   "outputs": [
    {
     "data": {
      "text/html": [
       "<div>\n",
       "<style scoped>\n",
       "    .dataframe tbody tr th:only-of-type {\n",
       "        vertical-align: middle;\n",
       "    }\n",
       "\n",
       "    .dataframe tbody tr th {\n",
       "        vertical-align: top;\n",
       "    }\n",
       "\n",
       "    .dataframe thead th {\n",
       "        text-align: right;\n",
       "    }\n",
       "</style>\n",
       "<table border=\"1\" class=\"dataframe\">\n",
       "  <thead>\n",
       "    <tr style=\"text-align: right;\">\n",
       "      <th></th>\n",
       "      <th>Country_Name</th>\n",
       "      <th>Year</th>\n",
       "      <th>Exports</th>\n",
       "      <th>GDP</th>\n",
       "      <th>GNI</th>\n",
       "      <th>Imports</th>\n",
       "      <th>Labor_Force</th>\n",
       "      <th>Population</th>\n",
       "    </tr>\n",
       "  </thead>\n",
       "  <tbody>\n",
       "    <tr>\n",
       "      <th>0</th>\n",
       "      <td>Afghanistan</td>\n",
       "      <td>2009</td>\n",
       "      <td>0.0</td>\n",
       "      <td>1.241615e+10</td>\n",
       "      <td>1.237834e+10</td>\n",
       "      <td>0.0</td>\n",
       "      <td>6504675</td>\n",
       "      <td>27385307</td>\n",
       "    </tr>\n",
       "    <tr>\n",
       "      <th>1</th>\n",
       "      <td>Afghanistan</td>\n",
       "      <td>2010</td>\n",
       "      <td>0.0</td>\n",
       "      <td>1.585667e+10</td>\n",
       "      <td>1.588578e+10</td>\n",
       "      <td>0.0</td>\n",
       "      <td>6738587</td>\n",
       "      <td>28189672</td>\n",
       "    </tr>\n",
       "    <tr>\n",
       "      <th>2</th>\n",
       "      <td>Afghanistan</td>\n",
       "      <td>2011</td>\n",
       "      <td>0.0</td>\n",
       "      <td>1.780510e+10</td>\n",
       "      <td>1.778151e+10</td>\n",
       "      <td>0.0</td>\n",
       "      <td>7095658</td>\n",
       "      <td>29249157</td>\n",
       "    </tr>\n",
       "    <tr>\n",
       "      <th>3</th>\n",
       "      <td>Afghanistan</td>\n",
       "      <td>2012</td>\n",
       "      <td>0.0</td>\n",
       "      <td>1.990733e+10</td>\n",
       "      <td>1.996126e+10</td>\n",
       "      <td>0.0</td>\n",
       "      <td>7520865</td>\n",
       "      <td>30466479</td>\n",
       "    </tr>\n",
       "    <tr>\n",
       "      <th>4</th>\n",
       "      <td>Afghanistan</td>\n",
       "      <td>2013</td>\n",
       "      <td>0.0</td>\n",
       "      <td>2.014642e+10</td>\n",
       "      <td>2.020935e+10</td>\n",
       "      <td>0.0</td>\n",
       "      <td>7881567</td>\n",
       "      <td>31541209</td>\n",
       "    </tr>\n",
       "  </tbody>\n",
       "</table>\n",
       "</div>"
      ],
      "text/plain": [
       "  Country_Name  Year  Exports           GDP           GNI  Imports  \\\n",
       "0  Afghanistan  2009      0.0  1.241615e+10  1.237834e+10      0.0   \n",
       "1  Afghanistan  2010      0.0  1.585667e+10  1.588578e+10      0.0   \n",
       "2  Afghanistan  2011      0.0  1.780510e+10  1.778151e+10      0.0   \n",
       "3  Afghanistan  2012      0.0  1.990733e+10  1.996126e+10      0.0   \n",
       "4  Afghanistan  2013      0.0  2.014642e+10  2.020935e+10      0.0   \n",
       "\n",
       "   Labor_Force  Population  \n",
       "0      6504675    27385307  \n",
       "1      6738587    28189672  \n",
       "2      7095658    29249157  \n",
       "3      7520865    30466479  \n",
       "4      7881567    31541209  "
      ]
     },
     "execution_count": 259,
     "metadata": {},
     "output_type": "execute_result"
    }
   ],
   "source": [
    "cleaned_df.to_csv('cleaned_gdp_df.csv', index=False)\n",
    "pd.read_csv('cleaned_gdp_df.csv').head()"
   ]
  },
  {
   "cell_type": "code",
   "execution_count": null,
   "metadata": {},
   "outputs": [],
   "source": []
  },
  {
   "cell_type": "code",
   "execution_count": 260,
   "metadata": {},
   "outputs": [
    {
     "name": "stderr",
     "output_type": "stream",
     "text": [
      "/tmp/ipykernel_3226/2987174696.py:1: SettingWithCopyWarning: \n",
      "A value is trying to be set on a copy of a slice from a DataFrame.\n",
      "Try using .loc[row_indexer,col_indexer] = value instead\n",
      "\n",
      "See the caveats in the documentation: https://pandas.pydata.org/pandas-docs/stable/user_guide/indexing.html#returning-a-view-versus-a-copy\n",
      "  cleaned_df.GDP = cleaned_df.GDP.astype('int')\n",
      "/tmp/ipykernel_3226/2987174696.py:2: SettingWithCopyWarning: \n",
      "A value is trying to be set on a copy of a slice from a DataFrame.\n",
      "Try using .loc[row_indexer,col_indexer] = value instead\n",
      "\n",
      "See the caveats in the documentation: https://pandas.pydata.org/pandas-docs/stable/user_guide/indexing.html#returning-a-view-versus-a-copy\n",
      "  cleaned_df.Exports = cleaned_df.Exports.astype('int')\n",
      "/tmp/ipykernel_3226/2987174696.py:3: SettingWithCopyWarning: \n",
      "A value is trying to be set on a copy of a slice from a DataFrame.\n",
      "Try using .loc[row_indexer,col_indexer] = value instead\n",
      "\n",
      "See the caveats in the documentation: https://pandas.pydata.org/pandas-docs/stable/user_guide/indexing.html#returning-a-view-versus-a-copy\n",
      "  cleaned_df.Imports = cleaned_df.Imports.astype('int')\n",
      "/tmp/ipykernel_3226/2987174696.py:4: SettingWithCopyWarning: \n",
      "A value is trying to be set on a copy of a slice from a DataFrame.\n",
      "Try using .loc[row_indexer,col_indexer] = value instead\n",
      "\n",
      "See the caveats in the documentation: https://pandas.pydata.org/pandas-docs/stable/user_guide/indexing.html#returning-a-view-versus-a-copy\n",
      "  cleaned_df.GNI = cleaned_df.GNI.astype('int')\n"
     ]
    },
    {
     "data": {
      "text/html": [
       "<div>\n",
       "<style scoped>\n",
       "    .dataframe tbody tr th:only-of-type {\n",
       "        vertical-align: middle;\n",
       "    }\n",
       "\n",
       "    .dataframe tbody tr th {\n",
       "        vertical-align: top;\n",
       "    }\n",
       "\n",
       "    .dataframe thead th {\n",
       "        text-align: right;\n",
       "    }\n",
       "</style>\n",
       "<table border=\"1\" class=\"dataframe\">\n",
       "  <thead>\n",
       "    <tr style=\"text-align: right;\">\n",
       "      <th>Series Name</th>\n",
       "      <th>Country_Name</th>\n",
       "      <th>Year</th>\n",
       "      <th>Exports</th>\n",
       "      <th>GDP</th>\n",
       "      <th>GNI</th>\n",
       "      <th>Imports</th>\n",
       "      <th>Labor_Force</th>\n",
       "      <th>Population</th>\n",
       "    </tr>\n",
       "  </thead>\n",
       "  <tbody>\n",
       "    <tr>\n",
       "      <th>0</th>\n",
       "      <td>Afghanistan</td>\n",
       "      <td>2009</td>\n",
       "      <td>0</td>\n",
       "      <td>12416152732</td>\n",
       "      <td>12378340930</td>\n",
       "      <td>0</td>\n",
       "      <td>6504675</td>\n",
       "      <td>27385307</td>\n",
       "    </tr>\n",
       "    <tr>\n",
       "      <th>1</th>\n",
       "      <td>Afghanistan</td>\n",
       "      <td>2010</td>\n",
       "      <td>0</td>\n",
       "      <td>15856668555</td>\n",
       "      <td>15885775064</td>\n",
       "      <td>0</td>\n",
       "      <td>6738587</td>\n",
       "      <td>28189672</td>\n",
       "    </tr>\n",
       "    <tr>\n",
       "      <th>2</th>\n",
       "      <td>Afghanistan</td>\n",
       "      <td>2011</td>\n",
       "      <td>0</td>\n",
       "      <td>17805098206</td>\n",
       "      <td>17781511431</td>\n",
       "      <td>0</td>\n",
       "      <td>7095658</td>\n",
       "      <td>29249157</td>\n",
       "    </tr>\n",
       "    <tr>\n",
       "      <th>3</th>\n",
       "      <td>Afghanistan</td>\n",
       "      <td>2012</td>\n",
       "      <td>0</td>\n",
       "      <td>19907329777</td>\n",
       "      <td>19961261595</td>\n",
       "      <td>0</td>\n",
       "      <td>7520865</td>\n",
       "      <td>30466479</td>\n",
       "    </tr>\n",
       "    <tr>\n",
       "      <th>4</th>\n",
       "      <td>Afghanistan</td>\n",
       "      <td>2013</td>\n",
       "      <td>0</td>\n",
       "      <td>20146416757</td>\n",
       "      <td>20209353657</td>\n",
       "      <td>0</td>\n",
       "      <td>7881567</td>\n",
       "      <td>31541209</td>\n",
       "    </tr>\n",
       "  </tbody>\n",
       "</table>\n",
       "</div>"
      ],
      "text/plain": [
       "Series Name Country_Name  Year  Exports          GDP          GNI  Imports  \\\n",
       "0            Afghanistan  2009        0  12416152732  12378340930        0   \n",
       "1            Afghanistan  2010        0  15856668555  15885775064        0   \n",
       "2            Afghanistan  2011        0  17805098206  17781511431        0   \n",
       "3            Afghanistan  2012        0  19907329777  19961261595        0   \n",
       "4            Afghanistan  2013        0  20146416757  20209353657        0   \n",
       "\n",
       "Series Name  Labor_Force  Population  \n",
       "0                6504675    27385307  \n",
       "1                6738587    28189672  \n",
       "2                7095658    29249157  \n",
       "3                7520865    30466479  \n",
       "4                7881567    31541209  "
      ]
     },
     "execution_count": 260,
     "metadata": {},
     "output_type": "execute_result"
    }
   ],
   "source": [
    "cleaned_df.GDP = cleaned_df.GDP.astype('int')\n",
    "cleaned_df.Exports = cleaned_df.Exports.astype('int')\n",
    "cleaned_df.Imports = cleaned_df.Imports.astype('int')\n",
    "cleaned_df.GNI = cleaned_df.GNI.astype('int')\n",
    "\n",
    "cleaned_df.head()"
   ]
  },
  {
   "cell_type": "code",
   "execution_count": 261,
   "metadata": {},
   "outputs": [
    {
     "data": {
      "text/plain": [
       "Country_Name\n",
       "British Virgin Islands                0\n",
       "Gibraltar                             0\n",
       "Korea, Dem. People's Rep.             0\n",
       "Tuvalu                        675247143\n",
       "Nauru                        1607346025\n",
       "St. Martin (French part)     2850210005\n",
       "Marshall Islands             3124922570\n",
       "Kiribati                     3244196114\n",
       "Palau                        3714152302\n",
       "Sao Tome and Principe        5219199305\n",
       "Name: GDP, dtype: int64"
      ]
     },
     "execution_count": 261,
     "metadata": {},
     "output_type": "execute_result"
    }
   ],
   "source": [
    "# gdp_group_per_country\n",
    "cleaned_df.groupby('Country_Name').GDP.sum().sort_values().head(10)"
   ]
  },
  {
   "cell_type": "code",
   "execution_count": 275,
   "metadata": {},
   "outputs": [
    {
     "data": {
      "text/plain": [
       "Country_Name\n",
       "Kiribati                     351421409\n",
       "Eritrea                      560365722\n",
       "Nauru                        900913991\n",
       "Tonga                       1045517468\n",
       "Marshall Islands            1213690661\n",
       "Micronesia, Fed. Sts.       1398962200\n",
       "Palau                       1461153390\n",
       "Comoros                     1759923230\n",
       "Dominica                    2024703698\n",
       "Burundi                     2577417227\n",
       "Samoa                       3276453167\n",
       "Gambia, The                 3501797459\n",
       "Suriname                    4005480069\n",
       "Guinea-Bissau               4189363448\n",
       "Vanuatu                     4528113262\n",
       "Central African Republic    4601404169\n",
       "American Samoa              5821000000\n",
       "Northern Mariana Islands    5915000000\n",
       "Timor-Leste                 5930680800\n",
       "Afghanistan                 6791196845\n",
       "Name: Exports, dtype: int64"
      ]
     },
     "execution_count": 275,
     "metadata": {},
     "output_type": "execute_result"
    }
   ],
   "source": [
    "cleaned_df.groupby('Country_Name').Exports.sum().sort_values(ascending=True).head(20)"
   ]
  },
  {
   "cell_type": "code",
   "execution_count": 274,
   "metadata": {},
   "outputs": [
    {
     "data": {
      "text/plain": [
       "Country_Name\n",
       "China                   37701911350741\n",
       "United States           32106227000000\n",
       "Germany                 26060522756180\n",
       "United Kingdom          12817368194303\n",
       "France                  12261759128742\n",
       "Japan                   11894346809845\n",
       "Netherlands             10855467005123\n",
       "Korea, Rep.              9923913456732\n",
       "Singapore                9428213964477\n",
       "Italy                    9266208771996\n",
       "Hong Kong SAR, China     9087396031666\n",
       "Canada                   8283689633641\n",
       "India                    7640641083815\n",
       "Switzerland              7322708755783\n",
       "Russian Federation       7261552685009\n",
       "Spain                    6823091240538\n",
       "Mexico                   6689466033445\n",
       "Belgium                  6457733913253\n",
       "Ireland                  6296724010997\n",
       "Australia                4684991621377\n",
       "Name: Exports, dtype: int64"
      ]
     },
     "execution_count": 274,
     "metadata": {},
     "output_type": "execute_result"
    }
   ],
   "source": [
    "cleaned_df.groupby('Country_Name').Exports.sum().sort_values(ascending=False).head(20)"
   ]
  },
  {
   "cell_type": "code",
   "execution_count": 277,
   "metadata": {},
   "outputs": [],
   "source": [
    "guinea_gdp = cleaned_df[cleaned_df.Country_Name.isin(['Guinea', 'Senegal'])]"
   ]
  },
  {
   "cell_type": "code",
   "execution_count": 280,
   "metadata": {},
   "outputs": [
    {
     "data": {
      "text/plain": [
       "<Axes: xlabel='Year', ylabel='GDP'>"
      ]
     },
     "execution_count": 280,
     "metadata": {},
     "output_type": "execute_result"
    },
    {
     "data": {
      "image/png": "[encoded data removed]",
      "text/plain": [
       "<Figure size 640x480 with 1 Axes>"
      ]
     },
     "metadata": {},
     "output_type": "display_data"
    }
   ],
   "source": [
    "sns.lineplot(data=guinea_gdp, x='Year', y='GDP', hue='Country_Name')"
   ]
  },
  {
   "cell_type": "code",
   "execution_count": 281,
   "metadata": {},
   "outputs": [
    {
     "data": {
      "text/plain": [
       "<Axes: xlabel='Year', ylabel='Exports'>"
      ]
     },
     "execution_count": 281,
     "metadata": {},
     "output_type": "execute_result"
    },
    {
     "data": {
      "image/png": "[encoded data removed]",
      "text/plain": [
       "<Figure size 640x480 with 1 Axes>"
      ]
     },
     "metadata": {},
     "output_type": "display_data"
    }
   ],
   "source": [
    "sns.lineplot(data=guinea_gdp, x='Year', y='Exports', hue='Country_Name')"
   ]
  },
  {
   "cell_type": "code",
   "execution_count": 283,
   "metadata": {},
   "outputs": [
    {
     "data": {
      "text/plain": [
       "<Axes: xlabel='Year', ylabel='Imports'>"
      ]
     },
     "execution_count": 283,
     "metadata": {},
     "output_type": "execute_result"
    },
    {
     "data": {
      "image/png": "[encoded data removed]",
      "text/plain": [
       "<Figure size 640x480 with 1 Axes>"
      ]
     },
     "metadata": {},
     "output_type": "display_data"
    }
   ],
   "source": [
    "sns.lineplot(data=guinea_gdp, x='Year', y='Imports', hue='Country_Name')"
   ]
  },
  {
   "cell_type": "code",
   "execution_count": 285,
   "metadata": {},
   "outputs": [
    {
     "data": {
      "text/plain": [
       "<Axes: xlabel='Population'>"
      ]
     },
     "execution_count": 285,
     "metadata": {},
     "output_type": "execute_result"
    },
    {
     "data": {
      "image/png": "[encoded data removed]",
      "text/plain": [
       "<Figure size 640x480 with 1 Axes>"
      ]
     },
     "metadata": {},
     "output_type": "display_data"
    }
   ],
   "source": [
    "sns.barplot(data=guinea_gdp, x='Population', hue='Country_Name')"
   ]
  },
  {
   "cell_type": "code",
   "execution_count": 290,
   "metadata": {},
   "outputs": [
    {
     "data": {
      "text/plain": [
       "<Axes: xlabel='Exports', ylabel='GDP'>"
      ]
     },
     "execution_count": 290,
     "metadata": {},
     "output_type": "execute_result"
    },
    {
     "data": {
      "image/png": "[encoded data removed]",
      "text/plain": [
       "<Figure size 640x480 with 1 Axes>"
      ]
     },
     "metadata": {},
     "output_type": "display_data"
    }
   ],
   "source": [
    "sns.scatterplot(data=guinea_gdp, x='Exports', y='GDP', \n",
    "                hue='Country_Name')"
   ]
  },
  {
   "cell_type": "code",
   "execution_count": 292,
   "metadata": {},
   "outputs": [
    {
     "data": {
      "text/plain": [
       "np.float64(0.7703907830437214)"
      ]
     },
     "execution_count": 292,
     "metadata": {},
     "output_type": "execute_result"
    }
   ],
   "source": [
    "guinea_gdp.GDP.corr(guinea_gdp.Exports)"
   ]
  },
  {
   "cell_type": "code",
   "execution_count": null,
   "metadata": {},
   "outputs": [],
   "source": []
  }
 ],
 "metadata": {
  "kernelspec": {
   "display_name": "Python 3",
   "language": "python",
   "name": "python3"
  },
  "language_info": {
   "codemirror_mode": {
    "name": "ipython",
    "version": 3
   },
   "file_extension": ".py",
   "mimetype": "text/x-python",
   "name": "python",
   "nbconvert_exporter": "python",
   "pygments_lexer": "ipython3",
   "version": "3.12.1"
  }
 },
 "nbformat": 4,
 "nbformat_minor": 2
}
