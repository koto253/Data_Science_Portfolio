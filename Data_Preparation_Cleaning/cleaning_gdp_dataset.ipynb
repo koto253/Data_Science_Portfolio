{
 "cells": [
  {
   "cell_type": "code",
   "execution_count": 57,
   "id": "f26a329d-b514-4e1e-98e8-bccadd229d49",
   "metadata": {},
   "outputs": [],
   "source": [
    "import pandas as pd\n",
    "import numpy as np\n",
    "import matplotlib.pyplot as plt\n",
    "import seaborn as sns"
   ]
  },
  {
   "cell_type": "code",
   "execution_count": 58,
   "id": "b0430d6b-2587-49fd-aff4-cc4e4c790ec4",
   "metadata": {},
   "outputs": [
    {
     "data": {
      "text/html": [
       "<div>\n",
       "<style scoped>\n",
       "    .dataframe tbody tr th:only-of-type {\n",
       "        vertical-align: middle;\n",
       "    }\n",
       "\n",
       "    .dataframe tbody tr th {\n",
       "        vertical-align: top;\n",
       "    }\n",
       "\n",
       "    .dataframe thead th {\n",
       "        text-align: right;\n",
       "    }\n",
       "</style>\n",
       "<table border=\"1\" class=\"dataframe\">\n",
       "  <thead>\n",
       "    <tr style=\"text-align: right;\">\n",
       "      <th></th>\n",
       "      <th>Country Name</th>\n",
       "      <th>Series Name</th>\n",
       "      <th>2009 [YR2009]</th>\n",
       "      <th>2010 [YR2010]</th>\n",
       "      <th>2011 [YR2011]</th>\n",
       "      <th>2012 [YR2012]</th>\n",
       "      <th>2013 [YR2013]</th>\n",
       "      <th>2014 [YR2014]</th>\n",
       "      <th>2015 [YR2015]</th>\n",
       "      <th>2016 [YR2016]</th>\n",
       "      <th>2017 [YR2017]</th>\n",
       "      <th>2018 [YR2018]</th>\n",
       "      <th>2019 [YR2019]</th>\n",
       "      <th>2020 [YR2020]</th>\n",
       "      <th>2021 [YR2021]</th>\n",
       "      <th>2022 [YR2022]</th>\n",
       "      <th>2023 [YR2023]</th>\n",
       "    </tr>\n",
       "  </thead>\n",
       "  <tbody>\n",
       "    <tr>\n",
       "      <th>0</th>\n",
       "      <td>Afghanistan</td>\n",
       "      <td>GDP (current US$)</td>\n",
       "      <td>12416152732.0567</td>\n",
       "      <td>15856668555.8336</td>\n",
       "      <td>17805098206.3141</td>\n",
       "      <td>19907329777.5872</td>\n",
       "      <td>20146416757.5987</td>\n",
       "      <td>20497128555.6972</td>\n",
       "      <td>19134221644.7325</td>\n",
       "      <td>18116572395.0772</td>\n",
       "      <td>18753456497.8159</td>\n",
       "      <td>18053222687.4126</td>\n",
       "      <td>18799444490.1128</td>\n",
       "      <td>19955929052.1496</td>\n",
       "      <td>14266499429.8746</td>\n",
       "      <td>14502158192.0904</td>\n",
       "      <td>..</td>\n",
       "    </tr>\n",
       "    <tr>\n",
       "      <th>1</th>\n",
       "      <td>Afghanistan</td>\n",
       "      <td>GNI (current US$)</td>\n",
       "      <td>12378340930.5187</td>\n",
       "      <td>15885775064.3022</td>\n",
       "      <td>17781511431.23</td>\n",
       "      <td>19961261595.0253</td>\n",
       "      <td>20209353657.8054</td>\n",
       "      <td>20559672324.9094</td>\n",
       "      <td>19249499438.7455</td>\n",
       "      <td>18350475875.2999</td>\n",
       "      <td>18961769787.4548</td>\n",
       "      <td>18294513957.5523</td>\n",
       "      <td>19080662010.7479</td>\n",
       "      <td>20105156769.1907</td>\n",
       "      <td>14352632363.74</td>\n",
       "      <td>14545219074.5763</td>\n",
       "      <td>..</td>\n",
       "    </tr>\n",
       "    <tr>\n",
       "      <th>2</th>\n",
       "      <td>Afghanistan</td>\n",
       "      <td>Imports of goods and services (current US$)</td>\n",
       "      <td>..</td>\n",
       "      <td>..</td>\n",
       "      <td>..</td>\n",
       "      <td>..</td>\n",
       "      <td>..</td>\n",
       "      <td>..</td>\n",
       "      <td>..</td>\n",
       "      <td>..</td>\n",
       "      <td>..</td>\n",
       "      <td>..</td>\n",
       "      <td>..</td>\n",
       "      <td>7241822542.17594</td>\n",
       "      <td>5288529076.39681</td>\n",
       "      <td>7904463276.83616</td>\n",
       "      <td>..</td>\n",
       "    </tr>\n",
       "    <tr>\n",
       "      <th>3</th>\n",
       "      <td>Afghanistan</td>\n",
       "      <td>Exports of goods and services (current US$)</td>\n",
       "      <td>..</td>\n",
       "      <td>..</td>\n",
       "      <td>..</td>\n",
       "      <td>..</td>\n",
       "      <td>..</td>\n",
       "      <td>..</td>\n",
       "      <td>..</td>\n",
       "      <td>..</td>\n",
       "      <td>..</td>\n",
       "      <td>..</td>\n",
       "      <td>..</td>\n",
       "      <td>2079570874.83738</td>\n",
       "      <td>2046123147.09236</td>\n",
       "      <td>2665502824.85876</td>\n",
       "      <td>..</td>\n",
       "    </tr>\n",
       "    <tr>\n",
       "      <th>4</th>\n",
       "      <td>Afghanistan</td>\n",
       "      <td>Inflation, consumer prices (annual %)</td>\n",
       "      <td>-6.81116108898993</td>\n",
       "      <td>2.17853752389414</td>\n",
       "      <td>11.8041858089129</td>\n",
       "      <td>6.44121280934117</td>\n",
       "      <td>7.38577178397855</td>\n",
       "      <td>4.67399603536305</td>\n",
       "      <td>-0.66170916471352</td>\n",
       "      <td>4.38389195513893</td>\n",
       "      <td>4.97595150553892</td>\n",
       "      <td>0.626149149168983</td>\n",
       "      <td>2.30237251516819</td>\n",
       "      <td>..</td>\n",
       "      <td>..</td>\n",
       "      <td>..</td>\n",
       "      <td>..</td>\n",
       "    </tr>\n",
       "  </tbody>\n",
       "</table>\n",
       "</div>"
      ],
      "text/plain": [
       "  Country Name                                  Series Name  \\\n",
       "0  Afghanistan                            GDP (current US$)   \n",
       "1  Afghanistan                            GNI (current US$)   \n",
       "2  Afghanistan  Imports of goods and services (current US$)   \n",
       "3  Afghanistan  Exports of goods and services (current US$)   \n",
       "4  Afghanistan        Inflation, consumer prices (annual %)   \n",
       "\n",
       "       2009 [YR2009]     2010 [YR2010]     2011 [YR2011]     2012 [YR2012]  \\\n",
       "0   12416152732.0567  15856668555.8336  17805098206.3141  19907329777.5872   \n",
       "1   12378340930.5187  15885775064.3022    17781511431.23  19961261595.0253   \n",
       "2                 ..                ..                ..                ..   \n",
       "3                 ..                ..                ..                ..   \n",
       "4  -6.81116108898993  2.17853752389414  11.8041858089129  6.44121280934117   \n",
       "\n",
       "      2013 [YR2013]     2014 [YR2014]      2015 [YR2015]     2016 [YR2016]  \\\n",
       "0  20146416757.5987  20497128555.6972   19134221644.7325  18116572395.0772   \n",
       "1  20209353657.8054  20559672324.9094   19249499438.7455  18350475875.2999   \n",
       "2                ..                ..                 ..                ..   \n",
       "3                ..                ..                 ..                ..   \n",
       "4  7.38577178397855  4.67399603536305  -0.66170916471352  4.38389195513893   \n",
       "\n",
       "      2017 [YR2017]      2018 [YR2018]     2019 [YR2019]     2020 [YR2020]  \\\n",
       "0  18753456497.8159   18053222687.4126  18799444490.1128  19955929052.1496   \n",
       "1  18961769787.4548   18294513957.5523  19080662010.7479  20105156769.1907   \n",
       "2                ..                 ..                ..  7241822542.17594   \n",
       "3                ..                 ..                ..  2079570874.83738   \n",
       "4  4.97595150553892  0.626149149168983  2.30237251516819                ..   \n",
       "\n",
       "      2021 [YR2021]     2022 [YR2022] 2023 [YR2023]  \n",
       "0  14266499429.8746  14502158192.0904            ..  \n",
       "1    14352632363.74  14545219074.5763            ..  \n",
       "2  5288529076.39681  7904463276.83616            ..  \n",
       "3  2046123147.09236  2665502824.85876            ..  \n",
       "4                ..                ..            ..  "
      ]
     },
     "execution_count": 58,
     "metadata": {},
     "output_type": "execute_result"
    }
   ],
   "source": [
    "# loading the dataset\n",
    "df = pd.read_csv('/workspaces/Portfolio_Project/Dataset/word_develop_ind.csv')\n",
    "df.head() "
   ]
  },
  {
   "cell_type": "code",
   "execution_count": 59,
   "id": "494800ec-5651-4b6a-a37d-0b7cadeb00b1",
   "metadata": {},
   "outputs": [],
   "source": [
    "# # Function to clean column names\n",
    "# def clean_column_name(col):\n",
    "#     if '[' in col and 'YR' in col and ']' in col:\n",
    "#         return col.split(' ')[0]\n",
    "#     return col\n",
    "\n",
    "# # Apply the function to all column names\n",
    "# df.columns = [clean_column_name(col) for col in df.columns]\n",
    "\n",
    "# # Display the cleaned DataFrame columns\n",
    "# print(df.columns)"
   ]
  },
  {
   "cell_type": "markdown",
   "id": "910ebda7",
   "metadata": {},
   "source": [
    "## Transforming the gdp dataset and renaming columns"
   ]
  },
  {
   "cell_type": "code",
   "execution_count": 60,
   "id": "4a98748f",
   "metadata": {},
   "outputs": [
    {
     "data": {
      "text/plain": [
       "Index(['Country Name', 'Series Name', '2009 [YR2009]', '2010 [YR2010]',\n",
       "       '2011 [YR2011]', '2012 [YR2012]', '2013 [YR2013]', '2014 [YR2014]',\n",
       "       '2015 [YR2015]', '2016 [YR2016]', '2017 [YR2017]', '2018 [YR2018]',\n",
       "       '2019 [YR2019]', '2020 [YR2020]', '2021 [YR2021]', '2022 [YR2022]',\n",
       "       '2023 [YR2023]'],\n",
       "      dtype='object')"
      ]
     },
     "execution_count": 60,
     "metadata": {},
     "output_type": "execute_result"
    }
   ],
   "source": [
    "df.columns"
   ]
  },
  {
   "cell_type": "code",
   "execution_count": 61,
   "id": "f324cd03",
   "metadata": {},
   "outputs": [
    {
     "data": {
      "text/html": [
       "<div>\n",
       "<style scoped>\n",
       "    .dataframe tbody tr th:only-of-type {\n",
       "        vertical-align: middle;\n",
       "    }\n",
       "\n",
       "    .dataframe tbody tr th {\n",
       "        vertical-align: top;\n",
       "    }\n",
       "\n",
       "    .dataframe thead th {\n",
       "        text-align: right;\n",
       "    }\n",
       "</style>\n",
       "<table border=\"1\" class=\"dataframe\">\n",
       "  <thead>\n",
       "    <tr style=\"text-align: right;\">\n",
       "      <th></th>\n",
       "      <th>Country Name</th>\n",
       "      <th>Series Name</th>\n",
       "      <th>Year</th>\n",
       "      <th>Value</th>\n",
       "    </tr>\n",
       "  </thead>\n",
       "  <tbody>\n",
       "    <tr>\n",
       "      <th>0</th>\n",
       "      <td>Afghanistan</td>\n",
       "      <td>GDP (current US$)</td>\n",
       "      <td>2009 [YR2009]</td>\n",
       "      <td>12416152732.0567</td>\n",
       "    </tr>\n",
       "    <tr>\n",
       "      <th>1</th>\n",
       "      <td>Afghanistan</td>\n",
       "      <td>GNI (current US$)</td>\n",
       "      <td>2009 [YR2009]</td>\n",
       "      <td>12378340930.5187</td>\n",
       "    </tr>\n",
       "    <tr>\n",
       "      <th>2</th>\n",
       "      <td>Afghanistan</td>\n",
       "      <td>Imports of goods and services (current US$)</td>\n",
       "      <td>2009 [YR2009]</td>\n",
       "      <td>..</td>\n",
       "    </tr>\n",
       "  </tbody>\n",
       "</table>\n",
       "</div>"
      ],
      "text/plain": [
       "  Country Name                                  Series Name           Year  \\\n",
       "0  Afghanistan                            GDP (current US$)  2009 [YR2009]   \n",
       "1  Afghanistan                            GNI (current US$)  2009 [YR2009]   \n",
       "2  Afghanistan  Imports of goods and services (current US$)  2009 [YR2009]   \n",
       "\n",
       "              Value  \n",
       "0  12416152732.0567  \n",
       "1  12378340930.5187  \n",
       "2                ..  "
      ]
     },
     "execution_count": 61,
     "metadata": {},
     "output_type": "execute_result"
    }
   ],
   "source": [
    "df_melted = df.melt(id_vars=['Country Name', 'Series Name'], var_name='Year', value_name='Value')\n",
    "df_melted.head(3)"
   ]
  },
  {
   "cell_type": "code",
   "execution_count": 62,
   "id": "cf5f5354",
   "metadata": {},
   "outputs": [
    {
     "data": {
      "text/plain": [
       "pandas.core.frame.DataFrame"
      ]
     },
     "execution_count": 62,
     "metadata": {},
     "output_type": "execute_result"
    }
   ],
   "source": [
    "type(df_melted)"
   ]
  },
  {
   "cell_type": "code",
   "execution_count": 63,
   "id": "64d0e38b",
   "metadata": {},
   "outputs": [
    {
     "data": {
      "text/html": [
       "<div>\n",
       "<style scoped>\n",
       "    .dataframe tbody tr th:only-of-type {\n",
       "        vertical-align: middle;\n",
       "    }\n",
       "\n",
       "    .dataframe tbody tr th {\n",
       "        vertical-align: top;\n",
       "    }\n",
       "\n",
       "    .dataframe thead th {\n",
       "        text-align: right;\n",
       "    }\n",
       "</style>\n",
       "<table border=\"1\" class=\"dataframe\">\n",
       "  <thead>\n",
       "    <tr style=\"text-align: right;\">\n",
       "      <th>Series Name</th>\n",
       "      <th>Country Name</th>\n",
       "      <th>Year</th>\n",
       "      <th>Exports of goods and services (current US$)</th>\n",
       "      <th>GDP (current US$)</th>\n",
       "      <th>GNI (current US$)</th>\n",
       "      <th>Imports of goods and services (current US$)</th>\n",
       "      <th>Industry (including construction), value added (annual % growth)</th>\n",
       "      <th>Inflation, consumer prices (annual %)</th>\n",
       "      <th>Labor force, total</th>\n",
       "      <th>Population, total</th>\n",
       "    </tr>\n",
       "  </thead>\n",
       "  <tbody>\n",
       "    <tr>\n",
       "      <th>0</th>\n",
       "      <td>Afghanistan</td>\n",
       "      <td>2009 [YR2009]</td>\n",
       "      <td>..</td>\n",
       "      <td>12416152732.0567</td>\n",
       "      <td>12378340930.5187</td>\n",
       "      <td>..</td>\n",
       "      <td>6.10714113128491</td>\n",
       "      <td>-6.81116108898993</td>\n",
       "      <td>6504675</td>\n",
       "      <td>27385307</td>\n",
       "    </tr>\n",
       "    <tr>\n",
       "      <th>1</th>\n",
       "      <td>Afghanistan</td>\n",
       "      <td>2010 [YR2010]</td>\n",
       "      <td>..</td>\n",
       "      <td>15856668555.8336</td>\n",
       "      <td>15885775064.3022</td>\n",
       "      <td>..</td>\n",
       "      <td>6.27060133814976</td>\n",
       "      <td>2.17853752389414</td>\n",
       "      <td>6738587</td>\n",
       "      <td>28189672</td>\n",
       "    </tr>\n",
       "    <tr>\n",
       "      <th>2</th>\n",
       "      <td>Afghanistan</td>\n",
       "      <td>2011 [YR2011]</td>\n",
       "      <td>..</td>\n",
       "      <td>17805098206.3141</td>\n",
       "      <td>17781511431.23</td>\n",
       "      <td>..</td>\n",
       "      <td>9.8076704185067</td>\n",
       "      <td>11.8041858089129</td>\n",
       "      <td>7095658</td>\n",
       "      <td>29249157</td>\n",
       "    </tr>\n",
       "  </tbody>\n",
       "</table>\n",
       "</div>"
      ],
      "text/plain": [
       "Series Name Country Name           Year  \\\n",
       "0            Afghanistan  2009 [YR2009]   \n",
       "1            Afghanistan  2010 [YR2010]   \n",
       "2            Afghanistan  2011 [YR2011]   \n",
       "\n",
       "Series Name Exports of goods and services (current US$) GDP (current US$)  \\\n",
       "0                                                    ..  12416152732.0567   \n",
       "1                                                    ..  15856668555.8336   \n",
       "2                                                    ..  17805098206.3141   \n",
       "\n",
       "Series Name GNI (current US$) Imports of goods and services (current US$)  \\\n",
       "0            12378340930.5187                                          ..   \n",
       "1            15885775064.3022                                          ..   \n",
       "2              17781511431.23                                          ..   \n",
       "\n",
       "Series Name Industry (including construction), value added (annual % growth)  \\\n",
       "0                                             6.10714113128491                 \n",
       "1                                             6.27060133814976                 \n",
       "2                                              9.8076704185067                 \n",
       "\n",
       "Series Name Inflation, consumer prices (annual %) Labor force, total  \\\n",
       "0                               -6.81116108898993            6504675   \n",
       "1                                2.17853752389414            6738587   \n",
       "2                                11.8041858089129            7095658   \n",
       "\n",
       "Series Name Population, total  \n",
       "0                    27385307  \n",
       "1                    28189672  \n",
       "2                    29249157  "
      ]
     },
     "execution_count": 63,
     "metadata": {},
     "output_type": "execute_result"
    }
   ],
   "source": [
    "pivot_df =  df_melted.pivot(index=['Country Name', 'Year'], columns= 'Series Name', values='Value').reset_index()\n",
    "pivot_df.head(3)"
   ]
  },
  {
   "cell_type": "code",
   "execution_count": 64,
   "id": "1cc13a9a",
   "metadata": {},
   "outputs": [
    {
     "data": {
      "text/plain": [
       "pandas.core.frame.DataFrame"
      ]
     },
     "execution_count": 64,
     "metadata": {},
     "output_type": "execute_result"
    }
   ],
   "source": [
    "type(pivot_df)"
   ]
  },
  {
   "cell_type": "code",
   "execution_count": 65,
   "id": "384aeaf5",
   "metadata": {},
   "outputs": [],
   "source": [
    "pivot_df.rename(columns={ 'Labor force, total': 'Labor_Force',            \n",
    "                    'Country Name': 'Country_Name',\n",
    "                   'Exports of goods and services (current US$)' : 'Exports',\n",
    "                   'Imports of goods and services (current US$)' : 'Imports',\n",
    "                   'Industry (including construction), value added (annual % growth)' : 'Industry_Rate',\n",
    "                   'Inflation, consumer prices (annual %)' : 'Inflation_Rate',\n",
    "                   'GDP (current US$)' : 'GDP', \n",
    "                    'Population, total': 'Population',\n",
    "                    'GNI (current US$)': 'GNI',\n",
    "                }, inplace=True)\n"
   ]
  },
  {
   "cell_type": "code",
   "execution_count": 66,
   "id": "f2357802",
   "metadata": {},
   "outputs": [
    {
     "data": {
      "text/html": [
       "<div>\n",
       "<style scoped>\n",
       "    .dataframe tbody tr th:only-of-type {\n",
       "        vertical-align: middle;\n",
       "    }\n",
       "\n",
       "    .dataframe tbody tr th {\n",
       "        vertical-align: top;\n",
       "    }\n",
       "\n",
       "    .dataframe thead th {\n",
       "        text-align: right;\n",
       "    }\n",
       "</style>\n",
       "<table border=\"1\" class=\"dataframe\">\n",
       "  <thead>\n",
       "    <tr style=\"text-align: right;\">\n",
       "      <th>Series Name</th>\n",
       "      <th>Country_Name</th>\n",
       "      <th>Year</th>\n",
       "      <th>Exports</th>\n",
       "      <th>GDP</th>\n",
       "      <th>GNI</th>\n",
       "      <th>Imports</th>\n",
       "      <th>Industry_Rate</th>\n",
       "      <th>Inflation_Rate</th>\n",
       "      <th>Labor_Force</th>\n",
       "      <th>Population</th>\n",
       "    </tr>\n",
       "  </thead>\n",
       "  <tbody>\n",
       "    <tr>\n",
       "      <th>0</th>\n",
       "      <td>Afghanistan</td>\n",
       "      <td>2009 [YR2009]</td>\n",
       "      <td>..</td>\n",
       "      <td>12416152732.0567</td>\n",
       "      <td>12378340930.5187</td>\n",
       "      <td>..</td>\n",
       "      <td>6.10714113128491</td>\n",
       "      <td>-6.81116108898993</td>\n",
       "      <td>6504675</td>\n",
       "      <td>27385307</td>\n",
       "    </tr>\n",
       "    <tr>\n",
       "      <th>1</th>\n",
       "      <td>Afghanistan</td>\n",
       "      <td>2010 [YR2010]</td>\n",
       "      <td>..</td>\n",
       "      <td>15856668555.8336</td>\n",
       "      <td>15885775064.3022</td>\n",
       "      <td>..</td>\n",
       "      <td>6.27060133814976</td>\n",
       "      <td>2.17853752389414</td>\n",
       "      <td>6738587</td>\n",
       "      <td>28189672</td>\n",
       "    </tr>\n",
       "    <tr>\n",
       "      <th>2</th>\n",
       "      <td>Afghanistan</td>\n",
       "      <td>2011 [YR2011]</td>\n",
       "      <td>..</td>\n",
       "      <td>17805098206.3141</td>\n",
       "      <td>17781511431.23</td>\n",
       "      <td>..</td>\n",
       "      <td>9.8076704185067</td>\n",
       "      <td>11.8041858089129</td>\n",
       "      <td>7095658</td>\n",
       "      <td>29249157</td>\n",
       "    </tr>\n",
       "    <tr>\n",
       "      <th>3</th>\n",
       "      <td>Afghanistan</td>\n",
       "      <td>2012 [YR2012]</td>\n",
       "      <td>..</td>\n",
       "      <td>19907329777.5872</td>\n",
       "      <td>19961261595.0253</td>\n",
       "      <td>..</td>\n",
       "      <td>6.3940710078319</td>\n",
       "      <td>6.44121280934117</td>\n",
       "      <td>7520865</td>\n",
       "      <td>30466479</td>\n",
       "    </tr>\n",
       "    <tr>\n",
       "      <th>4</th>\n",
       "      <td>Afghanistan</td>\n",
       "      <td>2013 [YR2013]</td>\n",
       "      <td>..</td>\n",
       "      <td>20146416757.5987</td>\n",
       "      <td>20209353657.8054</td>\n",
       "      <td>..</td>\n",
       "      <td>5.06099068169274</td>\n",
       "      <td>7.38577178397855</td>\n",
       "      <td>7881567</td>\n",
       "      <td>31541209</td>\n",
       "    </tr>\n",
       "  </tbody>\n",
       "</table>\n",
       "</div>"
      ],
      "text/plain": [
       "Series Name Country_Name           Year Exports               GDP  \\\n",
       "0            Afghanistan  2009 [YR2009]      ..  12416152732.0567   \n",
       "1            Afghanistan  2010 [YR2010]      ..  15856668555.8336   \n",
       "2            Afghanistan  2011 [YR2011]      ..  17805098206.3141   \n",
       "3            Afghanistan  2012 [YR2012]      ..  19907329777.5872   \n",
       "4            Afghanistan  2013 [YR2013]      ..  20146416757.5987   \n",
       "\n",
       "Series Name               GNI Imports     Industry_Rate     Inflation_Rate  \\\n",
       "0            12378340930.5187      ..  6.10714113128491  -6.81116108898993   \n",
       "1            15885775064.3022      ..  6.27060133814976   2.17853752389414   \n",
       "2              17781511431.23      ..   9.8076704185067   11.8041858089129   \n",
       "3            19961261595.0253      ..   6.3940710078319   6.44121280934117   \n",
       "4            20209353657.8054      ..  5.06099068169274   7.38577178397855   \n",
       "\n",
       "Series Name Labor_Force Population  \n",
       "0               6504675   27385307  \n",
       "1               6738587   28189672  \n",
       "2               7095658   29249157  \n",
       "3               7520865   30466479  \n",
       "4               7881567   31541209  "
      ]
     },
     "execution_count": 66,
     "metadata": {},
     "output_type": "execute_result"
    }
   ],
   "source": [
    "renamed_df = pivot_df\n",
    "renamed_df.head()"
   ]
  },
  {
   "cell_type": "markdown",
   "id": "d716301f",
   "metadata": {},
   "source": [
    "## Cleaning the gdp dataset"
   ]
  },
  {
   "cell_type": "code",
   "execution_count": 67,
   "id": "fe49455a",
   "metadata": {},
   "outputs": [
    {
     "data": {
      "text/html": [
       "<div>\n",
       "<style scoped>\n",
       "    .dataframe tbody tr th:only-of-type {\n",
       "        vertical-align: middle;\n",
       "    }\n",
       "\n",
       "    .dataframe tbody tr th {\n",
       "        vertical-align: top;\n",
       "    }\n",
       "\n",
       "    .dataframe thead th {\n",
       "        text-align: right;\n",
       "    }\n",
       "</style>\n",
       "<table border=\"1\" class=\"dataframe\">\n",
       "  <thead>\n",
       "    <tr style=\"text-align: right;\">\n",
       "      <th>Series Name</th>\n",
       "      <th>Country_Name</th>\n",
       "      <th>Year</th>\n",
       "      <th>Exports</th>\n",
       "      <th>GDP</th>\n",
       "      <th>GNI</th>\n",
       "      <th>Imports</th>\n",
       "      <th>Industry_Rate</th>\n",
       "      <th>Inflation_Rate</th>\n",
       "      <th>Labor_Force</th>\n",
       "      <th>Population</th>\n",
       "    </tr>\n",
       "  </thead>\n",
       "  <tbody>\n",
       "    <tr>\n",
       "      <th>0</th>\n",
       "      <td>Afghanistan</td>\n",
       "      <td>2009</td>\n",
       "      <td>..</td>\n",
       "      <td>12416152732.0567</td>\n",
       "      <td>12378340930.5187</td>\n",
       "      <td>..</td>\n",
       "      <td>6.10714113128491</td>\n",
       "      <td>-6.81116108898993</td>\n",
       "      <td>6504675</td>\n",
       "      <td>27385307</td>\n",
       "    </tr>\n",
       "    <tr>\n",
       "      <th>1</th>\n",
       "      <td>Afghanistan</td>\n",
       "      <td>2010</td>\n",
       "      <td>..</td>\n",
       "      <td>15856668555.8336</td>\n",
       "      <td>15885775064.3022</td>\n",
       "      <td>..</td>\n",
       "      <td>6.27060133814976</td>\n",
       "      <td>2.17853752389414</td>\n",
       "      <td>6738587</td>\n",
       "      <td>28189672</td>\n",
       "    </tr>\n",
       "  </tbody>\n",
       "</table>\n",
       "</div>"
      ],
      "text/plain": [
       "Series Name Country_Name  Year Exports               GDP               GNI  \\\n",
       "0            Afghanistan  2009      ..  12416152732.0567  12378340930.5187   \n",
       "1            Afghanistan  2010      ..  15856668555.8336  15885775064.3022   \n",
       "\n",
       "Series Name Imports     Industry_Rate     Inflation_Rate Labor_Force  \\\n",
       "0                ..  6.10714113128491  -6.81116108898993     6504675   \n",
       "1                ..  6.27060133814976   2.17853752389414     6738587   \n",
       "\n",
       "Series Name Population  \n",
       "0             27385307  \n",
       "1             28189672  "
      ]
     },
     "execution_count": 67,
     "metadata": {},
     "output_type": "execute_result"
    }
   ],
   "source": [
    "renamed_df['Year'] = renamed_df['Year'].str.split(' ', expand=True)[0]\n",
    "renamed_df.head(2)"
   ]
  },
  {
   "cell_type": "code",
   "execution_count": 68,
   "id": "51379979",
   "metadata": {},
   "outputs": [
    {
     "data": {
      "text/plain": [
       "np.int64(0)"
      ]
     },
     "execution_count": 68,
     "metadata": {},
     "output_type": "execute_result"
    }
   ],
   "source": [
    "# check for duplicates\n",
    "renamed_df.duplicated().sum()"
   ]
  },
  {
   "cell_type": "code",
   "execution_count": 69,
   "id": "9e7949e3-e6b8-419e-95a4-27ebfa163da5",
   "metadata": {},
   "outputs": [
    {
     "data": {
      "text/plain": [
       "(3255, 10)"
      ]
     },
     "execution_count": 69,
     "metadata": {},
     "output_type": "execute_result"
    }
   ],
   "source": [
    "renamed_df.shape"
   ]
  },
  {
   "cell_type": "code",
   "execution_count": 70,
   "id": "42cb4c22",
   "metadata": {},
   "outputs": [
    {
     "data": {
      "text/plain": [
       "Series Name\n",
       "Country_Name      0\n",
       "Year              0\n",
       "Exports           0\n",
       "GDP               0\n",
       "GNI               0\n",
       "Imports           0\n",
       "Industry_Rate     0\n",
       "Inflation_Rate    0\n",
       "Labor_Force       0\n",
       "Population        0\n",
       "dtype: int64"
      ]
     },
     "execution_count": 70,
     "metadata": {},
     "output_type": "execute_result"
    }
   ],
   "source": [
    "renamed_df.isna().sum()"
   ]
  },
  {
   "cell_type": "code",
   "execution_count": 71,
   "id": "014d67f4",
   "metadata": {},
   "outputs": [
    {
     "data": {
      "text/plain": [
       "Series Name\n",
       "Country_Name      object\n",
       "Year              object\n",
       "Exports           object\n",
       "GDP               object\n",
       "GNI               object\n",
       "Imports           object\n",
       "Industry_Rate     object\n",
       "Inflation_Rate    object\n",
       "Labor_Force       object\n",
       "Population        object\n",
       "dtype: object"
      ]
     },
     "execution_count": 71,
     "metadata": {},
     "output_type": "execute_result"
    }
   ],
   "source": [
    "renamed_df.dtypes"
   ]
  },
  {
   "cell_type": "code",
   "execution_count": 72,
   "id": "34f52f45",
   "metadata": {},
   "outputs": [
    {
     "data": {
      "text/html": [
       "<div>\n",
       "<style scoped>\n",
       "    .dataframe tbody tr th:only-of-type {\n",
       "        vertical-align: middle;\n",
       "    }\n",
       "\n",
       "    .dataframe tbody tr th {\n",
       "        vertical-align: top;\n",
       "    }\n",
       "\n",
       "    .dataframe thead th {\n",
       "        text-align: right;\n",
       "    }\n",
       "</style>\n",
       "<table border=\"1\" class=\"dataframe\">\n",
       "  <thead>\n",
       "    <tr style=\"text-align: right;\">\n",
       "      <th>Series Name</th>\n",
       "      <th>Country_Name</th>\n",
       "      <th>Year</th>\n",
       "      <th>Exports</th>\n",
       "      <th>GDP</th>\n",
       "      <th>GNI</th>\n",
       "      <th>Imports</th>\n",
       "      <th>Industry_Rate</th>\n",
       "      <th>Inflation_Rate</th>\n",
       "      <th>Labor_Force</th>\n",
       "      <th>Population</th>\n",
       "    </tr>\n",
       "  </thead>\n",
       "  <tbody>\n",
       "    <tr>\n",
       "      <th>0</th>\n",
       "      <td>Afghanistan</td>\n",
       "      <td>2009</td>\n",
       "      <td>NaN</td>\n",
       "      <td>12416152732.0567</td>\n",
       "      <td>12378340930.5187</td>\n",
       "      <td>NaN</td>\n",
       "      <td>6.10714113128491</td>\n",
       "      <td>-6.81116108898993</td>\n",
       "      <td>6504675</td>\n",
       "      <td>27385307</td>\n",
       "    </tr>\n",
       "    <tr>\n",
       "      <th>1</th>\n",
       "      <td>Afghanistan</td>\n",
       "      <td>2010</td>\n",
       "      <td>NaN</td>\n",
       "      <td>15856668555.8336</td>\n",
       "      <td>15885775064.3022</td>\n",
       "      <td>NaN</td>\n",
       "      <td>6.27060133814976</td>\n",
       "      <td>2.17853752389414</td>\n",
       "      <td>6738587</td>\n",
       "      <td>28189672</td>\n",
       "    </tr>\n",
       "  </tbody>\n",
       "</table>\n",
       "</div>"
      ],
      "text/plain": [
       "Series Name Country_Name  Year Exports               GDP               GNI  \\\n",
       "0            Afghanistan  2009     NaN  12416152732.0567  12378340930.5187   \n",
       "1            Afghanistan  2010     NaN  15856668555.8336  15885775064.3022   \n",
       "\n",
       "Series Name Imports     Industry_Rate     Inflation_Rate Labor_Force  \\\n",
       "0               NaN  6.10714113128491  -6.81116108898993     6504675   \n",
       "1               NaN  6.27060133814976   2.17853752389414     6738587   \n",
       "\n",
       "Series Name Population  \n",
       "0             27385307  \n",
       "1             28189672  "
      ]
     },
     "execution_count": 72,
     "metadata": {},
     "output_type": "execute_result"
    }
   ],
   "source": [
    "renamed_df.replace('..', np.nan, inplace=True)\n",
    "renamed_df.head(2)"
   ]
  },
  {
   "cell_type": "code",
   "execution_count": 73,
   "id": "689b0a83",
   "metadata": {},
   "outputs": [
    {
     "data": {
      "text/plain": [
       "Series Name\n",
       "Country_Name        0\n",
       "Year                0\n",
       "Exports           560\n",
       "GDP               133\n",
       "GNI               271\n",
       "Imports           560\n",
       "Industry_Rate     469\n",
       "Inflation_Rate    554\n",
       "Labor_Force       453\n",
       "Population          0\n",
       "dtype: int64"
      ]
     },
     "execution_count": 73,
     "metadata": {},
     "output_type": "execute_result"
    }
   ],
   "source": [
    "renamed_df.isna().sum()"
   ]
  },
  {
   "cell_type": "code",
   "execution_count": 74,
   "id": "aff4f00d",
   "metadata": {},
   "outputs": [],
   "source": [
    "# Drop rows with any NaN values\n",
    "renamed_df.dropna(inplace=True)"
   ]
  },
  {
   "cell_type": "code",
   "execution_count": 75,
   "id": "40f0bba2",
   "metadata": {},
   "outputs": [
    {
     "data": {
      "text/plain": [
       "Series Name\n",
       "Country_Name      0\n",
       "Year              0\n",
       "Exports           0\n",
       "GDP               0\n",
       "GNI               0\n",
       "Imports           0\n",
       "Industry_Rate     0\n",
       "Inflation_Rate    0\n",
       "Labor_Force       0\n",
       "Population        0\n",
       "dtype: int64"
      ]
     },
     "execution_count": 75,
     "metadata": {},
     "output_type": "execute_result"
    }
   ],
   "source": [
    "renamed_df.isna().sum()"
   ]
  },
  {
   "cell_type": "code",
   "execution_count": 76,
   "id": "78d3bc25",
   "metadata": {},
   "outputs": [
    {
     "data": {
      "text/plain": [
       "(2233, 10)"
      ]
     },
     "execution_count": 76,
     "metadata": {},
     "output_type": "execute_result"
    }
   ],
   "source": [
    "renamed_df.shape"
   ]
  },
  {
   "cell_type": "code",
   "execution_count": 77,
   "id": "094b8a5a",
   "metadata": {},
   "outputs": [
    {
     "data": {
      "text/plain": [
       "Index(['Country_Name', 'Year', 'Exports', 'GDP', 'GNI', 'Imports',\n",
       "       'Industry_Rate', 'Inflation_Rate', 'Labor_Force', 'Population'],\n",
       "      dtype='object', name='Series Name')"
      ]
     },
     "execution_count": 77,
     "metadata": {},
     "output_type": "execute_result"
    }
   ],
   "source": [
    "renamed_df.columns"
   ]
  },
  {
   "cell_type": "code",
   "execution_count": 78,
   "id": "b27f895c",
   "metadata": {},
   "outputs": [
    {
     "data": {
      "text/html": [
       "<div>\n",
       "<style scoped>\n",
       "    .dataframe tbody tr th:only-of-type {\n",
       "        vertical-align: middle;\n",
       "    }\n",
       "\n",
       "    .dataframe tbody tr th {\n",
       "        vertical-align: top;\n",
       "    }\n",
       "\n",
       "    .dataframe thead th {\n",
       "        text-align: right;\n",
       "    }\n",
       "</style>\n",
       "<table border=\"1\" class=\"dataframe\">\n",
       "  <thead>\n",
       "    <tr style=\"text-align: right;\">\n",
       "      <th>Series Name</th>\n",
       "      <th>Country_Name</th>\n",
       "      <th>Year</th>\n",
       "      <th>Exports</th>\n",
       "      <th>Imports</th>\n",
       "      <th>GDP</th>\n",
       "      <th>Inflation_Rate</th>\n",
       "      <th>Industry_Rate</th>\n",
       "      <th>Labor_Force</th>\n",
       "      <th>Population</th>\n",
       "    </tr>\n",
       "  </thead>\n",
       "  <tbody>\n",
       "    <tr>\n",
       "      <th>15</th>\n",
       "      <td>Albania</td>\n",
       "      <td>2009</td>\n",
       "      <td>3040047644.65753</td>\n",
       "      <td>6004538203.11457</td>\n",
       "      <td>12044205549.6571</td>\n",
       "      <td>2.26692209450831</td>\n",
       "      <td>1.86202001364686</td>\n",
       "      <td>1258916</td>\n",
       "      <td>2927519</td>\n",
       "    </tr>\n",
       "    <tr>\n",
       "      <th>16</th>\n",
       "      <td>Albania</td>\n",
       "      <td>2010</td>\n",
       "      <td>3337086708.7743</td>\n",
       "      <td>5792187274.96813</td>\n",
       "      <td>11926926615.8015</td>\n",
       "      <td>3.62604695579816</td>\n",
       "      <td>3.39983816194058</td>\n",
       "      <td>1270655</td>\n",
       "      <td>2913021</td>\n",
       "    </tr>\n",
       "    <tr>\n",
       "      <th>17</th>\n",
       "      <td>Albania</td>\n",
       "      <td>2011</td>\n",
       "      <td>3769456465.06531</td>\n",
       "      <td>6700234587.48787</td>\n",
       "      <td>12890760315.146</td>\n",
       "      <td>3.42912324722163</td>\n",
       "      <td>2.26437554991978</td>\n",
       "      <td>1388801</td>\n",
       "      <td>2905195</td>\n",
       "    </tr>\n",
       "    <tr>\n",
       "      <th>18</th>\n",
       "      <td>Albania</td>\n",
       "      <td>2012</td>\n",
       "      <td>3565050512.4285</td>\n",
       "      <td>5860879346.60531</td>\n",
       "      <td>12319834195.331</td>\n",
       "      <td>2.03159268395301</td>\n",
       "      <td>-6.14066215173217</td>\n",
       "      <td>1328695</td>\n",
       "      <td>2900401</td>\n",
       "    </tr>\n",
       "    <tr>\n",
       "      <th>19</th>\n",
       "      <td>Albania</td>\n",
       "      <td>2013</td>\n",
       "      <td>3694413338.18786</td>\n",
       "      <td>5999382677.06795</td>\n",
       "      <td>12776224496.9718</td>\n",
       "      <td>1.93762080205229</td>\n",
       "      <td>2.71720448128706</td>\n",
       "      <td>1227940</td>\n",
       "      <td>2895092</td>\n",
       "    </tr>\n",
       "  </tbody>\n",
       "</table>\n",
       "</div>"
      ],
      "text/plain": [
       "Series Name Country_Name  Year           Exports           Imports  \\\n",
       "15               Albania  2009  3040047644.65753  6004538203.11457   \n",
       "16               Albania  2010   3337086708.7743  5792187274.96813   \n",
       "17               Albania  2011  3769456465.06531  6700234587.48787   \n",
       "18               Albania  2012   3565050512.4285  5860879346.60531   \n",
       "19               Albania  2013  3694413338.18786  5999382677.06795   \n",
       "\n",
       "Series Name               GDP    Inflation_Rate      Industry_Rate  \\\n",
       "15           12044205549.6571  2.26692209450831   1.86202001364686   \n",
       "16           11926926615.8015  3.62604695579816   3.39983816194058   \n",
       "17            12890760315.146  3.42912324722163   2.26437554991978   \n",
       "18            12319834195.331  2.03159268395301  -6.14066215173217   \n",
       "19           12776224496.9718  1.93762080205229   2.71720448128706   \n",
       "\n",
       "Series Name Labor_Force Population  \n",
       "15              1258916    2927519  \n",
       "16              1270655    2913021  \n",
       "17              1388801    2905195  \n",
       "18              1328695    2900401  \n",
       "19              1227940    2895092  "
      ]
     },
     "execution_count": 78,
     "metadata": {},
     "output_type": "execute_result"
    }
   ],
   "source": [
    "cleaned_df = renamed_df[['Country_Name', 'Year', 'Exports', 'Imports', 'GDP', 'Inflation_Rate', \n",
    "                         'Industry_Rate', 'Labor_Force', 'Population']]\n",
    "cleaned_df.head()                      "
   ]
  },
  {
   "cell_type": "code",
   "execution_count": 79,
   "id": "b46bad3d",
   "metadata": {},
   "outputs": [
    {
     "data": {
      "text/plain": [
       "Series Name\n",
       "Country_Name      object\n",
       "Year              object\n",
       "Exports           object\n",
       "Imports           object\n",
       "GDP               object\n",
       "Inflation_Rate    object\n",
       "Industry_Rate     object\n",
       "Labor_Force       object\n",
       "Population        object\n",
       "dtype: object"
      ]
     },
     "execution_count": 79,
     "metadata": {},
     "output_type": "execute_result"
    }
   ],
   "source": [
    "cleaned_df.dtypes"
   ]
  },
  {
   "cell_type": "code",
   "execution_count": 80,
   "id": "42075902",
   "metadata": {},
   "outputs": [
    {
     "name": "stderr",
     "output_type": "stream",
     "text": [
      "/tmp/ipykernel_4789/2673528586.py:1: SettingWithCopyWarning: \n",
      "A value is trying to be set on a copy of a slice from a DataFrame.\n",
      "Try using .loc[row_indexer,col_indexer] = value instead\n",
      "\n",
      "See the caveats in the documentation: https://pandas.pydata.org/pandas-docs/stable/user_guide/indexing.html#returning-a-view-versus-a-copy\n",
      "  cleaned_df[['Exports', 'Imports', 'GDP', 'Inflation_Rate', 'Industry_Rate']] = cleaned_df[['Exports', 'Imports', 'GDP', 'Inflation_Rate', 'Industry_Rate']].astype('float')\n",
      "/tmp/ipykernel_4789/2673528586.py:2: SettingWithCopyWarning: \n",
      "A value is trying to be set on a copy of a slice from a DataFrame.\n",
      "Try using .loc[row_indexer,col_indexer] = value instead\n",
      "\n",
      "See the caveats in the documentation: https://pandas.pydata.org/pandas-docs/stable/user_guide/indexing.html#returning-a-view-versus-a-copy\n",
      "  cleaned_df[['Year' ,'Labor_Force', 'Population']] = cleaned_df[['Year', 'Labor_Force', 'Population']].astype('int')\n"
     ]
    },
    {
     "data": {
      "text/plain": [
       "Series Name\n",
       "Country_Name       object\n",
       "Year                int64\n",
       "Exports           float64\n",
       "Imports           float64\n",
       "GDP               float64\n",
       "Inflation_Rate    float64\n",
       "Industry_Rate     float64\n",
       "Labor_Force         int64\n",
       "Population          int64\n",
       "dtype: object"
      ]
     },
     "execution_count": 80,
     "metadata": {},
     "output_type": "execute_result"
    }
   ],
   "source": [
    "cleaned_df[['Exports', 'Imports', 'GDP', 'Inflation_Rate', 'Industry_Rate']] = cleaned_df[['Exports', 'Imports', 'GDP', 'Inflation_Rate', 'Industry_Rate']].astype('float')\n",
    "cleaned_df[['Year' ,'Labor_Force', 'Population']] = cleaned_df[['Year', 'Labor_Force', 'Population']].astype('int')\n",
    "cleaned_df.dtypes"
   ]
  },
  {
   "cell_type": "code",
   "execution_count": 81,
   "metadata": {},
   "outputs": [
    {
     "data": {
      "text/html": [
       "<div>\n",
       "<style scoped>\n",
       "    .dataframe tbody tr th:only-of-type {\n",
       "        vertical-align: middle;\n",
       "    }\n",
       "\n",
       "    .dataframe tbody tr th {\n",
       "        vertical-align: top;\n",
       "    }\n",
       "\n",
       "    .dataframe thead th {\n",
       "        text-align: right;\n",
       "    }\n",
       "</style>\n",
       "<table border=\"1\" class=\"dataframe\">\n",
       "  <thead>\n",
       "    <tr style=\"text-align: right;\">\n",
       "      <th>Series Name</th>\n",
       "      <th>Year</th>\n",
       "      <th>Exports</th>\n",
       "      <th>Imports</th>\n",
       "      <th>GDP</th>\n",
       "      <th>Inflation_Rate</th>\n",
       "      <th>Industry_Rate</th>\n",
       "      <th>Labor_Force</th>\n",
       "      <th>Population</th>\n",
       "    </tr>\n",
       "  </thead>\n",
       "  <tbody>\n",
       "    <tr>\n",
       "      <th>count</th>\n",
       "      <td>2233.000000</td>\n",
       "      <td>2.233000e+03</td>\n",
       "      <td>2.233000e+03</td>\n",
       "      <td>2.233000e+03</td>\n",
       "      <td>2233.000000</td>\n",
       "      <td>2233.000000</td>\n",
       "      <td>2.233000e+03</td>\n",
       "      <td>2.233000e+03</td>\n",
       "    </tr>\n",
       "    <tr>\n",
       "      <th>mean</th>\n",
       "      <td>2015.754142</td>\n",
       "      <td>1.355127e+11</td>\n",
       "      <td>1.280421e+11</td>\n",
       "      <td>3.979062e+11</td>\n",
       "      <td>5.922279</td>\n",
       "      <td>2.649504</td>\n",
       "      <td>1.982222e+07</td>\n",
       "      <td>4.367456e+07</td>\n",
       "    </tr>\n",
       "    <tr>\n",
       "      <th>std</th>\n",
       "      <td>4.232069</td>\n",
       "      <td>3.105819e+11</td>\n",
       "      <td>2.846527e+11</td>\n",
       "      <td>1.230467e+12</td>\n",
       "      <td>18.391020</td>\n",
       "      <td>11.422225</td>\n",
       "      <td>7.675793e+07</td>\n",
       "      <td>1.590665e+08</td>\n",
       "    </tr>\n",
       "    <tr>\n",
       "      <th>min</th>\n",
       "      <td>2009.000000</td>\n",
       "      <td>3.817990e+07</td>\n",
       "      <td>2.015338e+08</td>\n",
       "      <td>3.123777e+08</td>\n",
       "      <td>-16.859691</td>\n",
       "      <td>-77.326017</td>\n",
       "      <td>3.626000e+04</td>\n",
       "      <td>1.049510e+05</td>\n",
       "    </tr>\n",
       "    <tr>\n",
       "      <th>25%</th>\n",
       "      <td>2012.000000</td>\n",
       "      <td>4.483693e+09</td>\n",
       "      <td>6.147142e+09</td>\n",
       "      <td>1.370893e+10</td>\n",
       "      <td>1.411939</td>\n",
       "      <td>-0.783988</td>\n",
       "      <td>1.475366e+06</td>\n",
       "      <td>3.371133e+06</td>\n",
       "    </tr>\n",
       "    <tr>\n",
       "      <th>50%</th>\n",
       "      <td>2016.000000</td>\n",
       "      <td>1.759096e+10</td>\n",
       "      <td>2.021757e+10</td>\n",
       "      <td>5.049172e+10</td>\n",
       "      <td>3.247588</td>\n",
       "      <td>2.572023</td>\n",
       "      <td>4.393129e+06</td>\n",
       "      <td>9.893082e+06</td>\n",
       "    </tr>\n",
       "    <tr>\n",
       "      <th>75%</th>\n",
       "      <td>2019.000000</td>\n",
       "      <td>1.060615e+11</td>\n",
       "      <td>1.033295e+11</td>\n",
       "      <td>2.791167e+11</td>\n",
       "      <td>6.276893</td>\n",
       "      <td>6.148306</td>\n",
       "      <td>1.217643e+07</td>\n",
       "      <td>3.082154e+07</td>\n",
       "    </tr>\n",
       "    <tr>\n",
       "      <th>max</th>\n",
       "      <td>2023.000000</td>\n",
       "      <td>3.717888e+12</td>\n",
       "      <td>3.140041e+12</td>\n",
       "      <td>1.788178e+13</td>\n",
       "      <td>557.201817</td>\n",
       "      <td>223.029628</td>\n",
       "      <td>7.818083e+08</td>\n",
       "      <td>1.428628e+09</td>\n",
       "    </tr>\n",
       "  </tbody>\n",
       "</table>\n",
       "</div>"
      ],
      "text/plain": [
       "Series Name         Year       Exports       Imports           GDP  \\\n",
       "count        2233.000000  2.233000e+03  2.233000e+03  2.233000e+03   \n",
       "mean         2015.754142  1.355127e+11  1.280421e+11  3.979062e+11   \n",
       "std             4.232069  3.105819e+11  2.846527e+11  1.230467e+12   \n",
       "min          2009.000000  3.817990e+07  2.015338e+08  3.123777e+08   \n",
       "25%          2012.000000  4.483693e+09  6.147142e+09  1.370893e+10   \n",
       "50%          2016.000000  1.759096e+10  2.021757e+10  5.049172e+10   \n",
       "75%          2019.000000  1.060615e+11  1.033295e+11  2.791167e+11   \n",
       "max          2023.000000  3.717888e+12  3.140041e+12  1.788178e+13   \n",
       "\n",
       "Series Name  Inflation_Rate  Industry_Rate   Labor_Force    Population  \n",
       "count           2233.000000    2233.000000  2.233000e+03  2.233000e+03  \n",
       "mean               5.922279       2.649504  1.982222e+07  4.367456e+07  \n",
       "std               18.391020      11.422225  7.675793e+07  1.590665e+08  \n",
       "min              -16.859691     -77.326017  3.626000e+04  1.049510e+05  \n",
       "25%                1.411939      -0.783988  1.475366e+06  3.371133e+06  \n",
       "50%                3.247588       2.572023  4.393129e+06  9.893082e+06  \n",
       "75%                6.276893       6.148306  1.217643e+07  3.082154e+07  \n",
       "max              557.201817     223.029628  7.818083e+08  1.428628e+09  "
      ]
     },
     "execution_count": 81,
     "metadata": {},
     "output_type": "execute_result"
    }
   ],
   "source": [
    "cleaned_df.describe()"
   ]
  },
  {
   "cell_type": "code",
   "execution_count": 82,
   "id": "92eafb1d",
   "metadata": {},
   "outputs": [
    {
     "data": {
      "text/plain": [
       "count        2233\n",
       "unique        161\n",
       "top       Algeria\n",
       "freq           15\n",
       "Name: Country_Name, dtype: object"
      ]
     },
     "execution_count": 82,
     "metadata": {},
     "output_type": "execute_result"
    }
   ],
   "source": [
    "cleaned_df.Country_Name.describe()"
   ]
  },
  {
   "cell_type": "code",
   "execution_count": 83,
   "id": "126e2be6",
   "metadata": {},
   "outputs": [
    {
     "data": {
      "text/plain": [
       "Index(['Country_Name', 'Year', 'Exports', 'Imports', 'GDP', 'Inflation_Rate',\n",
       "       'Industry_Rate', 'Labor_Force', 'Population'],\n",
       "      dtype='object', name='Series Name')"
      ]
     },
     "execution_count": 83,
     "metadata": {},
     "output_type": "execute_result"
    }
   ],
   "source": [
    "cleaned_df.columns"
   ]
  },
  {
   "cell_type": "markdown",
   "id": "b42bf0de",
   "metadata": {},
   "source": [
    "## Feature Engineering"
   ]
  },
  {
   "cell_type": "code",
   "execution_count": 84,
   "id": "e45eb6cf",
   "metadata": {},
   "outputs": [],
   "source": [
    "# create gdp per capita column\n",
    "cleaned_df['GDP_Per_Capita'] = round(cleaned_df['GDP'] / cleaned_df['Population'], 2)\n",
    "\n",
    "# Create a new column for the Trade_Rate\n",
    "cleaned_df['Trade_Rate'] = round(cleaned_df['Exports'] / cleaned_df['Imports'], 2)\n",
    "\n",
    "# Trade Ratio \n",
    "cleaned_df['Trade_Ratio'] = round(cleaned_df['Exports'] / cleaned_df['Imports'], 2)\n",
    "\n",
    "# round these variables\n",
    "cleaned_df['Inflation_Rate'] = round(cleaned_df['Inflation_Rate'])\n",
    "cleaned_df['Industry_Rate'] = round(cleaned_df['Industry_Rate'])"
   ]
  },
  {
   "cell_type": "code",
   "execution_count": 85,
   "id": "cfb42ec0",
   "metadata": {},
   "outputs": [
    {
     "data": {
      "text/html": [
       "<div>\n",
       "<style scoped>\n",
       "    .dataframe tbody tr th:only-of-type {\n",
       "        vertical-align: middle;\n",
       "    }\n",
       "\n",
       "    .dataframe tbody tr th {\n",
       "        vertical-align: top;\n",
       "    }\n",
       "\n",
       "    .dataframe thead th {\n",
       "        text-align: right;\n",
       "    }\n",
       "</style>\n",
       "<table border=\"1\" class=\"dataframe\">\n",
       "  <thead>\n",
       "    <tr style=\"text-align: right;\">\n",
       "      <th>Series Name</th>\n",
       "      <th>Country_Name</th>\n",
       "      <th>Year</th>\n",
       "      <th>Exports</th>\n",
       "      <th>Imports</th>\n",
       "      <th>GDP</th>\n",
       "      <th>Inflation_Rate</th>\n",
       "      <th>Industry_Rate</th>\n",
       "      <th>Labor_Force</th>\n",
       "      <th>Population</th>\n",
       "      <th>GDP_Per_Capita</th>\n",
       "      <th>Trade_Rate</th>\n",
       "      <th>Trade_Ratio</th>\n",
       "    </tr>\n",
       "  </thead>\n",
       "  <tbody>\n",
       "    <tr>\n",
       "      <th>15</th>\n",
       "      <td>Albania</td>\n",
       "      <td>2009</td>\n",
       "      <td>3.040048e+09</td>\n",
       "      <td>6.004538e+09</td>\n",
       "      <td>1.204421e+10</td>\n",
       "      <td>2.0</td>\n",
       "      <td>2.0</td>\n",
       "      <td>1258916</td>\n",
       "      <td>2927519</td>\n",
       "      <td>4114.0</td>\n",
       "      <td>1.0</td>\n",
       "      <td>1.0</td>\n",
       "    </tr>\n",
       "    <tr>\n",
       "      <th>16</th>\n",
       "      <td>Albania</td>\n",
       "      <td>2010</td>\n",
       "      <td>3.337087e+09</td>\n",
       "      <td>5.792187e+09</td>\n",
       "      <td>1.192693e+10</td>\n",
       "      <td>4.0</td>\n",
       "      <td>3.0</td>\n",
       "      <td>1270655</td>\n",
       "      <td>2913021</td>\n",
       "      <td>4094.0</td>\n",
       "      <td>1.0</td>\n",
       "      <td>1.0</td>\n",
       "    </tr>\n",
       "    <tr>\n",
       "      <th>17</th>\n",
       "      <td>Albania</td>\n",
       "      <td>2011</td>\n",
       "      <td>3.769456e+09</td>\n",
       "      <td>6.700235e+09</td>\n",
       "      <td>1.289076e+10</td>\n",
       "      <td>3.0</td>\n",
       "      <td>2.0</td>\n",
       "      <td>1388801</td>\n",
       "      <td>2905195</td>\n",
       "      <td>4437.0</td>\n",
       "      <td>1.0</td>\n",
       "      <td>1.0</td>\n",
       "    </tr>\n",
       "    <tr>\n",
       "      <th>18</th>\n",
       "      <td>Albania</td>\n",
       "      <td>2012</td>\n",
       "      <td>3.565051e+09</td>\n",
       "      <td>5.860879e+09</td>\n",
       "      <td>1.231983e+10</td>\n",
       "      <td>2.0</td>\n",
       "      <td>-6.0</td>\n",
       "      <td>1328695</td>\n",
       "      <td>2900401</td>\n",
       "      <td>4248.0</td>\n",
       "      <td>1.0</td>\n",
       "      <td>1.0</td>\n",
       "    </tr>\n",
       "    <tr>\n",
       "      <th>19</th>\n",
       "      <td>Albania</td>\n",
       "      <td>2013</td>\n",
       "      <td>3.694413e+09</td>\n",
       "      <td>5.999383e+09</td>\n",
       "      <td>1.277622e+10</td>\n",
       "      <td>2.0</td>\n",
       "      <td>3.0</td>\n",
       "      <td>1227940</td>\n",
       "      <td>2895092</td>\n",
       "      <td>4413.0</td>\n",
       "      <td>1.0</td>\n",
       "      <td>1.0</td>\n",
       "    </tr>\n",
       "  </tbody>\n",
       "</table>\n",
       "</div>"
      ],
      "text/plain": [
       "Series Name Country_Name  Year       Exports       Imports           GDP  \\\n",
       "15               Albania  2009  3.040048e+09  6.004538e+09  1.204421e+10   \n",
       "16               Albania  2010  3.337087e+09  5.792187e+09  1.192693e+10   \n",
       "17               Albania  2011  3.769456e+09  6.700235e+09  1.289076e+10   \n",
       "18               Albania  2012  3.565051e+09  5.860879e+09  1.231983e+10   \n",
       "19               Albania  2013  3.694413e+09  5.999383e+09  1.277622e+10   \n",
       "\n",
       "Series Name  Inflation_Rate  Industry_Rate  Labor_Force  Population  \\\n",
       "15                      2.0            2.0      1258916     2927519   \n",
       "16                      4.0            3.0      1270655     2913021   \n",
       "17                      3.0            2.0      1388801     2905195   \n",
       "18                      2.0           -6.0      1328695     2900401   \n",
       "19                      2.0            3.0      1227940     2895092   \n",
       "\n",
       "Series Name  GDP_Per_Capita  Trade_Rate  Trade_Ratio  \n",
       "15                   4114.0         1.0          1.0  \n",
       "16                   4094.0         1.0          1.0  \n",
       "17                   4437.0         1.0          1.0  \n",
       "18                   4248.0         1.0          1.0  \n",
       "19                   4413.0         1.0          1.0  "
      ]
     },
     "execution_count": 85,
     "metadata": {},
     "output_type": "execute_result"
    }
   ],
   "source": [
    "cleaned_df = cleaned_df.apply(lambda x: round(x))\n",
    "cleaned_df.head()"
   ]
  },
  {
   "cell_type": "code",
   "execution_count": 86,
   "id": "a843fe2d",
   "metadata": {},
   "outputs": [
    {
     "data": {
      "text/plain": [
       "Index(['Country_Name', 'Year', 'Exports', 'Imports', 'GDP', 'Inflation_Rate',\n",
       "       'Industry_Rate', 'Labor_Force', 'Population', 'GDP_Per_Capita',\n",
       "       'Trade_Rate', 'Trade_Ratio'],\n",
       "      dtype='object', name='Series Name')"
      ]
     },
     "execution_count": 86,
     "metadata": {},
     "output_type": "execute_result"
    }
   ],
   "source": [
    "cleaned_df.columns"
   ]
  },
  {
   "cell_type": "code",
   "execution_count": 87,
   "metadata": {},
   "outputs": [
    {
     "data": {
      "text/html": [
       "<div>\n",
       "<style scoped>\n",
       "    .dataframe tbody tr th:only-of-type {\n",
       "        vertical-align: middle;\n",
       "    }\n",
       "\n",
       "    .dataframe tbody tr th {\n",
       "        vertical-align: top;\n",
       "    }\n",
       "\n",
       "    .dataframe thead th {\n",
       "        text-align: right;\n",
       "    }\n",
       "</style>\n",
       "<table border=\"1\" class=\"dataframe\">\n",
       "  <thead>\n",
       "    <tr style=\"text-align: right;\">\n",
       "      <th>Series Name</th>\n",
       "      <th>Year</th>\n",
       "      <th>Country_Name</th>\n",
       "      <th>GDP_Per_Capita</th>\n",
       "      <th>Trade_Rate</th>\n",
       "      <th>Trade_Ratio</th>\n",
       "      <th>Inflation_Rate</th>\n",
       "      <th>Industry_Rate</th>\n",
       "      <th>GDP</th>\n",
       "      <th>Labor_Force</th>\n",
       "      <th>Population</th>\n",
       "    </tr>\n",
       "  </thead>\n",
       "  <tbody>\n",
       "    <tr>\n",
       "      <th>0</th>\n",
       "      <td>2009</td>\n",
       "      <td>Albania</td>\n",
       "      <td>4114.0</td>\n",
       "      <td>1.0</td>\n",
       "      <td>1.0</td>\n",
       "      <td>2.0</td>\n",
       "      <td>2.0</td>\n",
       "      <td>1.204421e+10</td>\n",
       "      <td>1258916</td>\n",
       "      <td>2927519</td>\n",
       "    </tr>\n",
       "    <tr>\n",
       "      <th>1</th>\n",
       "      <td>2010</td>\n",
       "      <td>Albania</td>\n",
       "      <td>4094.0</td>\n",
       "      <td>1.0</td>\n",
       "      <td>1.0</td>\n",
       "      <td>4.0</td>\n",
       "      <td>3.0</td>\n",
       "      <td>1.192693e+10</td>\n",
       "      <td>1270655</td>\n",
       "      <td>2913021</td>\n",
       "    </tr>\n",
       "    <tr>\n",
       "      <th>2</th>\n",
       "      <td>2011</td>\n",
       "      <td>Albania</td>\n",
       "      <td>4437.0</td>\n",
       "      <td>1.0</td>\n",
       "      <td>1.0</td>\n",
       "      <td>3.0</td>\n",
       "      <td>2.0</td>\n",
       "      <td>1.289076e+10</td>\n",
       "      <td>1388801</td>\n",
       "      <td>2905195</td>\n",
       "    </tr>\n",
       "    <tr>\n",
       "      <th>3</th>\n",
       "      <td>2012</td>\n",
       "      <td>Albania</td>\n",
       "      <td>4248.0</td>\n",
       "      <td>1.0</td>\n",
       "      <td>1.0</td>\n",
       "      <td>2.0</td>\n",
       "      <td>-6.0</td>\n",
       "      <td>1.231983e+10</td>\n",
       "      <td>1328695</td>\n",
       "      <td>2900401</td>\n",
       "    </tr>\n",
       "    <tr>\n",
       "      <th>4</th>\n",
       "      <td>2013</td>\n",
       "      <td>Albania</td>\n",
       "      <td>4413.0</td>\n",
       "      <td>1.0</td>\n",
       "      <td>1.0</td>\n",
       "      <td>2.0</td>\n",
       "      <td>3.0</td>\n",
       "      <td>1.277622e+10</td>\n",
       "      <td>1227940</td>\n",
       "      <td>2895092</td>\n",
       "    </tr>\n",
       "  </tbody>\n",
       "</table>\n",
       "</div>"
      ],
      "text/plain": [
       "Series Name  Year Country_Name  GDP_Per_Capita  Trade_Rate  Trade_Ratio  \\\n",
       "0            2009      Albania          4114.0         1.0          1.0   \n",
       "1            2010      Albania          4094.0         1.0          1.0   \n",
       "2            2011      Albania          4437.0         1.0          1.0   \n",
       "3            2012      Albania          4248.0         1.0          1.0   \n",
       "4            2013      Albania          4413.0         1.0          1.0   \n",
       "\n",
       "Series Name  Inflation_Rate  Industry_Rate           GDP  Labor_Force  \\\n",
       "0                       2.0            2.0  1.204421e+10      1258916   \n",
       "1                       4.0            3.0  1.192693e+10      1270655   \n",
       "2                       3.0            2.0  1.289076e+10      1388801   \n",
       "3                       2.0           -6.0  1.231983e+10      1328695   \n",
       "4                       2.0            3.0  1.277622e+10      1227940   \n",
       "\n",
       "Series Name  Population  \n",
       "0               2927519  \n",
       "1               2913021  \n",
       "2               2905195  \n",
       "3               2900401  \n",
       "4               2895092  "
      ]
     },
     "execution_count": 87,
     "metadata": {},
     "output_type": "execute_result"
    }
   ],
   "source": [
    "cleaned_updated_df = cleaned_df[[\n",
    "                                 'Year', 'Country_Name', 'GDP_Per_Capita', \n",
    "                                 'Trade_Rate', 'Trade_Ratio', 'Inflation_Rate',\n",
    "                                 'Industry_Rate', 'GDP', 'Labor_Force', 'Population',\n",
    "                                ]].reset_index(drop=True)\n",
    "cleaned_updated_df.head()"
   ]
  },
  {
   "cell_type": "markdown",
   "id": "0bf23108",
   "metadata": {},
   "source": [
    "## Normalize the data"
   ]
  },
  {
   "cell_type": "code",
   "execution_count": 109,
   "id": "dae5ca22",
   "metadata": {},
   "outputs": [],
   "source": [
    "# from sklearn.preprocessing import MinMaxScaler\n",
    "\n",
    "# # Initialize the MinMaxScaler\n",
    "# scaler = MinMaxScaler()\n",
    "# normalized_df = pd.DataFrame(scaler.fit_transform(cleaned_updated_df), columns=cleaned_updated_df.columns)\n",
    "\n",
    "# # Display the normalized\n",
    "# # normalized_df.head()"
   ]
  },
  {
   "cell_type": "code",
   "execution_count": 110,
   "id": "be1f6906",
   "metadata": {},
   "outputs": [],
   "source": [
    "# # # Normalize the data\n",
    "# from sklearn.preprocessing import MinMaxScaler\n",
    "\n",
    "# # Initialize the MinMaxScaler\n",
    "# scaler = MinMaxScaler()\n",
    "# df = pd.DataFrame(scaler.fit_transform(df), columns=df.columns)\n",
    "\n",
    "# # Display the normalized\n",
    "# df.head()"
   ]
  },
  {
   "cell_type": "code",
   "execution_count": 111,
   "id": "72bdfbab",
   "metadata": {},
   "outputs": [],
   "source": [
    "correlation_observation_df = cleaned_updated_df.drop(columns=['Country_Name', 'Year'], axis=1)"
   ]
  },
  {
   "cell_type": "code",
   "execution_count": 112,
   "id": "50e6a9d0",
   "metadata": {},
   "outputs": [
    {
     "data": {
      "image/png": "[encoded data removed]",
      "text/plain": [
       "<Figure size 1000x600 with 2 Axes>"
      ]
     },
     "metadata": {},
     "output_type": "display_data"
    }
   ],
   "source": [
    "# Pearson correlation\n",
    "# Calculate the correlation matrix\n",
    "pearson_corr = correlation_observation_df.corr(method='pearson')\n",
    "\n",
    "# Visualizing the Pearson correlation matrix\n",
    "plt.figure(figsize=(10, 6))\n",
    "sns.heatmap(pearson_corr, annot=True, cmap='coolwarm', center=0)\n",
    "plt.title('Pearson Correlation Matrix')\n",
    "plt.show()"
   ]
  },
  {
   "cell_type": "code",
   "execution_count": 113,
   "id": "d48d1b19",
   "metadata": {},
   "outputs": [
    {
     "ename": "KeyError",
     "evalue": "'Labor_Force'",
     "output_type": "error",
     "traceback": [
      "\u001b[0;31m---------------------------------------------------------------------------\u001b[0m",
      "\u001b[0;31mKeyError\u001b[0m                                  Traceback (most recent call last)",
      "File \u001b[0;32m~/.local/lib/python3.12/site-packages/pandas/core/indexes/base.py:3805\u001b[0m, in \u001b[0;36mIndex.get_loc\u001b[0;34m(self, key)\u001b[0m\n\u001b[1;32m   3804\u001b[0m \u001b[38;5;28;01mtry\u001b[39;00m:\n\u001b[0;32m-> 3805\u001b[0m     \u001b[38;5;28;01mreturn\u001b[39;00m \u001b[38;5;28;43mself\u001b[39;49m\u001b[38;5;241;43m.\u001b[39;49m\u001b[43m_engine\u001b[49m\u001b[38;5;241;43m.\u001b[39;49m\u001b[43mget_loc\u001b[49m\u001b[43m(\u001b[49m\u001b[43mcasted_key\u001b[49m\u001b[43m)\u001b[49m\n\u001b[1;32m   3806\u001b[0m \u001b[38;5;28;01mexcept\u001b[39;00m \u001b[38;5;167;01mKeyError\u001b[39;00m \u001b[38;5;28;01mas\u001b[39;00m err:\n",
      "File \u001b[0;32mindex.pyx:167\u001b[0m, in \u001b[0;36mpandas._libs.index.IndexEngine.get_loc\u001b[0;34m()\u001b[0m\n",
      "File \u001b[0;32mindex.pyx:196\u001b[0m, in \u001b[0;36mpandas._libs.index.IndexEngine.get_loc\u001b[0;34m()\u001b[0m\n",
      "File \u001b[0;32mpandas/_libs/hashtable_class_helper.pxi:7081\u001b[0m, in \u001b[0;36mpandas._libs.hashtable.PyObjectHashTable.get_item\u001b[0;34m()\u001b[0m\n",
      "File \u001b[0;32mpandas/_libs/hashtable_class_helper.pxi:7089\u001b[0m, in \u001b[0;36mpandas._libs.hashtable.PyObjectHashTable.get_item\u001b[0;34m()\u001b[0m\n",
      "\u001b[0;31mKeyError\u001b[0m: 'Labor_Force'",
      "\nThe above exception was the direct cause of the following exception:\n",
      "\u001b[0;31mKeyError\u001b[0m                                  Traceback (most recent call last)",
      "Cell \u001b[0;32mIn[113], line 2\u001b[0m\n\u001b[1;32m      1\u001b[0m \u001b[38;5;66;03m# Add new variables \u001b[39;00m\n\u001b[0;32m----> 2\u001b[0m cleaned_updated_df[\u001b[38;5;124m'\u001b[39m\u001b[38;5;124mLabor_Rate\u001b[39m\u001b[38;5;124m'\u001b[39m] \u001b[38;5;241m=\u001b[39m \u001b[38;5;28mround\u001b[39m(\u001b[43mcleaned_updated_df\u001b[49m\u001b[43m[\u001b[49m\u001b[38;5;124;43m'\u001b[39;49m\u001b[38;5;124;43mLabor_Force\u001b[39;49m\u001b[38;5;124;43m'\u001b[39;49m\u001b[43m]\u001b[49m \u001b[38;5;241m/\u001b[39m cleaned_updated_df[\u001b[38;5;124m'\u001b[39m\u001b[38;5;124mPopulation\u001b[39m\u001b[38;5;124m'\u001b[39m], \u001b[38;5;241m2\u001b[39m)\n",
      "File \u001b[0;32m~/.local/lib/python3.12/site-packages/pandas/core/frame.py:4102\u001b[0m, in \u001b[0;36mDataFrame.__getitem__\u001b[0;34m(self, key)\u001b[0m\n\u001b[1;32m   4100\u001b[0m \u001b[38;5;28;01mif\u001b[39;00m \u001b[38;5;28mself\u001b[39m\u001b[38;5;241m.\u001b[39mcolumns\u001b[38;5;241m.\u001b[39mnlevels \u001b[38;5;241m>\u001b[39m \u001b[38;5;241m1\u001b[39m:\n\u001b[1;32m   4101\u001b[0m     \u001b[38;5;28;01mreturn\u001b[39;00m \u001b[38;5;28mself\u001b[39m\u001b[38;5;241m.\u001b[39m_getitem_multilevel(key)\n\u001b[0;32m-> 4102\u001b[0m indexer \u001b[38;5;241m=\u001b[39m \u001b[38;5;28;43mself\u001b[39;49m\u001b[38;5;241;43m.\u001b[39;49m\u001b[43mcolumns\u001b[49m\u001b[38;5;241;43m.\u001b[39;49m\u001b[43mget_loc\u001b[49m\u001b[43m(\u001b[49m\u001b[43mkey\u001b[49m\u001b[43m)\u001b[49m\n\u001b[1;32m   4103\u001b[0m \u001b[38;5;28;01mif\u001b[39;00m is_integer(indexer):\n\u001b[1;32m   4104\u001b[0m     indexer \u001b[38;5;241m=\u001b[39m [indexer]\n",
      "File \u001b[0;32m~/.local/lib/python3.12/site-packages/pandas/core/indexes/base.py:3812\u001b[0m, in \u001b[0;36mIndex.get_loc\u001b[0;34m(self, key)\u001b[0m\n\u001b[1;32m   3807\u001b[0m     \u001b[38;5;28;01mif\u001b[39;00m \u001b[38;5;28misinstance\u001b[39m(casted_key, \u001b[38;5;28mslice\u001b[39m) \u001b[38;5;129;01mor\u001b[39;00m (\n\u001b[1;32m   3808\u001b[0m         \u001b[38;5;28misinstance\u001b[39m(casted_key, abc\u001b[38;5;241m.\u001b[39mIterable)\n\u001b[1;32m   3809\u001b[0m         \u001b[38;5;129;01mand\u001b[39;00m \u001b[38;5;28many\u001b[39m(\u001b[38;5;28misinstance\u001b[39m(x, \u001b[38;5;28mslice\u001b[39m) \u001b[38;5;28;01mfor\u001b[39;00m x \u001b[38;5;129;01min\u001b[39;00m casted_key)\n\u001b[1;32m   3810\u001b[0m     ):\n\u001b[1;32m   3811\u001b[0m         \u001b[38;5;28;01mraise\u001b[39;00m InvalidIndexError(key)\n\u001b[0;32m-> 3812\u001b[0m     \u001b[38;5;28;01mraise\u001b[39;00m \u001b[38;5;167;01mKeyError\u001b[39;00m(key) \u001b[38;5;28;01mfrom\u001b[39;00m \u001b[38;5;21;01merr\u001b[39;00m\n\u001b[1;32m   3813\u001b[0m \u001b[38;5;28;01mexcept\u001b[39;00m \u001b[38;5;167;01mTypeError\u001b[39;00m:\n\u001b[1;32m   3814\u001b[0m     \u001b[38;5;66;03m# If we have a listlike key, _check_indexing_error will raise\u001b[39;00m\n\u001b[1;32m   3815\u001b[0m     \u001b[38;5;66;03m#  InvalidIndexError. Otherwise we fall through and re-raise\u001b[39;00m\n\u001b[1;32m   3816\u001b[0m     \u001b[38;5;66;03m#  the TypeError.\u001b[39;00m\n\u001b[1;32m   3817\u001b[0m     \u001b[38;5;28mself\u001b[39m\u001b[38;5;241m.\u001b[39m_check_indexing_error(key)\n",
      "\u001b[0;31mKeyError\u001b[0m: 'Labor_Force'"
     ]
    }
   ],
   "source": [
    "# Add new variables \n",
    "cleaned_updated_df['Labor_Rate'] = round(cleaned_updated_df['Labor_Force'] / cleaned_updated_df['Population'], 2)"
   ]
  },
  {
   "cell_type": "code",
   "execution_count": 93,
   "id": "b071cb9e",
   "metadata": {},
   "outputs": [
    {
     "data": {
      "text/plain": [
       "Index(['Year', 'Country_Name', 'GDP_Per_Capita', 'Trade_Rate', 'Trade_Ratio',\n",
       "       'Inflation_Rate', 'Industry_Rate', 'GDP', 'Labor_Force', 'Population',\n",
       "       'Labor_Rate'],\n",
       "      dtype='object', name='Series Name')"
      ]
     },
     "execution_count": 93,
     "metadata": {},
     "output_type": "execute_result"
    }
   ],
   "source": [
    "cleaned_updated_df.columns"
   ]
  },
  {
   "cell_type": "code",
   "execution_count": 94,
   "id": "813e58c7",
   "metadata": {},
   "outputs": [],
   "source": [
    "updated_correlation_observation_df = cleaned_updated_df[[\n",
    "        'GDP_Per_Capita', 'Trade_Rate',\n",
    "        'Inflation_Rate', 'Industry_Rate', 'Labor_Rate', 'Population'\n",
    "       ]]"
   ]
  },
  {
   "cell_type": "code",
   "execution_count": 95,
   "id": "fac072d0",
   "metadata": {},
   "outputs": [
    {
     "data": {
      "image/png": "[encoded data removed]",
      "text/plain": [
       "<Figure size 1000x600 with 2 Axes>"
      ]
     },
     "metadata": {},
     "output_type": "display_data"
    }
   ],
   "source": [
    "# Pearson correlation\n",
    "# Calculate the correlation matrix\n",
    "pearson_corr1 = updated_correlation_observation_df.corr(method='pearson')\n",
    "\n",
    "# Visualizing the Pearson correlation matrix\n",
    "plt.figure(figsize=(10, 6))\n",
    "sns.heatmap(pearson_corr1, annot=True, cmap='coolwarm', center=0)\n",
    "plt.title('Pearson Correlation Matrix')\n",
    "plt.show()"
   ]
  },
  {
   "cell_type": "code",
   "execution_count": 96,
   "id": "5052c759",
   "metadata": {},
   "outputs": [
    {
     "data": {
      "text/plain": [
       "Index(['Year', 'Country_Name', 'GDP_Per_Capita', 'Trade_Rate', 'Trade_Ratio',\n",
       "       'Inflation_Rate', 'Industry_Rate', 'GDP', 'Labor_Force', 'Population',\n",
       "       'Labor_Rate'],\n",
       "      dtype='object', name='Series Name')"
      ]
     },
     "execution_count": 96,
     "metadata": {},
     "output_type": "execute_result"
    }
   ],
   "source": [
    "cleaned_updated_df.columns"
   ]
  },
  {
   "cell_type": "code",
   "execution_count": 97,
   "id": "626e62bb",
   "metadata": {},
   "outputs": [],
   "source": [
    "cleaned_updated_df = cleaned_updated_df[[\n",
    "    'Year', 'Country_Name', 'GDP_Per_Capita', 'Trade_Rate',\n",
    "       'Inflation_Rate', 'Industry_Rate', 'Labor_Rate', 'Population']]"
   ]
  },
  {
   "cell_type": "code",
   "execution_count": 98,
   "id": "69479db0",
   "metadata": {},
   "outputs": [
    {
     "data": {
      "image/png": "[encoded data removed]",
      "text/plain": [
       "<Figure size 1000x600 with 1 Axes>"
      ]
     },
     "metadata": {},
     "output_type": "display_data"
    }
   ],
   "source": [
    "# distribution of the GDP_Per_Capita\n",
    "plt.figure(figsize=(10, 6))\n",
    "sns.histplot(cleaned_updated_df['GDP_Per_Capita'], kde=True)\n",
    "plt.title('Distribution of GDP_Per_Capita')\n",
    "plt.show()\n"
   ]
  },
  {
   "cell_type": "markdown",
   "id": "5cf4a867",
   "metadata": {},
   "source": [
    "The histogram revealed a highly skewed distribution with most countries having a GDP per capita below $50,000, suggesting economic disparities among countries."
   ]
  },
  {
   "cell_type": "code",
   "execution_count": null,
   "id": "804c72ee",
   "metadata": {},
   "outputs": [
    {
     "data": {
      "image/png": "[encoded data removed]",
      "text/plain": [
       "<Figure size 1000x600 with 1 Axes>"
      ]
     },
     "metadata": {},
     "output_type": "display_data"
    }
   ],
   "source": [
    "# find outliers\n",
    "plt.figure(figsize=(10, 6))\n",
    "sns.boxplot(cleaned_updated_df['GDP_Per_Capita'])\n",
    "plt.title('Boxplot of GDP_Per_Capita')\n",
    "plt.show()"
   ]
  },
  {
   "cell_type": "markdown",
   "id": "ed6cced2",
   "metadata": {},
   "source": [
    "This plot highlighted numerous outliers, indicating that a few countries have significantly higher GDP per capita compared to the majority."
   ]
  },
  {
   "cell_type": "code",
   "execution_count": 100,
   "id": "8150b198",
   "metadata": {},
   "outputs": [
    {
     "data": {
      "image/png": "[encoded data removed]",
      "text/plain": [
       "<Figure size 1000x600 with 1 Axes>"
      ]
     },
     "metadata": {},
     "output_type": "display_data"
    }
   ],
   "source": [
    "# plot the GDP_Per_Capita over the years put year on ascending order\n",
    "cleaned_updated_df = cleaned_updated_df.sort_values('Year') \n",
    "plt.figure(figsize=(10, 6))\n",
    "sns.lineplot(x='Year', y='GDP_Per_Capita', data=cleaned_updated_df)\n",
    "plt.title('GDP_Per_Capita Over the Years')\n",
    "plt.show()"
   ]
  },
  {
   "cell_type": "markdown",
   "id": "6008b8f0",
   "metadata": {},
   "source": [
    "A line graph showed fluctuations over the years with a general trend of increase, reflecting global economic growth and variability."
   ]
  },
  {
   "cell_type": "code",
   "execution_count": 101,
   "id": "04e1c7d7",
   "metadata": {},
   "outputs": [
    {
     "data": {
      "image/png": "[encoded data removed]",
      "text/plain": [
       "<Figure size 1000x600 with 1 Axes>"
      ]
     },
     "metadata": {},
     "output_type": "display_data"
    }
   ],
   "source": [
    "# plot the industry growth rate over the years\n",
    "plt.figure(figsize=(10, 6))\n",
    "sns.lineplot(x='Year', y='Industry_Rate', data=cleaned_updated_df)\n",
    "plt.title('Industry Growth Rate Over the Years')\n",
    "plt.show()"
   ]
  },
  {
   "cell_type": "markdown",
   "id": "320c4257",
   "metadata": {},
   "source": [
    "This graph displayed a variable growth rate with periods of decline and recovery, emphasizing the volatile nature of industrial growth."
   ]
  },
  {
   "cell_type": "code",
   "execution_count": 102,
   "id": "042bd6ac",
   "metadata": {},
   "outputs": [
    {
     "data": {
      "image/png": "[encoded data removed]",
      "text/plain": [
       "<Figure size 1000x600 with 1 Axes>"
      ]
     },
     "metadata": {},
     "output_type": "display_data"
    }
   ],
   "source": [
    "# group by year and the population\n",
    "population = cleaned_updated_df.groupby('Year')['Population'].sum()\n",
    "\n",
    "# plot the population over the years\n",
    "plt.figure(figsize=(10, 6))\n",
    "sns.lineplot(x=population.index, y=population.values)\n",
    "plt.title('Population and Over the Years')\n",
    "plt.show()"
   ]
  },
  {
   "cell_type": "markdown",
   "id": "60a12cd7",
   "metadata": {},
   "source": [
    "Illustrated a steady increase in global population, which is a crucial factor in economic scaling and development strategies."
   ]
  },
  {
   "cell_type": "code",
   "execution_count": 106,
   "id": "0f179304",
   "metadata": {},
   "outputs": [],
   "source": [
    "# convert `country name` data type to category\n",
    "cleaned_updated_df['Country_Name'] = cleaned_updated_df['Country_Name'].astype('category')"
   ]
  },
  {
   "cell_type": "code",
   "execution_count": null,
   "id": "6c864881",
   "metadata": {},
   "outputs": [
    {
     "data": {
      "text/html": [
       "<div>\n",
       "<style scoped>\n",
       "    .dataframe tbody tr th:only-of-type {\n",
       "        vertical-align: middle;\n",
       "    }\n",
       "\n",
       "    .dataframe tbody tr th {\n",
       "        vertical-align: top;\n",
       "    }\n",
       "\n",
       "    .dataframe thead th {\n",
       "        text-align: right;\n",
       "    }\n",
       "</style>\n",
       "<table border=\"1\" class=\"dataframe\">\n",
       "  <thead>\n",
       "    <tr style=\"text-align: right;\">\n",
       "      <th></th>\n",
       "      <th>Year</th>\n",
       "      <th>GDP_Per_Capita</th>\n",
       "      <th>Trade_Rate</th>\n",
       "      <th>Inflation_Rate</th>\n",
       "      <th>Industry_Rate</th>\n",
       "      <th>Labor_Rate</th>\n",
       "      <th>Population</th>\n",
       "      <th>Country_Name_Albania</th>\n",
       "      <th>Country_Name_Algeria</th>\n",
       "      <th>Country_Name_Angola</th>\n",
       "      <th>...</th>\n",
       "      <th>Country_Name_United Kingdom</th>\n",
       "      <th>Country_Name_Uruguay</th>\n",
       "      <th>Country_Name_Uzbekistan</th>\n",
       "      <th>Country_Name_Vanuatu</th>\n",
       "      <th>Country_Name_Venezuela, RB</th>\n",
       "      <th>Country_Name_Viet Nam</th>\n",
       "      <th>Country_Name_West Bank and Gaza</th>\n",
       "      <th>Country_Name_Yemen, Rep.</th>\n",
       "      <th>Country_Name_Zambia</th>\n",
       "      <th>Country_Name_Zimbabwe</th>\n",
       "    </tr>\n",
       "  </thead>\n",
       "  <tbody>\n",
       "    <tr>\n",
       "      <th>789</th>\n",
       "      <td>2009</td>\n",
       "      <td>2823.0</td>\n",
       "      <td>1.0</td>\n",
       "      <td>2.0</td>\n",
       "      <td>-4.0</td>\n",
       "      <td>0.52</td>\n",
       "      <td>3814419</td>\n",
       "      <td>False</td>\n",
       "      <td>False</td>\n",
       "      <td>False</td>\n",
       "      <td>...</td>\n",
       "      <td>False</td>\n",
       "      <td>False</td>\n",
       "      <td>False</td>\n",
       "      <td>False</td>\n",
       "      <td>False</td>\n",
       "      <td>False</td>\n",
       "      <td>False</td>\n",
       "      <td>False</td>\n",
       "      <td>False</td>\n",
       "      <td>False</td>\n",
       "    </tr>\n",
       "    <tr>\n",
       "      <th>1684</th>\n",
       "      <td>2009</td>\n",
       "      <td>60734.0</td>\n",
       "      <td>2.0</td>\n",
       "      <td>-5.0</td>\n",
       "      <td>8.0</td>\n",
       "      <td>0.75</td>\n",
       "      <td>1610274</td>\n",
       "      <td>False</td>\n",
       "      <td>False</td>\n",
       "      <td>False</td>\n",
       "      <td>...</td>\n",
       "      <td>False</td>\n",
       "      <td>False</td>\n",
       "      <td>False</td>\n",
       "      <td>False</td>\n",
       "      <td>False</td>\n",
       "      <td>False</td>\n",
       "      <td>False</td>\n",
       "      <td>False</td>\n",
       "      <td>False</td>\n",
       "      <td>False</td>\n",
       "    </tr>\n",
       "    <tr>\n",
       "      <th>502</th>\n",
       "      <td>2009</td>\n",
       "      <td>6738.0</td>\n",
       "      <td>1.0</td>\n",
       "      <td>8.0</td>\n",
       "      <td>-6.0</td>\n",
       "      <td>0.45</td>\n",
       "      <td>4563127</td>\n",
       "      <td>False</td>\n",
       "      <td>False</td>\n",
       "      <td>False</td>\n",
       "      <td>...</td>\n",
       "      <td>False</td>\n",
       "      <td>False</td>\n",
       "      <td>False</td>\n",
       "      <td>False</td>\n",
       "      <td>False</td>\n",
       "      <td>False</td>\n",
       "      <td>False</td>\n",
       "      <td>False</td>\n",
       "      <td>False</td>\n",
       "      <td>False</td>\n",
       "    </tr>\n",
       "    <tr>\n",
       "      <th>487</th>\n",
       "      <td>2009</td>\n",
       "      <td>2284.0</td>\n",
       "      <td>1.0</td>\n",
       "      <td>4.0</td>\n",
       "      <td>16.0</td>\n",
       "      <td>0.40</td>\n",
       "      <td>4257230</td>\n",
       "      <td>False</td>\n",
       "      <td>False</td>\n",
       "      <td>False</td>\n",
       "      <td>...</td>\n",
       "      <td>False</td>\n",
       "      <td>False</td>\n",
       "      <td>False</td>\n",
       "      <td>False</td>\n",
       "      <td>False</td>\n",
       "      <td>False</td>\n",
       "      <td>False</td>\n",
       "      <td>False</td>\n",
       "      <td>False</td>\n",
       "      <td>False</td>\n",
       "    </tr>\n",
       "    <tr>\n",
       "      <th>479</th>\n",
       "      <td>2009</td>\n",
       "      <td>290.0</td>\n",
       "      <td>1.0</td>\n",
       "      <td>3.0</td>\n",
       "      <td>2.0</td>\n",
       "      <td>0.37</td>\n",
       "      <td>64270232</td>\n",
       "      <td>False</td>\n",
       "      <td>False</td>\n",
       "      <td>False</td>\n",
       "      <td>...</td>\n",
       "      <td>False</td>\n",
       "      <td>False</td>\n",
       "      <td>False</td>\n",
       "      <td>False</td>\n",
       "      <td>False</td>\n",
       "      <td>False</td>\n",
       "      <td>False</td>\n",
       "      <td>False</td>\n",
       "      <td>False</td>\n",
       "      <td>False</td>\n",
       "    </tr>\n",
       "  </tbody>\n",
       "</table>\n",
       "<p>5 rows × 168 columns</p>\n",
       "</div>"
      ],
      "text/plain": [
       "      Year  GDP_Per_Capita  Trade_Rate  Inflation_Rate  Industry_Rate  \\\n",
       "789   2009          2823.0         1.0             2.0           -4.0   \n",
       "1684  2009         60734.0         2.0            -5.0            8.0   \n",
       "502   2009          6738.0         1.0             8.0           -6.0   \n",
       "487   2009          2284.0         1.0             4.0           16.0   \n",
       "479   2009           290.0         1.0             3.0            2.0   \n",
       "\n",
       "      Labor_Rate  Population  Country_Name_Albania  Country_Name_Algeria  \\\n",
       "789         0.52     3814419                 False                 False   \n",
       "1684        0.75     1610274                 False                 False   \n",
       "502         0.45     4563127                 False                 False   \n",
       "487         0.40     4257230                 False                 False   \n",
       "479         0.37    64270232                 False                 False   \n",
       "\n",
       "      Country_Name_Angola  ...  Country_Name_United Kingdom  \\\n",
       "789                 False  ...                        False   \n",
       "1684                False  ...                        False   \n",
       "502                 False  ...                        False   \n",
       "487                 False  ...                        False   \n",
       "479                 False  ...                        False   \n",
       "\n",
       "      Country_Name_Uruguay  Country_Name_Uzbekistan  Country_Name_Vanuatu  \\\n",
       "789                  False                    False                 False   \n",
       "1684                 False                    False                 False   \n",
       "502                  False                    False                 False   \n",
       "487                  False                    False                 False   \n",
       "479                  False                    False                 False   \n",
       "\n",
       "      Country_Name_Venezuela, RB  Country_Name_Viet Nam  \\\n",
       "789                        False                  False   \n",
       "1684                       False                  False   \n",
       "502                        False                  False   \n",
       "487                        False                  False   \n",
       "479                        False                  False   \n",
       "\n",
       "      Country_Name_West Bank and Gaza  Country_Name_Yemen, Rep.  \\\n",
       "789                             False                     False   \n",
       "1684                            False                     False   \n",
       "502                             False                     False   \n",
       "487                             False                     False   \n",
       "479                             False                     False   \n",
       "\n",
       "      Country_Name_Zambia  Country_Name_Zimbabwe  \n",
       "789                 False                  False  \n",
       "1684                False                  False  \n",
       "502                 False                  False  \n",
       "487                 False                  False  \n",
       "479                 False                  False  \n",
       "\n",
       "[5 rows x 168 columns]"
      ]
     },
     "execution_count": 108,
     "metadata": {},
     "output_type": "execute_result"
    }
   ],
   "source": [
    "# # onehote encoded\n",
    "one_hat_encoded_df = pd.get_dummies(cleaned_updated_df, columns=['Country_Name'])\n",
    "one_hat_encoded_df.head()"
   ]
  },
  {
   "cell_type": "code",
   "execution_count": 115,
   "id": "74ba85ea",
   "metadata": {},
   "outputs": [],
   "source": [
    "df_machine_learning = one_hat_encoded_df"
   ]
  },
  {
   "cell_type": "code",
   "execution_count": 116,
   "id": "3a87b8f6",
   "metadata": {},
   "outputs": [],
   "source": [
    "# define the target variable\n",
    "y = df_machine_learning['GDP_Per_Capita']\n",
    "\n",
    "# define the features\n",
    "X = df_machine_learning.drop(['GDP_Per_Capita'], axis=1)"
   ]
  },
  {
   "cell_type": "code",
   "execution_count": null,
   "id": "b1377aaf",
   "metadata": {},
   "outputs": [],
   "source": []
  },
  {
   "cell_type": "code",
   "execution_count": null,
   "id": "d532fa90",
   "metadata": {},
   "outputs": [],
   "source": []
  }
 ],
 "metadata": {
  "kernelspec": {
   "display_name": "Python 3",
   "language": "python",
   "name": "python3"
  },
  "language_info": {
   "codemirror_mode": {
    "name": "ipython",
    "version": 3
   },
   "file_extension": ".py",
   "mimetype": "text/x-python",
   "name": "python",
   "nbconvert_exporter": "python",
   "pygments_lexer": "ipython3",
   "version": "3.12.1"
  }
 },
 "nbformat": 4,
 "nbformat_minor": 5
}
