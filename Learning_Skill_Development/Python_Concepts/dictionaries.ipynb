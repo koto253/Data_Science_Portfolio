{
 "cells": [
  {
   "cell_type": "code",
   "execution_count": 13,
   "id": "760e8a7c",
   "metadata": {},
   "outputs": [
    {
     "data": {
      "text/plain": [
       "{'dog': 'chien',\n",
       " 'cat': 'chat',\n",
       " 'mouse': 'souris',\n",
       " 'bird': 'oiseau',\n",
       " 'snake': 'serpent'}"
      ]
     },
     "execution_count": 13,
     "metadata": {},
     "output_type": "execute_result"
    }
   ],
   "source": [
    "animals = {\n",
    "    \"dog\": 'chien',\n",
    "    \"cat\": 'chat',\n",
    "    \"mouse\": 'souris',\n",
    "    \"bird\": 'oiseau',\n",
    "    \"snake\": 'serpent' \n",
    "}\n",
    "# cannot have a key twice in the same dictionnary, make sense\n",
    "# also order does matter\n",
    "\n",
    "animals"
   ]
  },
  {
   "cell_type": "code",
   "execution_count": 14,
   "id": "e1c699f7",
   "metadata": {},
   "outputs": [
    {
     "data": {
      "text/plain": [
       "{'banana': 5000, 'apple': 2094, 'mango': 34343}"
      ]
     },
     "execution_count": 14,
     "metadata": {},
     "output_type": "execute_result"
    }
   ],
   "source": [
    "fruits = {\n",
    "    'banana': 5000,\n",
    "    'apple': 2094,\n",
    "    'mango': 34343\n",
    "}\n",
    "\n",
    "fruits"
   ]
  },
  {
   "cell_type": "code",
   "execution_count": 15,
   "id": "04cd20fb",
   "metadata": {},
   "outputs": [
    {
     "data": {
      "text/plain": [
       "{'dict_3': {'dog': 'chien',\n",
       "  'cat': 'chat',\n",
       "  'mouse': 'souris',\n",
       "  'bird': 'oiseau',\n",
       "  'snake': 'serpent'},\n",
       " 'dict_4': {'banana': 5000, 'apple': 2094, 'mango': 34343}}"
      ]
     },
     "execution_count": 15,
     "metadata": {},
     "output_type": "execute_result"
    }
   ],
   "source": [
    "dict_1 = {\n",
    "    \"dict_3\": animals,\n",
    "    \"dict_4\": fruits\n",
    "}\n",
    "\n",
    "dict_1"
   ]
  },
  {
   "cell_type": "code",
   "execution_count": null,
   "id": "fbd7f77d",
   "metadata": {},
   "outputs": [],
   "source": []
  },
  {
   "cell_type": "code",
   "execution_count": 16,
   "id": "39255cb4",
   "metadata": {},
   "outputs": [
    {
     "data": {
      "text/plain": [
       "{'banana': 5000, 'apple': 2094, 'mango': 34343, 'watermelon': 1000}"
      ]
     },
     "execution_count": 16,
     "metadata": {},
     "output_type": "execute_result"
    }
   ],
   "source": [
    "fruits['watermelon'] = 1000\n",
    "fruits"
   ]
  },
  {
   "cell_type": "code",
   "execution_count": 19,
   "id": "e7deb36b",
   "metadata": {},
   "outputs": [
    {
     "name": "stdout",
     "output_type": "stream",
     "text": [
      "n/a\n"
     ]
    }
   ],
   "source": [
    "print(fruits.get('peches', 'n/a'))"
   ]
  },
  {
   "cell_type": "code",
   "execution_count": null,
   "id": "1d52a7fd",
   "metadata": {},
   "outputs": [],
   "source": []
  },
  {
   "cell_type": "code",
   "execution_count": 20,
   "id": "cefdab4e",
   "metadata": {},
   "outputs": [
    {
     "data": {
      "text/plain": [
       "34343"
      ]
     },
     "execution_count": 20,
     "metadata": {},
     "output_type": "execute_result"
    }
   ],
   "source": [
    "fruits['mango']"
   ]
  },
  {
   "cell_type": "code",
   "execution_count": 21,
   "id": "05e87f58",
   "metadata": {},
   "outputs": [
    {
     "data": {
      "text/plain": [
       "'chien'"
      ]
     },
     "execution_count": 21,
     "metadata": {},
     "output_type": "execute_result"
    }
   ],
   "source": [
    "animals['dog']"
   ]
  },
  {
   "cell_type": "code",
   "execution_count": 30,
   "id": "1e4db4a0",
   "metadata": {},
   "outputs": [
    {
     "data": {
      "text/plain": [
       "dict_keys(['banana', 'apple', 'mango', 'watermelon'])"
      ]
     },
     "execution_count": 30,
     "metadata": {},
     "output_type": "execute_result"
    }
   ],
   "source": [
    "fruits.keys()"
   ]
  },
  {
   "cell_type": "code",
   "execution_count": 32,
   "id": "167b59c6",
   "metadata": {},
   "outputs": [
    {
     "data": {
      "text/plain": [
       "dict_values(['chien', 'chat', 'souris', 'oiseau', 'serpent'])"
      ]
     },
     "execution_count": 32,
     "metadata": {},
     "output_type": "execute_result"
    }
   ],
   "source": [
    "animals.values()"
   ]
  },
  {
   "cell_type": "code",
   "execution_count": null,
   "id": "14272542",
   "metadata": {},
   "outputs": [],
   "source": []
  },
  {
   "cell_type": "code",
   "execution_count": 22,
   "id": "38b53eee",
   "metadata": {},
   "outputs": [
    {
     "name": "stdout",
     "output_type": "stream",
     "text": [
      "dog\n",
      "cat\n",
      "mouse\n",
      "bird\n",
      "snake\n"
     ]
    }
   ],
   "source": [
    "for i in animals:\n",
    "    print(i)"
   ]
  },
  {
   "cell_type": "code",
   "execution_count": 23,
   "id": "cff2afb2",
   "metadata": {},
   "outputs": [
    {
     "name": "stdout",
     "output_type": "stream",
     "text": [
      "chien\n",
      "chat\n",
      "souris\n",
      "oiseau\n",
      "serpent\n"
     ]
    }
   ],
   "source": [
    "for i in animals.values():\n",
    "    print(i)"
   ]
  },
  {
   "cell_type": "code",
   "execution_count": 27,
   "id": "313d6af4",
   "metadata": {},
   "outputs": [
    {
     "name": "stdout",
     "output_type": "stream",
     "text": [
      "dog chien\n",
      "cat chat\n",
      "mouse souris\n",
      "bird oiseau\n",
      "snake serpent\n"
     ]
    }
   ],
   "source": [
    "for k, v in animals.items():\n",
    "    print(k, v)"
   ]
  },
  {
   "cell_type": "code",
   "execution_count": 28,
   "id": "7a8a4193",
   "metadata": {},
   "outputs": [
    {
     "name": "stdout",
     "output_type": "stream",
     "text": [
      "banana 5000\n",
      "apple 2094\n",
      "mango 34343\n",
      "watermelon 1000\n"
     ]
    }
   ],
   "source": [
    "for k, v in fruits.items():\n",
    "    print(k, v)"
   ]
  },
  {
   "cell_type": "code",
   "execution_count": null,
   "id": "9a1eb1a6",
   "metadata": {},
   "outputs": [],
   "source": []
  }
 ],
 "metadata": {
  "kernelspec": {
   "display_name": "Python 3 (ipykernel)",
   "language": "python",
   "name": "python3"
  },
  "language_info": {
   "codemirror_mode": {
    "name": "ipython",
    "version": 3
   },
   "file_extension": ".py",
   "mimetype": "text/x-python",
   "name": "python",
   "nbconvert_exporter": "python",
   "pygments_lexer": "ipython3",
   "version": "3.11.5"
  }
 },
 "nbformat": 4,
 "nbformat_minor": 5
}
