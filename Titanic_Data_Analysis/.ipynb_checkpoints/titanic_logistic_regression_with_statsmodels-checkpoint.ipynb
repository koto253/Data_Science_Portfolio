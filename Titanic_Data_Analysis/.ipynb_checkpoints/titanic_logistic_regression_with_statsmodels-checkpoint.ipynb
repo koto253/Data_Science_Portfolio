{
 "cells": [
  {
   "cell_type": "markdown",
   "id": "8eaeb583-285f-4c01-bbc8-84ac5c13a743",
   "metadata": {},
   "source": [
    "# What is the problem?\n",
    "Predict the survival of passengers on the Titanic, a classic binary classification problem. The objective is to model the probability that a passenger survived based on various features."
   ]
  },
  {
   "cell_type": "markdown",
   "id": "d4dc32a7-1f71-4ba8-8ad0-a40cda2ac8ca",
   "metadata": {},
   "source": [
    "# What is the type of machine learning?\n",
    "The approach used is supervised learning because the model is trained using a dataset that includes both the input features (predictors) and the output label (the target variable 'Survived'). Specifically, the technique applied is logistic regression, which is used for binary classification tasks."
   ]
  },
  {
   "cell_type": "markdown",
   "id": "1fa65eb1-b4fb-444e-9352-0440aff62615",
   "metadata": {},
   "source": [
    "# What are the feature variables and target variables?\n",
    "## Target Variable: 'Survived'\r",
    "  This is what the model is trying to predict: whether a passenger survived (1) or did not survive (0\n",
    "## Feature Variables:\n",
    "'Travel_Class', 'Sex', 'Age', 'NumSiblings_Spouses',\r\n",
    "       'NumParents_Children', 'Embarked')."
   ]
  },
  {
   "cell_type": "code",
   "execution_count": null,
   "id": "8c90ad3a-3ea3-4ac9-a698-501425334d76",
   "metadata": {},
   "outputs": [],
   "source": []
  },
  {
   "cell_type": "code",
   "execution_count": 9,
   "id": "1fbdc969-85ec-4111-9219-027e430babdd",
   "metadata": {},
   "outputs": [],
   "source": [
    "import pandas as pd\n",
    "# import statsmodels\n",
    "import statsmodels.api as sm\n",
    "import statsmodels.formula.api as smf\n",
    "# import pandas.testing as tm\n",
    "from sklearn.model_selection import train_test_split"
   ]
  },
  {
   "cell_type": "code",
   "execution_count": 10,
   "id": "29a92890-dc65-4ce2-a20e-305b2ed4e35a",
   "metadata": {},
   "outputs": [
    {
     "data": {
      "text/html": [
       "<div>\n",
       "<style scoped>\n",
       "    .dataframe tbody tr th:only-of-type {\n",
       "        vertical-align: middle;\n",
       "    }\n",
       "\n",
       "    .dataframe tbody tr th {\n",
       "        vertical-align: top;\n",
       "    }\n",
       "\n",
       "    .dataframe thead th {\n",
       "        text-align: right;\n",
       "    }\n",
       "</style>\n",
       "<table border=\"1\" class=\"dataframe\">\n",
       "  <thead>\n",
       "    <tr style=\"text-align: right;\">\n",
       "      <th></th>\n",
       "      <th>Survived</th>\n",
       "      <th>Travel_Class</th>\n",
       "      <th>Sex</th>\n",
       "      <th>Age</th>\n",
       "      <th>NumSiblings_Spouses</th>\n",
       "      <th>NumParents_Children</th>\n",
       "      <th>Embarked</th>\n",
       "    </tr>\n",
       "  </thead>\n",
       "  <tbody>\n",
       "    <tr>\n",
       "      <th>0</th>\n",
       "      <td>0</td>\n",
       "      <td>3</td>\n",
       "      <td>male</td>\n",
       "      <td>22.0</td>\n",
       "      <td>1</td>\n",
       "      <td>0</td>\n",
       "      <td>S</td>\n",
       "    </tr>\n",
       "    <tr>\n",
       "      <th>1</th>\n",
       "      <td>1</td>\n",
       "      <td>1</td>\n",
       "      <td>female</td>\n",
       "      <td>38.0</td>\n",
       "      <td>1</td>\n",
       "      <td>0</td>\n",
       "      <td>C</td>\n",
       "    </tr>\n",
       "    <tr>\n",
       "      <th>2</th>\n",
       "      <td>1</td>\n",
       "      <td>3</td>\n",
       "      <td>female</td>\n",
       "      <td>26.0</td>\n",
       "      <td>0</td>\n",
       "      <td>0</td>\n",
       "      <td>S</td>\n",
       "    </tr>\n",
       "    <tr>\n",
       "      <th>3</th>\n",
       "      <td>1</td>\n",
       "      <td>1</td>\n",
       "      <td>female</td>\n",
       "      <td>35.0</td>\n",
       "      <td>1</td>\n",
       "      <td>0</td>\n",
       "      <td>S</td>\n",
       "    </tr>\n",
       "    <tr>\n",
       "      <th>4</th>\n",
       "      <td>0</td>\n",
       "      <td>3</td>\n",
       "      <td>male</td>\n",
       "      <td>35.0</td>\n",
       "      <td>0</td>\n",
       "      <td>0</td>\n",
       "      <td>S</td>\n",
       "    </tr>\n",
       "  </tbody>\n",
       "</table>\n",
       "</div>"
      ],
      "text/plain": [
       "   Survived  Travel_Class     Sex   Age  NumSiblings_Spouses  \\\n",
       "0         0             3    male  22.0                    1   \n",
       "1         1             1  female  38.0                    1   \n",
       "2         1             3  female  26.0                    0   \n",
       "3         1             1  female  35.0                    1   \n",
       "4         0             3    male  35.0                    0   \n",
       "\n",
       "   NumParents_Children Embarked  \n",
       "0                    0        S  \n",
       "1                    0        C  \n",
       "2                    0        S  \n",
       "3                    0        S  \n",
       "4                    0        S  "
      ]
     },
     "execution_count": 10,
     "metadata": {},
     "output_type": "execute_result"
    }
   ],
   "source": [
    "df = pd.read_csv('titanic_cleaned.csv')\n",
    "df.head()"
   ]
  },
  {
   "cell_type": "code",
   "execution_count": 4,
   "id": "22c7726a-8a94-406b-a93c-11e372717a5f",
   "metadata": {},
   "outputs": [
    {
     "data": {
      "text/plain": [
       "(891, 7)"
      ]
     },
     "execution_count": 4,
     "metadata": {},
     "output_type": "execute_result"
    }
   ],
   "source": [
    "df.shape"
   ]
  },
  {
   "cell_type": "code",
   "execution_count": 5,
   "id": "142dd31b-a77f-4e6e-9817-930e45c74fcb",
   "metadata": {},
   "outputs": [
    {
     "data": {
      "text/plain": [
       "Index(['Survived', 'Travel_Class', 'Sex', 'Age', 'NumSiblings_Spouses',\n",
       "       'NumParents_Children', 'Embarked'],\n",
       "      dtype='object')"
      ]
     },
     "execution_count": 5,
     "metadata": {},
     "output_type": "execute_result"
    }
   ],
   "source": [
    "df.columns"
   ]
  },
  {
   "cell_type": "code",
   "execution_count": 6,
   "id": "59a19602-1184-4f37-81e2-e3326fd69e14",
   "metadata": {},
   "outputs": [
    {
     "name": "stdout",
     "output_type": "stream",
     "text": [
      "<class 'pandas.core.frame.DataFrame'>\n",
      "RangeIndex: 891 entries, 0 to 890\n",
      "Data columns (total 7 columns):\n",
      " #   Column               Non-Null Count  Dtype  \n",
      "---  ------               --------------  -----  \n",
      " 0   Survived             891 non-null    int64  \n",
      " 1   Travel_Class         891 non-null    int64  \n",
      " 2   Sex                  891 non-null    object \n",
      " 3   Age                  891 non-null    float64\n",
      " 4   NumSiblings_Spouses  891 non-null    int64  \n",
      " 5   NumParents_Children  891 non-null    int64  \n",
      " 6   Embarked             891 non-null    object \n",
      "dtypes: float64(1), int64(4), object(2)\n",
      "memory usage: 48.9+ KB\n"
     ]
    }
   ],
   "source": [
    "df.info()"
   ]
  },
  {
   "cell_type": "code",
   "execution_count": 7,
   "id": "1103436c-88bb-4ea5-85dd-ee6e231f5b41",
   "metadata": {},
   "outputs": [
    {
     "data": {
      "text/plain": [
       "Survived\n",
       "0    549\n",
       "1    342\n",
       "Name: count, dtype: int64"
      ]
     },
     "execution_count": 7,
     "metadata": {},
     "output_type": "execute_result"
    }
   ],
   "source": [
    "df.Survived.value_counts()"
   ]
  },
  {
   "cell_type": "code",
   "execution_count": 11,
   "id": "8626025c-bcda-45be-ab2a-65a5b63c35d8",
   "metadata": {},
   "outputs": [],
   "source": [
    "# Converting categorical variables into dummy variables\n",
    "df = pd.get_dummies(df, columns=['Sex', 'Embarked'], drop_first=True)"
   ]
  },
  {
   "cell_type": "code",
   "execution_count": null,
   "id": "742afa9e-2122-4545-9e23-ff1706edd775",
   "metadata": {},
   "outputs": [],
   "source": []
  },
  {
   "cell_type": "code",
   "execution_count": 12,
   "id": "3b937e57-aec3-4aaf-95de-5aa4ed76952e",
   "metadata": {},
   "outputs": [],
   "source": [
    "# Splitting the dataset\n",
    "X = df.drop('Survived', axis=1)\n",
    "y = df['Survived']\n",
    "X_train, X_test, y_train, y_test = train_test_split(X, y, test_size=0.20, random_state=123)"
   ]
  },
  {
   "cell_type": "code",
   "execution_count": null,
   "id": "5a225594-17e0-4c75-bb34-8e56ed58f695",
   "metadata": {},
   "outputs": [],
   "source": []
  },
  {
   "cell_type": "code",
   "execution_count": 22,
   "id": "d3b1e702-b695-4454-8b0e-bc321f07cf9f",
   "metadata": {},
   "outputs": [
    {
     "data": {
      "text/html": [
       "<div>\n",
       "<style scoped>\n",
       "    .dataframe tbody tr th:only-of-type {\n",
       "        vertical-align: middle;\n",
       "    }\n",
       "\n",
       "    .dataframe tbody tr th {\n",
       "        vertical-align: top;\n",
       "    }\n",
       "\n",
       "    .dataframe thead th {\n",
       "        text-align: right;\n",
       "    }\n",
       "</style>\n",
       "<table border=\"1\" class=\"dataframe\">\n",
       "  <thead>\n",
       "    <tr style=\"text-align: right;\">\n",
       "      <th></th>\n",
       "      <th>Survived</th>\n",
       "      <th>Travel_Class</th>\n",
       "      <th>Age</th>\n",
       "      <th>NumSiblings_Spouses</th>\n",
       "      <th>NumParents_Children</th>\n",
       "      <th>Sex_male</th>\n",
       "      <th>Embarked_Q</th>\n",
       "      <th>Embarked_S</th>\n",
       "    </tr>\n",
       "  </thead>\n",
       "  <tbody>\n",
       "    <tr>\n",
       "      <th>329</th>\n",
       "      <td>1</td>\n",
       "      <td>1</td>\n",
       "      <td>16.0</td>\n",
       "      <td>0</td>\n",
       "      <td>1</td>\n",
       "      <td>False</td>\n",
       "      <td>False</td>\n",
       "      <td>False</td>\n",
       "    </tr>\n",
       "    <tr>\n",
       "      <th>749</th>\n",
       "      <td>0</td>\n",
       "      <td>3</td>\n",
       "      <td>31.0</td>\n",
       "      <td>0</td>\n",
       "      <td>0</td>\n",
       "      <td>True</td>\n",
       "      <td>True</td>\n",
       "      <td>False</td>\n",
       "    </tr>\n",
       "    <tr>\n",
       "      <th>203</th>\n",
       "      <td>0</td>\n",
       "      <td>3</td>\n",
       "      <td>45.5</td>\n",
       "      <td>0</td>\n",
       "      <td>0</td>\n",
       "      <td>True</td>\n",
       "      <td>False</td>\n",
       "      <td>False</td>\n",
       "    </tr>\n",
       "    <tr>\n",
       "      <th>421</th>\n",
       "      <td>0</td>\n",
       "      <td>3</td>\n",
       "      <td>21.0</td>\n",
       "      <td>0</td>\n",
       "      <td>0</td>\n",
       "      <td>True</td>\n",
       "      <td>True</td>\n",
       "      <td>False</td>\n",
       "    </tr>\n",
       "    <tr>\n",
       "      <th>97</th>\n",
       "      <td>1</td>\n",
       "      <td>1</td>\n",
       "      <td>23.0</td>\n",
       "      <td>0</td>\n",
       "      <td>1</td>\n",
       "      <td>True</td>\n",
       "      <td>False</td>\n",
       "      <td>False</td>\n",
       "    </tr>\n",
       "  </tbody>\n",
       "</table>\n",
       "</div>"
      ],
      "text/plain": [
       "     Survived  Travel_Class   Age  NumSiblings_Spouses  NumParents_Children  \\\n",
       "329         1             1  16.0                    0                    1   \n",
       "749         0             3  31.0                    0                    0   \n",
       "203         0             3  45.5                    0                    0   \n",
       "421         0             3  21.0                    0                    0   \n",
       "97          1             1  23.0                    0                    1   \n",
       "\n",
       "     Sex_male  Embarked_Q  Embarked_S  \n",
       "329     False       False       False  \n",
       "749      True        True       False  \n",
       "203      True       False       False  \n",
       "421      True        True       False  \n",
       "97       True       False       False  "
      ]
     },
     "execution_count": 22,
     "metadata": {},
     "output_type": "execute_result"
    }
   ],
   "source": [
    "# the training dataset setup for Statsmodels\n",
    "train_data = df.iloc[X_train.index]  # Only use the rows from the training set\n",
    "train_data.head()"
   ]
  },
  {
   "cell_type": "code",
   "execution_count": 24,
   "id": "ca355931-4818-4d9f-b1e2-027d6728a013",
   "metadata": {},
   "outputs": [
    {
     "data": {
      "text/plain": [
       "Index(['Survived', 'Travel_Class', 'Age', 'NumSiblings_Spouses',\n",
       "       'NumParents_Children', 'Sex_male', 'Embarked_Q', 'Embarked_S'],\n",
       "      dtype='object')"
      ]
     },
     "execution_count": 24,
     "metadata": {},
     "output_type": "execute_result"
    }
   ],
   "source": [
    "train_data.columns"
   ]
  },
  {
   "cell_type": "markdown",
   "id": "86118ce9-d605-4803-865d-bb55508345d0",
   "metadata": {},
   "source": [
    "# What machine learning algorithms were used? \n",
    "The machine learning algorithm used was logistic regression, a popular method for binary classification tasks"
   ]
  },
  {
   "cell_type": "markdown",
   "id": "1ec574bd-cf94-4eb2-840f-cb124a8ac22b",
   "metadata": {},
   "source": [
    "# Which is better?\n",
    "\r\n",
    "Given thatheur target variable nd binary (either 0 or 1), logistic regression is indeed a suitabl\n",
    "and often highly effective choice for such classification problemse "
   ]
  },
  {
   "cell_type": "code",
   "execution_count": 25,
   "id": "a0aa2957-4fda-496d-9a2e-42eab0c8b5d9",
   "metadata": {},
   "outputs": [],
   "source": [
    "# creating multiple model with `statsmodels`\n",
    "f1 = 'Survived ~ Travel_Class + Sex_male + Age + NumSiblings_Spouses + NumParents_Children + Embarked_Q + Embarked_S'\n",
    "f2 = 'Survived ~ Travel_Class + Embarked_Q + Embarked_S'\n",
    "f3 = 'Survived ~ Travel_Class + Sex_male + Age + Embarked_Q + Embarked_S'\n",
    "f4 = 'Survived ~  NumSiblings_Spouses + NumParents_Children'\n"
   ]
  },
  {
   "cell_type": "code",
   "execution_count": 76,
   "id": "b6e767c7-d529-4074-bbe4-39268e2bd97e",
   "metadata": {},
   "outputs": [
    {
     "name": "stdout",
     "output_type": "stream",
     "text": [
      "Optimization terminated successfully.\n",
      "         Current function value: 0.448756\n",
      "         Iterations 6\n",
      "Optimization terminated successfully.\n",
      "         Current function value: 0.608686\n",
      "         Iterations 5\n",
      "Optimization terminated successfully.\n",
      "         Current function value: 0.455715\n",
      "         Iterations 6\n",
      "Optimization terminated successfully.\n",
      "         Current function value: 0.659220\n",
      "         Iterations 5\n"
     ]
    }
   ],
   "source": [
    "# Creating and fitting the logistic regression models using the specified formulas\n",
    "model_1 = smf.logit(f1, data=train_data).fit()\n",
    "model_2 = smf.logit(f2, data=train_data).fit()\n",
    "model_3 = smf.logit(f3, data=train_data).fit()\n",
    "model_4 = smf.logit(f4, data=train_data).fit()"
   ]
  },
  {
   "cell_type": "code",
   "execution_count": 20,
   "id": "ccd4cd9e-9db5-449a-855e-9da4f6fa1f36",
   "metadata": {},
   "outputs": [],
   "source": []
  },
  {
   "cell_type": "code",
   "execution_count": 77,
   "id": "d8b60826-1b6e-42fc-9dae-f002120e4bd9",
   "metadata": {},
   "outputs": [
    {
     "data": {
      "text/plain": [
       "(<class 'statsmodels.iolib.summary.Summary'>\n",
       " \"\"\"\n",
       "                            Logit Regression Results                           \n",
       " ==============================================================================\n",
       " Dep. Variable:               Survived   No. Observations:                  712\n",
       " Model:                          Logit   Df Residuals:                      704\n",
       " Method:                           MLE   Df Model:                            7\n",
       " Date:                Sun, 12 May 2024   Pseudo R-squ.:                  0.3285\n",
       " Time:                        15:54:11   Log-Likelihood:                -319.51\n",
       " converged:                       True   LL-Null:                       -475.84\n",
       " Covariance Type:            nonrobust   LLR p-value:                 1.196e-63\n",
       " =======================================================================================\n",
       "                           coef    std err          z      P>|z|      [0.025      0.975]\n",
       " ---------------------------------------------------------------------------------------\n",
       " Intercept               5.3596      0.559      9.586      0.000       4.264       6.456\n",
       " Sex_male[T.True]       -2.7187      0.223    -12.196      0.000      -3.156      -2.282\n",
       " Embarked_Q[T.True]      0.0587      0.413      0.142      0.887      -0.751       0.869\n",
       " Embarked_S[T.True]     -0.3273      0.263     -1.244      0.213      -0.843       0.188\n",
       " Travel_Class           -1.1525      0.142     -8.103      0.000      -1.431      -0.874\n",
       " Age                    -0.0382      0.008     -4.625      0.000      -0.054      -0.022\n",
       " NumSiblings_Spouses    -0.3160      0.117     -2.697      0.007      -0.546      -0.086\n",
       " NumParents_Children    -0.0111      0.135     -0.083      0.934      -0.276       0.254\n",
       " =======================================================================================\n",
       " \"\"\",\n",
       " <class 'statsmodels.iolib.summary.Summary'>\n",
       " \"\"\"\n",
       "                            Logit Regression Results                           \n",
       " ==============================================================================\n",
       " Dep. Variable:               Survived   No. Observations:                  712\n",
       " Model:                          Logit   Df Residuals:                      708\n",
       " Method:                           MLE   Df Model:                            3\n",
       " Date:                Sun, 12 May 2024   Pseudo R-squ.:                 0.08923\n",
       " Time:                        15:54:11   Log-Likelihood:                -433.38\n",
       " converged:                       True   LL-Null:                       -475.84\n",
       " Covariance Type:            nonrobust   LLR p-value:                 2.703e-18\n",
       " ======================================================================================\n",
       "                          coef    std err          z      P>|z|      [0.025      0.975]\n",
       " --------------------------------------------------------------------------------------\n",
       " Intercept              1.7579      0.275      6.396      0.000       1.219       2.297\n",
       " Embarked_Q[T.True]     0.2678      0.333      0.803      0.422      -0.386       0.921\n",
       " Embarked_S[T.True]    -0.4740      0.217     -2.182      0.029      -0.900      -0.048\n",
       " Travel_Class          -0.8307      0.104     -7.990      0.000      -1.034      -0.627\n",
       " ======================================================================================\n",
       " \"\"\",\n",
       " <class 'statsmodels.iolib.summary.Summary'>\n",
       " \"\"\"\n",
       "                            Logit Regression Results                           \n",
       " ==============================================================================\n",
       " Dep. Variable:               Survived   No. Observations:                  712\n",
       " Model:                          Logit   Df Residuals:                      706\n",
       " Method:                           MLE   Df Model:                            5\n",
       " Date:                Sun, 12 May 2024   Pseudo R-squ.:                  0.3181\n",
       " Time:                        15:54:11   Log-Likelihood:                -324.47\n",
       " converged:                       True   LL-Null:                       -475.84\n",
       " Covariance Type:            nonrobust   LLR p-value:                 2.570e-63\n",
       " ======================================================================================\n",
       "                          coef    std err          z      P>|z|      [0.025      0.975]\n",
       " --------------------------------------------------------------------------------------\n",
       " Intercept              5.0071      0.529      9.472      0.000       3.971       6.043\n",
       " Sex_male[T.True]      -2.5856      0.209    -12.364      0.000      -2.995      -2.176\n",
       " Embarked_Q[T.True]     0.0949      0.402      0.236      0.814      -0.694       0.884\n",
       " Embarked_S[T.True]    -0.3804      0.261     -1.459      0.145      -0.891       0.131\n",
       " Travel_Class          -1.1519      0.141     -8.152      0.000      -1.429      -0.875\n",
       " Age                   -0.0336      0.008     -4.238      0.000      -0.049      -0.018\n",
       " ======================================================================================\n",
       " \"\"\",\n",
       " <class 'statsmodels.iolib.summary.Summary'>\n",
       " \"\"\"\n",
       "                            Logit Regression Results                           \n",
       " ==============================================================================\n",
       " Dep. Variable:               Survived   No. Observations:                  712\n",
       " Model:                          Logit   Df Residuals:                      709\n",
       " Method:                           MLE   Df Model:                            2\n",
       " Date:                Sun, 12 May 2024   Pseudo R-squ.:                 0.01361\n",
       " Time:                        15:54:11   Log-Likelihood:                -469.36\n",
       " converged:                       True   LL-Null:                       -475.84\n",
       " Covariance Type:            nonrobust   LLR p-value:                  0.001536\n",
       " =======================================================================================\n",
       "                           coef    std err          z      P>|z|      [0.025      0.975]\n",
       " ---------------------------------------------------------------------------------------\n",
       " Intercept              -0.5069      0.089     -5.698      0.000      -0.681      -0.333\n",
       " NumSiblings_Spouses    -0.1777      0.082     -2.173      0.030      -0.338      -0.017\n",
       " NumParents_Children     0.3917      0.116      3.380      0.001       0.165       0.619\n",
       " =======================================================================================\n",
       " \"\"\")"
      ]
     },
     "execution_count": 77,
     "metadata": {},
     "output_type": "execute_result"
    }
   ],
   "source": [
    "# Display the summaries of the models\n",
    "model_1.summary(),model_2.summary(), model_3.summary(), model_4.summary()"
   ]
  },
  {
   "cell_type": "code",
   "execution_count": null,
   "id": "74501a4c-61fe-42e4-b369-c807826a7722",
   "metadata": {},
   "outputs": [],
   "source": []
  },
  {
   "cell_type": "code",
   "execution_count": 29,
   "id": "04558934-50fe-43cd-a4af-62fcd1458c4d",
   "metadata": {},
   "outputs": [],
   "source": [
    "from sklearn.metrics import accuracy_score, precision_score, recall_score, f1_score"
   ]
  },
  {
   "cell_type": "markdown",
   "id": "1fefc833-f425-4a71-bff3-e459ddaa895a",
   "metadata": {},
   "source": [
    "# What evaluation metric do you prefer?\n",
    "## Accuracy\n",
    "Measures the overall correctness of the model (i.e., the ratio of correct predictions to the total number of samples).\n",
    "## Precision (Positive Predictive Value\n",
    "Measures the ratio of correct positive predictions to the total predicted positives. It answers the question: Of all samples labeled as positive, how many actually belong to the positive class?\n",
    "## Recall (Sensitivity, True Positive Rate)\n",
    "Measures the ratio of correct positive predictions made in relation to all actual positives\n",
    "## F1-Score \n",
    "The harmonic mean of precision and recall. It is used to balance the trade-off between precision and recall, particularly when you have class imbalance."
   ]
  },
  {
   "cell_type": "code",
   "execution_count": null,
   "id": "1c1d2ad3-68c2-45be-969b-c5cc93a6a52a",
   "metadata": {},
   "outputs": [],
   "source": [
    "# Calculate metrics for the training set\n",
    "accuracy_train = accuracy_score(y_train, y_pred_train)\n",
    "precision_train = precision_score(y_train, y_pred_train)\n",
    "recall_train = recall_score(y_train, y_pred_train)\n",
    "f1_train = f1_score(y_train, y_pred_train)\n",
    "\n",
    "# Calculate metrics for the testing set\n",
    "accuracy_test = accuracy_score(y_test, y_pred_test)\n",
    "precision_test = precision_score(y_test, y_pred_test)\n",
    "recall_test = recall_score(y_test, y_pred_test)\n",
    "f1_test = f1_score(y_test, y_pred_test)"
   ]
  },
  {
   "cell_type": "code",
   "execution_count": 68,
   "id": "6490b764-72b5-4a01-8e76-943d413a9dbd",
   "metadata": {},
   "outputs": [],
   "source": [
    "# Redefine the evaluation function to adapt to Statsmodels and apply it to available test data\n",
    "\n",
    "def evaluate_model_performance(model, X, y_true):\n",
    "    # Predict using the logistic regression model from statsmodels, adjusting intercept for predict\n",
    "    X_with_intercept = sm.add_constant(X, has_constant='add')\n",
    "    predictions_prob = model.predict(X_with_intercept)\n",
    "    predictions = (predictions_prob > 0.5).astype(int)  # Binarize predictions based on threshold of 0.5\n",
    "    \n",
    "    # Calculate metrics\n",
    "    accuracy = accuracy_score(y_true, predictions)\n",
    "    precision = precision_score(y_true, predictions)\n",
    "    recall = recall_score(y_true, predictions)\n",
    "    f1 = f1_score(y_true, predictions)\n",
    "    \n",
    "    return {\n",
    "        'Accuracy': accuracy,\n",
    "        'Precision': precision,\n",
    "        'Recall': recall,\n",
    "        'F1-Score': f1\n",
    "    }"
   ]
  },
  {
   "cell_type": "code",
   "execution_count": 69,
   "id": "f0151df7-863c-4c4e-a477-daa0d001f8f4",
   "metadata": {},
   "outputs": [],
   "source": [
    "# Evaluate each model\n",
    "metrics_model_1 = evaluate_model_performance(model_1, X_test, y_test)\n",
    "metrics_model_2 = evaluate_model_performance(model_2, X_test, y_test)\n",
    "metrics_model_3 = evaluate_model_performance(model_3, X_test, y_test)\n",
    "metrics_model_4 = evaluate_model_performance(model_4, X_test, y_test)"
   ]
  },
  {
   "cell_type": "code",
   "execution_count": 38,
   "id": "26b53c8c-305e-4391-a115-6e0707c56745",
   "metadata": {},
   "outputs": [
    {
     "data": {
      "text/plain": [
       "{'Accuracy': 0.7932960893854749,\n",
       " 'Precision': 0.7,\n",
       " 'Recall': 0.7538461538461538,\n",
       " 'F1-Score': 0.725925925925926}"
      ]
     },
     "execution_count": 38,
     "metadata": {},
     "output_type": "execute_result"
    }
   ],
   "source": [
    "metrics_model_1"
   ]
  },
  {
   "cell_type": "code",
   "execution_count": 34,
   "id": "be5aa9d7-9a9f-4b7a-abef-97401eef274f",
   "metadata": {},
   "outputs": [
    {
     "data": {
      "text/plain": [
       "{'Accuracy': 0.7206703910614525,\n",
       " 'Precision': 0.6415094339622641,\n",
       " 'Recall': 0.5230769230769231,\n",
       " 'F1-Score': 0.5762711864406779}"
      ]
     },
     "execution_count": 34,
     "metadata": {},
     "output_type": "execute_result"
    }
   ],
   "source": [
    "metrics_model_2"
   ]
  },
  {
   "cell_type": "code",
   "execution_count": 35,
   "id": "b49e79e2-6f84-49c8-b2b7-c2c21cff8cae",
   "metadata": {},
   "outputs": [
    {
     "data": {
      "text/plain": [
       "{'Accuracy': 0.7821229050279329,\n",
       " 'Precision': 0.6911764705882353,\n",
       " 'Recall': 0.7230769230769231,\n",
       " 'F1-Score': 0.7067669172932332}"
      ]
     },
     "execution_count": 35,
     "metadata": {},
     "output_type": "execute_result"
    }
   ],
   "source": [
    "metrics_model_3"
   ]
  },
  {
   "cell_type": "code",
   "execution_count": 36,
   "id": "f01953fb-7aa8-4aa0-820b-c7528c8e7851",
   "metadata": {},
   "outputs": [
    {
     "data": {
      "text/plain": [
       "{'Accuracy': 0.6424581005586593,\n",
       " 'Precision': 0.5333333333333333,\n",
       " 'Recall': 0.12307692307692308,\n",
       " 'F1-Score': 0.2}"
      ]
     },
     "execution_count": 36,
     "metadata": {},
     "output_type": "execute_result"
    }
   ],
   "source": [
    "metrics_model_4"
   ]
  },
  {
   "cell_type": "markdown",
   "id": "8c415e16-dd49-47ca-a267-8b1c1fabb7fb",
   "metadata": {},
   "source": [
    "# How did you evaluate models performance?\n",
    "Model 1 outperforms the other **models** across all the metrics used.\n",
    "\n",
    "**Highest Accuracy:** Model 1 has the highest accuracy (0.793), indicating that it correctly predicts a larger percentage of the total outcomes.ly."
   ]
  },
  {
   "cell_type": "markdown",
   "id": "bc7513fd-66c6-414f-8013-cdf55527f9ac",
   "metadata": {},
   "source": [
    "**Highest Precision:** Model 1 also leads in precision (0.7), which suggests that it is better at predicting positive instances among the instances it predicts as positive.\n"
   ]
  },
  {
   "cell_type": "markdown",
   "id": "e628b9f2-ddf2-4a51-a71f-3a273af4955c",
   "metadata": {},
   "source": [
    "\n",
    "**Highest Recall:** Model 1 shows the highest recall (0.753), which means it is better at identifying all relevant instances.\n",
    "\n",
    "**Highest F1-Score:** Model 1 again has the highest F1-score (0.726), balancing precision and recall effectively."
   ]
  },
  {
   "cell_type": "code",
   "execution_count": null,
   "id": "9812d635-8631-4254-9e27-505eb29b6e1b",
   "metadata": {},
   "outputs": [],
   "source": []
  },
  {
   "cell_type": "markdown",
   "id": "d8d991b3-46b0-4f4c-a257-7798a891a057",
   "metadata": {},
   "source": [
    "# How did you diagnose the model? "
   ]
  },
  {
   "cell_type": "code",
   "execution_count": 70,
   "id": "0c5260d9-ed13-4a1b-a68f-2e5bfb43e5da",
   "metadata": {},
   "outputs": [],
   "source": [
    "# Adding a constant for the intercept since Statsmodels does not add it by default for predictions\n",
    "X_train_with_const = sm.add_constant(X_train, has_constant='add')\n",
    "train_predictions_prob = model_1.predict(X_train_with_const)\n",
    "train_predictions = (train_predictions_prob > 0.5).astype(int)\n"
   ]
  },
  {
   "cell_type": "code",
   "execution_count": 71,
   "id": "a1c3760c-4ffb-49d2-a66a-d1a347c42b21",
   "metadata": {},
   "outputs": [],
   "source": [
    "# Adding a constant for the intercept\n",
    "X_test_with_const = sm.add_constant(X_test, has_constant='add')\n",
    "test_predictions_prob = model_1.predict(X_test_with_const)\n",
    "test_predictions = (test_predictions_prob > 0.5).astype(int)\n"
   ]
  },
  {
   "cell_type": "code",
   "execution_count": 73,
   "id": "db3f3637-8260-44fe-a523-54f5b92dc738",
   "metadata": {},
   "outputs": [],
   "source": [
    "# Metrics for training data\n",
    "train_accuracy = accuracy_score(y_train, train_predictions)\n",
    "train_precision = precision_score(y_train, train_predictions)\n",
    "train_recall = recall_score(y_train, train_predictions)\n",
    "train_f1 = f1_score(y_train, train_predictions)\n",
    "\n",
    "# Metrics for testing data\n",
    "test_accuracy = accuracy_score(y_test, test_predictions)\n",
    "test_precision = precision_score(y_test, test_predictions)\n",
    "test_recall = recall_score(y_test, test_predictions)\n",
    "test_f1 = f1_score(y_test, test_predictions)\n"
   ]
  },
  {
   "cell_type": "markdown",
   "id": "e1ec0e20-fb81-450a-8e27-985fc2edd360",
   "metadata": {},
   "source": [
    "# Is it overfitting, under fitting, or good fitting?"
   ]
  },
  {
   "cell_type": "code",
   "execution_count": 75,
   "id": "7327a74a-aeed-43cb-abd0-7249857bb5d4",
   "metadata": {},
   "outputs": [
    {
     "name": "stdout",
     "output_type": "stream",
     "text": [
      "Training Metrics:\n",
      "Accuracy: 0.7935393258426966, Precision: 0.75, Recall: 0.703971119133574, F1-Score: 0.7262569832402234\n",
      "\n",
      "Testing Metrics:\n",
      "Accuracy: 0.7932960893854749, Precision: 0.7, Recall: 0.7538461538461538, F1-Score: 0.725925925925926\n",
      "The model appears to be well-fitted. It shows no signs of overfitting or underfitting, as evidenced by the very similar performance metrics across training and testing datasets.\n"
     ]
    }
   ],
   "source": [
    "# Print metrics\n",
    "print(\"Training Metrics:\")\n",
    "print(f\"Accuracy: {train_accuracy}, Precision: {train_precision}, Recall: {train_recall}, F1-Score: {train_f1}\")\n",
    "\n",
    "print(\"\\nTesting Metrics:\")\n",
    "print(f\"Accuracy: {test_accuracy}, Precision: {test_precision}, Recall: {test_recall}, F1-Score: {test_f1}\")\n",
    "\n",
    "print('The model appears to be well-fitted. It shows no signs of overfitting or underfitting, as evidenced by the very similar performance metrics across training and testing datasets.')"
   ]
  },
  {
   "cell_type": "markdown",
   "id": "f45c8417-011f-410a-bacf-c584a711317a",
   "metadata": {},
   "source": [
    "# What is your model's results? Is it good? Do you have any concerns?\n",
    "Model appears to be performing well with no major signs of overfitting or underfitting.\n",
    "\n",
    "\r\n",
    "The model's performance is evaluated using several metrics which demonstrate how accurately it predicts outcomes, both during training and testing phases. In training, it achieved an accuracy o**f 79.3**5%, a precision o**f 7**5%, a recall o**f 70.3**9%, and an F1-score o**f 72.6**6%. Similarly, in testing, it maintained consistent performance with an accuracy o**f 79.3**3%, precision o**f 7**0%, recall o**f 75.3**8%, and an F1-score o**f 72.5**9%. These metrics indicate that the model is reliable and generalizes well to new, unseen data, suggesting a balanced approach between how often it is correct (precision) and how complete its predictions are (recall)."
   ]
  },
  {
   "cell_type": "markdown",
   "id": "9f2ae341-0220-4b36-a5ed-b2bb4921cec5",
   "metadata": {},
   "source": [
    "# Do you have any concerns?\n",
    "The slight difference in precision between the training (0.75) and testing (0.70) metrics. \n",
    "While the precision difference is not large, it's good practice to monitor such changes as they might indicate how the model will perform as more data is introduced or in different operational settings. It might also be beneficial to look into model tuning or regularization techniques to minimize overfitting, ensuring that the model remains generalizable and robust."
   ]
  },
  {
   "cell_type": "code",
   "execution_count": null,
   "id": "d726b90b-c27d-4480-a07e-47d1d90b5380",
   "metadata": {},
   "outputs": [],
   "source": []
  }
 ],
 "metadata": {
  "kernelspec": {
   "display_name": "Python 3 (ipykernel)",
   "language": "python",
   "name": "python3"
  },
  "language_info": {
   "codemirror_mode": {
    "name": "ipython",
    "version": 3
   },
   "file_extension": ".py",
   "mimetype": "text/x-python",
   "name": "python",
   "nbconvert_exporter": "python",
   "pygments_lexer": "ipython3",
   "version": "3.11.7"
  }
 },
 "nbformat": 4,
 "nbformat_minor": 5
}
